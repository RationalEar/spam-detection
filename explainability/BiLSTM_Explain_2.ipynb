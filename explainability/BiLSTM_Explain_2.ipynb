{
 "cells": [
  {
   "cell_type": "markdown",
   "id": "3b0cc346f79f899a",
   "metadata": {},
   "source": [
    "#### Explainability of BiLSTM using Attention"
   ]
  },
  {
   "metadata": {},
   "cell_type": "code",
   "execution_count": null,
   "source": [
    "import os\n",
    "import sys\n",
    "\n",
    "if \"google.colab\" in sys.modules:\n",
    "    workspace_dir = '/content/spam-detection'\n",
    "    branch = 'feature/extended-explainability'\n",
    "    current_dir = os.getcwd()\n",
    "    if not os.path.exists(workspace_dir) and current_dir != workspace_dir:\n",
    "        !git clone https://github.com/RationalEar/spam-detection.git\n",
    "        os.chdir(workspace_dir)\n",
    "        !git checkout $branch\n",
    "        !ls -al\n",
    "        !pip install -q transformers==4.48.0 scikit-learn pandas numpy\n",
    "        !pip install -q torch --index-url https://download.pytorch.org/whl/cu126\n",
    "        !pip install captum --no-deps --ignore-installed\n",
    "    else:\n",
    "        os.chdir(workspace_dir)\n",
    "        !git pull origin $branch\n",
    "\n",
    "    from google.colab import drive\n",
    "\n",
    "    drive.mount('/content/drive')"
   ],
   "id": "79867e4373874d69",
   "outputs": []
  },
  {
   "metadata": {},
   "cell_type": "code",
   "outputs": [],
   "execution_count": null,
   "source": [
    "import torch\n",
    "\n",
    "import pandas as pd\n",
    "from utils.constants import DATA_PATH, GLOVE_PATH\n",
    "\n",
    "DATA_PATH"
   ],
   "id": "1360db1eaf4f9b82"
  },
  {
   "metadata": {},
   "cell_type": "code",
   "outputs": [],
   "execution_count": null,
   "source": [
    "# Load the data\n",
    "train_df = pd.read_pickle(DATA_PATH + '/data/processed/train.pkl')\n",
    "test_df = pd.read_pickle(DATA_PATH + '/data/processed/test.pkl')\n",
    "device = torch.device('cuda' if torch.cuda.is_available() else 'cpu')\n",
    "device"
   ],
   "id": "982dab78441b50c6"
  },
  {
   "cell_type": "code",
   "id": "641a94a36b7ff2e3",
   "metadata": {
    "ExecuteTime": {
     "end_time": "2025-06-28T07:45:31.849153Z",
     "start_time": "2025-06-28T07:45:31.424650Z"
    }
   },
   "source": [
    "from utils.functions import set_seed, build_vocab\n",
    "\n",
    "# Build vocabulary and load embeddings\n",
    "set_seed(42)\n",
    "word2idx, idx2word = build_vocab(train_df['text'])\n",
    "embedding_dim = 300\n",
    "max_len = 200"
   ],
   "outputs": [],
   "execution_count": 3
  },
  {
   "cell_type": "code",
   "id": "34b42902b53b33e0",
   "metadata": {
    "ExecuteTime": {
     "end_time": "2025-06-28T07:45:56.531243Z",
     "start_time": "2025-06-28T07:45:31.919125Z"
    }
   },
   "source": [
    "from preprocess.data_loader import load_glove_embeddings\n",
    "\n",
    "pretrained_embeddings = load_glove_embeddings(GLOVE_PATH, word2idx, embedding_dim)"
   ],
   "outputs": [],
   "execution_count": 4
  },
  {
   "cell_type": "code",
   "id": "3c6c6db7f9188f8b",
   "metadata": {
    "ExecuteTime": {
     "end_time": "2025-06-28T07:45:56.717462Z",
     "start_time": "2025-06-28T07:45:56.569664Z"
    }
   },
   "source": [
    "# Load the trained BiLSTM model\n",
    "from models.bilstm import BiLSTMSpam\n",
    "\n",
    "model_path = DATA_PATH + '/trained-models/spam_bilstm_final.pt'\n",
    "model = BiLSTMSpam(vocab_size=len(word2idx), embedding_dim=embedding_dim,\n",
    "                   pretrained_embeddings=pretrained_embeddings)\n",
    "model.load(model_path, map_location=torch.device('cpu'))\n",
    "model = model.to(device)\n",
    "model.eval()"
   ],
   "outputs": [
    {
     "data": {
      "text/plain": [
       "BiLSTMSpam(\n",
       "  (embedding): Embedding(25245, 300)\n",
       "  (lstm): LSTM(300, 128, num_layers=2, batch_first=True, dropout=0.5, bidirectional=True)\n",
       "  (attention): Attention(\n",
       "    (attn): Linear(in_features=256, out_features=1, bias=True)\n",
       "  )\n",
       "  (fc1): Linear(in_features=256, out_features=64, bias=True)\n",
       "  (fc2): Linear(in_features=64, out_features=1, bias=True)\n",
       "  (dropout): Dropout(p=0.5, inplace=False)\n",
       ")"
      ]
     },
     "execution_count": 5,
     "metadata": {},
     "output_type": "execute_result"
    }
   ],
   "execution_count": 5
  },
  {
   "cell_type": "code",
   "id": "4092325026fdc633",
   "metadata": {
    "ExecuteTime": {
     "end_time": "2025-06-28T07:45:56.808023Z",
     "start_time": "2025-06-28T07:45:56.760362Z"
    }
   },
   "source": [
    "from utils.functions import encode\n",
    "\n",
    "# Prepare test data\n",
    "X_test_tensor = torch.tensor([encode(t, word2idx, max_len) for t in test_df['text']])\n",
    "y_test_tensor = torch.tensor(test_df['label'].values, dtype=torch.float32)\n",
    "\n",
    "# Move data to device\n",
    "X_test_tensor = X_test_tensor.to(device)\n",
    "y_test_tensor = y_test_tensor.to(device)"
   ],
   "outputs": [],
   "execution_count": 6
  },
  {
   "cell_type": "code",
   "id": "8634e358623832cc",
   "metadata": {
    "ExecuteTime": {
     "end_time": "2025-06-28T07:45:58.198862Z",
     "start_time": "2025-06-28T07:45:56.832904Z"
    }
   },
   "source": [
    "# Get model predictions\n",
    "with torch.no_grad():\n",
    "    model_output = model(X_test_tensor)\n",
    "    # If model returns a tuple, use the first element (typically the predictions)\n",
    "    if isinstance(model_output, tuple):\n",
    "        y_pred_probs = model_output[0]\n",
    "    else:\n",
    "        y_pred_probs = model_output\n",
    "\n",
    "    y_pred = (y_pred_probs > 0.5).float()"
   ],
   "outputs": [],
   "execution_count": 7
  },
  {
   "cell_type": "markdown",
   "id": "400eb8fd7172eaa8",
   "metadata": {},
   "source": [
    "#### Attention for BiLSTM"
   ]
  },
  {
   "cell_type": "code",
   "id": "b3f69b8891900510",
   "metadata": {
    "ExecuteTime": {
     "end_time": "2025-06-28T07:45:59.460947Z",
     "start_time": "2025-06-28T07:45:58.231533Z"
    }
   },
   "source": [
    "# Generate Attention explanations and compute quality metrics\n",
    "from explainability.BiLSTMAttentionMetrics import BiLSTMAttentionMetrics\n",
    "\n",
    "# Initialize the metrics calculator\n",
    "attention_metrics = BiLSTMAttentionMetrics(\n",
    "    model=model,\n",
    "    word2idx=word2idx,\n",
    "    idx2word=idx2word,\n",
    "    max_len=max_len,\n",
    "    device=device\n",
    ")\n",
    "\n",
    "print(\"BiLSTM Attention Metrics Calculator initialized successfully!\")\n",
    "print(f\"Model device: {next(model.parameters()).device}\")\n",
    "print(f\"Metrics calculator device: {attention_metrics.device}\")\n"
   ],
   "outputs": [
    {
     "name": "stdout",
     "output_type": "stream",
     "text": [
      "BiLSTM Attention Metrics Calculator initialized successfully!\n",
      "Model device: cpu\n",
      "Metrics calculator device: cpu\n"
     ]
    }
   ],
   "execution_count": 8
  },
  {
   "metadata": {},
   "cell_type": "code",
   "source": [
    "from explainability.BiLSTMAttentionMetrics import analyze_test_dataset_influential_words_bilstm\n",
    "\n",
    "# Analyze your test dataset using BiLSTM attention\n",
    "results = analyze_test_dataset_influential_words_bilstm(\n",
    "    model=model,\n",
    "    word2idx=word2idx,\n",
    "    idx2word=idx2word,\n",
    "    test_texts=test_df['text'].tolist(),\n",
    "    test_labels=test_df['label'].tolist(),\n",
    "    device=device,\n",
    "    max_len=max_len,\n",
    "    top_k=20\n",
    ")"
   ],
   "id": "2524d2f4d08359d9",
   "execution_count": null,
   "outputs": []
  },
  {
   "metadata": {},
   "cell_type": "code",
   "outputs": [],
   "execution_count": null,
   "source": "",
   "id": "32847d90835cda8d"
  },
  {
   "metadata": {},
   "cell_type": "code",
   "source": [
    "# Compute overall explanation quality metrics\n",
    "metrics_df, overall_metrics, spam_metrics, ham_metrics = attention_metrics.calculate_overall_metrics(test_df)\n",
    "metrics_df.describe()"
   ],
   "id": "7cf40e9b5ffcd627",
   "execution_count": null,
   "outputs": []
  },
  {
   "metadata": {
    "ExecuteTime": {
     "end_time": "2025-06-28T07:49:49.220608Z",
     "start_time": "2025-06-28T07:49:49.205353Z"
    }
   },
   "cell_type": "code",
   "source": "overall_metrics.describe()",
   "id": "dc6d5637f38e49df",
   "outputs": [
    {
     "data": {
      "text/plain": [
       "{'mean': auc_deletion         0.748638\n",
       " auc_insertion        0.611234\n",
       " comprehensiveness    0.247781\n",
       " jaccard_stability    0.661087\n",
       " true_label           0.346939\n",
       " predicted_prob       0.346949\n",
       " dtype: float64,\n",
       " 'median': auc_deletion         7.857322e-01\n",
       " auc_insertion        7.166749e-01\n",
       " comprehensiveness    1.132333e-06\n",
       " jaccard_stability    6.396825e-01\n",
       " true_label           0.000000e+00\n",
       " predicted_prob       1.465470e-08\n",
       " dtype: float64,\n",
       " 'std': auc_deletion         0.220761\n",
       " auc_insertion        0.351215\n",
       " comprehensiveness    0.421584\n",
       " jaccard_stability    0.232576\n",
       " true_label           0.478443\n",
       " predicted_prob       0.478433\n",
       " dtype: float64}"
      ]
     },
     "execution_count": 16,
     "metadata": {},
     "output_type": "execute_result"
    }
   ],
   "execution_count": 16
  },
  {
   "metadata": {
    "ExecuteTime": {
     "end_time": "2025-06-28T07:50:30.714436Z",
     "start_time": "2025-06-28T07:50:30.706261Z"
    }
   },
   "cell_type": "code",
   "source": "spam_metrics.describe()",
   "id": "59c4ee6bed679ec5",
   "outputs": [
    {
     "data": {
      "text/plain": [
       "auc_deletion         0.878995\n",
       "auc_insertion        0.974886\n",
       "comprehensiveness    0.076916\n",
       "jaccard_stability    0.604318\n",
       "true_label           1.000000\n",
       "predicted_prob       0.970585\n",
       "dtype: float64"
      ]
     },
     "execution_count": 17,
     "metadata": {},
     "output_type": "execute_result"
    }
   ],
   "execution_count": 17
  },
  {
   "metadata": {
    "ExecuteTime": {
     "end_time": "2025-06-28T07:50:49.670020Z",
     "start_time": "2025-06-28T07:50:49.652774Z"
    }
   },
   "cell_type": "code",
   "source": "ham_metrics.describe()",
   "id": "980de2a3c156a5c3",
   "outputs": [
    {
     "data": {
      "text/plain": [
       "auc_deletion         0.679386\n",
       "auc_insertion        0.418044\n",
       "comprehensiveness    0.338553\n",
       "jaccard_stability    0.691245\n",
       "true_label           0.000000\n",
       "predicted_prob       0.015643\n",
       "dtype: float64"
      ]
     },
     "execution_count": 18,
     "metadata": {},
     "output_type": "execute_result"
    }
   ],
   "execution_count": 18
  }
 ],
 "metadata": {
  "kernelspec": {
   "display_name": "Python 3",
   "language": "python",
   "name": "python3"
  },
  "language_info": {
   "codemirror_mode": {
    "name": "ipython",
    "version": 2
   },
   "file_extension": ".py",
   "mimetype": "text/x-python",
   "name": "python",
   "nbconvert_exporter": "python",
   "pygments_lexer": "ipython2",
   "version": "2.7.6"
  }
 },
 "nbformat": 4,
 "nbformat_minor": 5
}
