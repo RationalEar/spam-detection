{
 "cells": [
  {
   "cell_type": "markdown",
   "id": "3b0cc346f79f899a",
   "metadata": {},
   "source": [
    "#### Explainability of BERT using LIME"
   ]
  },
  {
   "cell_type": "code",
   "id": "79867e4373874d69",
   "metadata": {},
   "source": [
    "import os\n",
    "import sys\n",
    "\n",
    "if \"google.colab\" in sys.modules:\n",
    "    workspace_dir = '/content/spam-detection'\n",
    "    branch = 'feature/explainability-timing'\n",
    "    current_dir = os.getcwd()\n",
    "    if not os.path.exists(workspace_dir) and current_dir != workspace_dir:\n",
    "        !git clone https://github.com/RationalEar/spam-detection.git\n",
    "        os.chdir(workspace_dir)\n",
    "        !git checkout $branch\n",
    "        !ls -al\n",
    "        !pip install -q transformers==4.48.0 scikit-learn pandas numpy spacy lime\n",
    "        !pip install -q torch --index-url https://download.pytorch.org/whl/cu126\n",
    "        !pip install captum --no-deps --ignore-installed\n",
    "    else:\n",
    "        os.chdir(workspace_dir)\n",
    "        !git pull origin $branch\n",
    "\n",
    "    from google.colab import drive\n",
    "    drive.mount('/content/drive')"
   ],
   "execution_count": null,
   "outputs": []
  },
  {
   "metadata": {},
   "cell_type": "code",
   "outputs": [
    {
     "data": {
      "text/plain": [
       "'/home/michael/PycharmProjects/spam-detection-data'"
      ]
     },
     "execution_count": 1,
     "metadata": {},
     "output_type": "execute_result"
    }
   ],
   "execution_count": 1,
   "source": [
    "import os\n",
    "import torch\n",
    "\n",
    "import pandas as pd\n",
    "from utils.constants import DATA_PATH, MODEL_SAVE_PATH\n",
    "\n",
    "DATA_PATH"
   ],
   "id": "57279949ec6ce148"
  },
  {
   "cell_type": "code",
   "id": "982dab78441b50c6",
   "metadata": {
    "ExecuteTime": {
     "end_time": "2025-07-01T08:34:36.941029Z",
     "start_time": "2025-07-01T08:34:35.908867Z"
    }
   },
   "source": [
    "# Load the data\n",
    "train_df = pd.read_pickle(DATA_PATH + '/data/processed/train.pkl')\n",
    "test_df = pd.read_pickle(DATA_PATH + '/data/processed/test.pkl')\n",
    "device = torch.device('cuda' if torch.cuda.is_available() else 'cpu')\n",
    "device"
   ],
   "outputs": [],
   "execution_count": 2
  },
  {
   "cell_type": "code",
   "id": "641a94a36b7ff2e3",
   "metadata": {
    "ExecuteTime": {
     "end_time": "2025-07-01T08:34:37.355577Z",
     "start_time": "2025-07-01T08:34:37.154820Z"
    }
   },
   "source": [
    "from utils.functions import set_seed, build_vocab\n",
    "\n",
    "# Build vocabulary and load embeddings\n",
    "set_seed(42)\n",
    "word2idx, idx2word = build_vocab(train_df['text'])\n",
    "embedding_dim = 300\n",
    "max_len = 200\n",
    "pretrained_embeddings = None"
   ],
   "outputs": [],
   "execution_count": 3
  },
  {
   "cell_type": "code",
   "id": "3c6c6db7f9188f8b",
   "metadata": {
    "ExecuteTime": {
     "end_time": "2025-07-01T08:34:43.302744Z",
     "start_time": "2025-07-01T08:34:37.375063Z"
    }
   },
   "source": [
    "from models.bert import SpamBERT\n",
    "from transformers import BertTokenizer\n",
    "\n",
    "# Initialize BERT tokenizer and model\n",
    "tokenizer = BertTokenizer.from_pretrained('bert-base-uncased')\n",
    "model = SpamBERT(dropout=0.2)\n",
    "\n",
    "# Load the trained model weights\n",
    "model_path = os.path.join(MODEL_SAVE_PATH, 'spam_bert_final.pt')\n",
    "model.load_state_dict(torch.load(model_path, map_location=device))\n",
    "model = model.to(device)\n",
    "model.eval()"
   ],
   "outputs": [
    {
     "data": {
      "text/plain": [
       "SpamBERT(\n",
       "  (bert): BertModel(\n",
       "    (embeddings): BertEmbeddings(\n",
       "      (word_embeddings): Embedding(30522, 768, padding_idx=0)\n",
       "      (position_embeddings): Embedding(512, 768)\n",
       "      (token_type_embeddings): Embedding(2, 768)\n",
       "      (LayerNorm): LayerNorm((768,), eps=1e-12, elementwise_affine=True)\n",
       "      (dropout): Dropout(p=0.1, inplace=False)\n",
       "    )\n",
       "    (encoder): BertEncoder(\n",
       "      (layer): ModuleList(\n",
       "        (0-11): 12 x BertLayer(\n",
       "          (attention): BertAttention(\n",
       "            (self): BertSdpaSelfAttention(\n",
       "              (query): Linear(in_features=768, out_features=768, bias=True)\n",
       "              (key): Linear(in_features=768, out_features=768, bias=True)\n",
       "              (value): Linear(in_features=768, out_features=768, bias=True)\n",
       "              (dropout): Dropout(p=0.1, inplace=False)\n",
       "            )\n",
       "            (output): BertSelfOutput(\n",
       "              (dense): Linear(in_features=768, out_features=768, bias=True)\n",
       "              (LayerNorm): LayerNorm((768,), eps=1e-12, elementwise_affine=True)\n",
       "              (dropout): Dropout(p=0.1, inplace=False)\n",
       "            )\n",
       "          )\n",
       "          (intermediate): BertIntermediate(\n",
       "            (dense): Linear(in_features=768, out_features=3072, bias=True)\n",
       "            (intermediate_act_fn): GELUActivation()\n",
       "          )\n",
       "          (output): BertOutput(\n",
       "            (dense): Linear(in_features=3072, out_features=768, bias=True)\n",
       "            (LayerNorm): LayerNorm((768,), eps=1e-12, elementwise_affine=True)\n",
       "            (dropout): Dropout(p=0.1, inplace=False)\n",
       "          )\n",
       "        )\n",
       "      )\n",
       "    )\n",
       "    (pooler): BertPooler(\n",
       "      (dense): Linear(in_features=768, out_features=768, bias=True)\n",
       "      (activation): Tanh()\n",
       "    )\n",
       "  )\n",
       "  (dropout): Dropout(p=0.2, inplace=False)\n",
       "  (classifier): Linear(in_features=768, out_features=1, bias=True)\n",
       ")"
      ]
     },
     "execution_count": 4,
     "metadata": {},
     "output_type": "execute_result"
    }
   ],
   "execution_count": 4
  },
  {
   "cell_type": "code",
   "id": "4092325026fdc633",
   "metadata": {
    "ExecuteTime": {
     "end_time": "2025-07-01T08:34:47.704564Z",
     "start_time": "2025-07-01T08:34:43.328704Z"
    }
   },
   "source": [
    "from models.bert import tokenize_texts\n",
    "\n",
    "# Tokenize test data\n",
    "X_test_input_ids, X_test_attention_mask = tokenize_texts(test_df['text'].tolist(), tokenizer)\n",
    "y_test_tensor = torch.tensor(test_df['label'].values, dtype=torch.float32)\n",
    "\n",
    "# Move data to device\n",
    "X_test_input_ids = X_test_input_ids.to(device)\n",
    "X_test_attention_mask = X_test_attention_mask.to(device)\n",
    "y_test_tensor = y_test_tensor.to(device)\n",
    "\n",
    "print(f\"Test data prepared: {X_test_input_ids.shape[0]} samples\")"
   ],
   "outputs": [
    {
     "name": "stdout",
     "output_type": "stream",
     "text": [
      "Test data prepared: 606 samples\n"
     ]
    }
   ],
   "execution_count": 5
  },
  {
   "cell_type": "code",
   "id": "8634e358623832cc",
   "metadata": {
    "ExecuteTime": {
     "end_time": "2025-07-01T08:39:36.777874Z",
     "start_time": "2025-07-01T08:34:47.732923Z"
    }
   },
   "source": [
    "# Get model predictions using BERT tokenized inputs\n",
    "with torch.no_grad():\n",
    "    model_output = model(\n",
    "        input_ids=X_test_input_ids,\n",
    "        attention_mask=X_test_attention_mask\n",
    "    )\n",
    "    # If model returns a tuple, use the first element (typically the predictions)\n",
    "    if isinstance(model_output, tuple):\n",
    "        y_pred_probs = model_output[0]\n",
    "    else:\n",
    "        y_pred_probs = model_output\n",
    "\n",
    "    y_pred = (y_pred_probs > 0.5).float()\n",
    "\n",
    "print(f\"Model predictions computed for {len(y_pred)} samples\")\n",
    "print(f\"Predicted spam samples: {(y_pred == 1).sum().item()}\")\n",
    "print(f\"Predicted ham samples: {(y_pred == 0).sum().item()}\")"
   ],
   "outputs": [
    {
     "name": "stdout",
     "output_type": "stream",
     "text": [
      "Model predictions computed for 606 samples\n",
      "Predicted spam samples: 194\n",
      "Predicted ham samples: 412\n"
     ]
    }
   ],
   "execution_count": 6
  },
  {
   "cell_type": "code",
   "id": "979bd5ecf93ab688",
   "metadata": {
    "ExecuteTime": {
     "end_time": "2025-07-01T08:39:36.882016Z",
     "start_time": "2025-07-01T08:39:36.866173Z"
    }
   },
   "source": [
    "samples = (150, 357, 402 , 416, 417, 604)\n",
    "# display elements in the test set with the given indices\n",
    "sample_df = test_df.iloc[list(samples)]\n",
    "sample_df"
   ],
   "outputs": [
    {
     "data": {
      "text/plain": [
       "                                subject  \\\n",
       "150                 Seeing is believing   \n",
       "357   Apple Store eNews : November 2002   \n",
       "402  RE: [ILUG] NVIDIA and Debian Woody   \n",
       "416     The Flight to Safety is Upon Us   \n",
       "417   Low cost quality conference calls   \n",
       "604                 Cannabis Difference   \n",
       "\n",
       "                                                  text  label      source  \\\n",
       "150  seeing believing url <URL> author linda grant ...      0    easy_ham   \n",
       "357  apple store enews november 2002 you appear usi...      0    hard_ham   \n",
       "402  re ilug nvidia debian woody hi there now proba...      0  easy_ham_2   \n",
       "416  flight safety upon us s not rush hour traffic ...      1        spam   \n",
       "417  method post enctype text plain> name web addre...      1        spam   \n",
       "604  cannabis difference mid summer customer apprec...      1      spam_2   \n",
       "\n",
       "                                           sender_hash  \\\n",
       "150  e48634bb48df81f58894dfa459d8d363a55131ad80d90b...   \n",
       "357  44a1c8b4d70359a608e144a7037dd2c597de0c2a7e0687...   \n",
       "402  59681d3ae2f9791cb6b5dbc03c79f9f85d24779a117cb2...   \n",
       "416  559aee171ea8552beaf0f2b5558e92ffb8783618238bf1...   \n",
       "417  a2d18e9f5faf44a66cf6aef8e80caa162ddfcbe4b7ea4b...   \n",
       "604  f676dd05f5fb775ee673641fbd40658745176497d83e2a...   \n",
       "\n",
       "                                         reply_to_hash  \\\n",
       "150                                                      \n",
       "357  dc767a94b1b1941f8a66e2fd63d192f5bc284dabe81262...   \n",
       "402                                                      \n",
       "416                                                      \n",
       "417                                                      \n",
       "604  379a3703ef116c1d270d9c2e68e5b08f13a42188d5973c...   \n",
       "\n",
       "                                date  \n",
       "150  Tue, 08 Oct 2002 08:01:07 -0000  \n",
       "357  Wed, 27 Nov 2002 21:12:33 -0800  \n",
       "402  Wed, 04 Dec 2002 04:05:38 -0600  \n",
       "416  Sun, 15 Sep 2002 19:18:58 -0400  \n",
       "417  Sun, 15 Sep 2002 06:55:37 -1900  \n",
       "604  Wed, 05 Aug 2020 04:01:50 -1900  "
      ],
      "text/html": [
       "<div>\n",
       "<style scoped>\n",
       "    .dataframe tbody tr th:only-of-type {\n",
       "        vertical-align: middle;\n",
       "    }\n",
       "\n",
       "    .dataframe tbody tr th {\n",
       "        vertical-align: top;\n",
       "    }\n",
       "\n",
       "    .dataframe thead th {\n",
       "        text-align: right;\n",
       "    }\n",
       "</style>\n",
       "<table border=\"1\" class=\"dataframe\">\n",
       "  <thead>\n",
       "    <tr style=\"text-align: right;\">\n",
       "      <th></th>\n",
       "      <th>subject</th>\n",
       "      <th>text</th>\n",
       "      <th>label</th>\n",
       "      <th>source</th>\n",
       "      <th>sender_hash</th>\n",
       "      <th>reply_to_hash</th>\n",
       "      <th>date</th>\n",
       "    </tr>\n",
       "  </thead>\n",
       "  <tbody>\n",
       "    <tr>\n",
       "      <th>150</th>\n",
       "      <td>Seeing is believing</td>\n",
       "      <td>seeing believing url &lt;URL&gt; author linda grant ...</td>\n",
       "      <td>0</td>\n",
       "      <td>easy_ham</td>\n",
       "      <td>e48634bb48df81f58894dfa459d8d363a55131ad80d90b...</td>\n",
       "      <td></td>\n",
       "      <td>Tue, 08 Oct 2002 08:01:07 -0000</td>\n",
       "    </tr>\n",
       "    <tr>\n",
       "      <th>357</th>\n",
       "      <td>Apple Store eNews : November 2002</td>\n",
       "      <td>apple store enews november 2002 you appear usi...</td>\n",
       "      <td>0</td>\n",
       "      <td>hard_ham</td>\n",
       "      <td>44a1c8b4d70359a608e144a7037dd2c597de0c2a7e0687...</td>\n",
       "      <td>dc767a94b1b1941f8a66e2fd63d192f5bc284dabe81262...</td>\n",
       "      <td>Wed, 27 Nov 2002 21:12:33 -0800</td>\n",
       "    </tr>\n",
       "    <tr>\n",
       "      <th>402</th>\n",
       "      <td>RE: [ILUG] NVIDIA and Debian Woody</td>\n",
       "      <td>re ilug nvidia debian woody hi there now proba...</td>\n",
       "      <td>0</td>\n",
       "      <td>easy_ham_2</td>\n",
       "      <td>59681d3ae2f9791cb6b5dbc03c79f9f85d24779a117cb2...</td>\n",
       "      <td></td>\n",
       "      <td>Wed, 04 Dec 2002 04:05:38 -0600</td>\n",
       "    </tr>\n",
       "    <tr>\n",
       "      <th>416</th>\n",
       "      <td>The Flight to Safety is Upon Us</td>\n",
       "      <td>flight safety upon us s not rush hour traffic ...</td>\n",
       "      <td>1</td>\n",
       "      <td>spam</td>\n",
       "      <td>559aee171ea8552beaf0f2b5558e92ffb8783618238bf1...</td>\n",
       "      <td></td>\n",
       "      <td>Sun, 15 Sep 2002 19:18:58 -0400</td>\n",
       "    </tr>\n",
       "    <tr>\n",
       "      <th>417</th>\n",
       "      <td>Low cost quality conference calls</td>\n",
       "      <td>method post enctype text plain&gt; name web addre...</td>\n",
       "      <td>1</td>\n",
       "      <td>spam</td>\n",
       "      <td>a2d18e9f5faf44a66cf6aef8e80caa162ddfcbe4b7ea4b...</td>\n",
       "      <td></td>\n",
       "      <td>Sun, 15 Sep 2002 06:55:37 -1900</td>\n",
       "    </tr>\n",
       "    <tr>\n",
       "      <th>604</th>\n",
       "      <td>Cannabis Difference</td>\n",
       "      <td>cannabis difference mid summer customer apprec...</td>\n",
       "      <td>1</td>\n",
       "      <td>spam_2</td>\n",
       "      <td>f676dd05f5fb775ee673641fbd40658745176497d83e2a...</td>\n",
       "      <td>379a3703ef116c1d270d9c2e68e5b08f13a42188d5973c...</td>\n",
       "      <td>Wed, 05 Aug 2020 04:01:50 -1900</td>\n",
       "    </tr>\n",
       "  </tbody>\n",
       "</table>\n",
       "</div>"
      ]
     },
     "execution_count": 7,
     "metadata": {},
     "output_type": "execute_result"
    }
   ],
   "execution_count": 7
  },
  {
   "cell_type": "markdown",
   "id": "400eb8fd7172eaa8",
   "metadata": {},
   "source": [
    "#### LIME for BERT"
   ]
  },
  {
   "cell_type": "code",
   "id": "c853dbaa",
   "metadata": {
    "ExecuteTime": {
     "end_time": "2025-07-01T08:39:37.087337Z",
     "start_time": "2025-07-01T08:39:37.011927Z"
    }
   },
   "source": [
    "# Import our BERT LIME explainer\n",
    "from explainability.BertLimeExplainer import BertLimeExplainer\n",
    "\n",
    "# Initialize the BERT LIME explainer\n",
    "lime_explainer = BertLimeExplainer(model, tokenizer, device)\n",
    "\n",
    "print(\"BERT LIME Explainer initialized successfully!\")"
   ],
   "outputs": [
    {
     "name": "stdout",
     "output_type": "stream",
     "text": [
      "BERT LIME Explainer initialized successfully!\n"
     ]
    }
   ],
   "execution_count": 8
  },
  {
   "cell_type": "code",
   "id": "122a117b",
   "metadata": {
    "ExecuteTime": {
     "end_time": "2025-07-01T08:39:37.208597Z",
     "start_time": "2025-07-01T08:39:37.197075Z"
    }
   },
   "source": [
    "# Display sample texts for LIME analysis\n",
    "sample_texts = sample_df['text'].tolist()\n",
    "sample_subjects = sample_df['subject'].tolist()\n",
    "sample_labels = sample_df['label'].tolist()\n",
    "\n",
    "print(\"Sample texts for LIME explanation quality analysis:\")\n",
    "print(\"=\" * 60)\n",
    "for i, (text, label, subject) in enumerate(zip(sample_texts, sample_labels, sample_subjects)):\n",
    "    print(f\"\\nSample {i+1} (Label: {'Spam' if label == 1 else 'Ham'}):\")\n",
    "    print(f\"Text: {subject}\")\n",
    "    \n",
    "print(f\"\\nWe will evaluate LIME explanation quality metrics for these {len(sample_texts)} samples.\")"
   ],
   "outputs": [
    {
     "name": "stdout",
     "output_type": "stream",
     "text": [
      "Sample texts for LIME explanation quality analysis:\n",
      "============================================================\n",
      "\n",
      "Sample 1 (Label: Ham):\n",
      "Text: Seeing is believing\n",
      "\n",
      "Sample 2 (Label: Ham):\n",
      "Text: Apple Store eNews : November 2002\n",
      "\n",
      "Sample 3 (Label: Ham):\n",
      "Text: RE: [ILUG] NVIDIA and Debian Woody\n",
      "\n",
      "Sample 4 (Label: Spam):\n",
      "Text: The Flight to Safety is Upon Us\n",
      "\n",
      "Sample 5 (Label: Spam):\n",
      "Text: Low cost quality conference calls\n",
      "\n",
      "Sample 6 (Label: Spam):\n",
      "Text: Cannabis Difference\n",
      "\n",
      "We will evaluate LIME explanation quality metrics for these 6 samples.\n"
     ]
    }
   ],
   "execution_count": 9
  },
  {
   "cell_type": "code",
   "id": "365af248",
   "metadata": {
    "ExecuteTime": {
     "end_time": "2025-07-01T08:40:59.400499Z",
     "start_time": "2025-07-01T08:39:37.491405Z"
    }
   },
   "source": [
    "# Test LIME functionality with a simple example first\n",
    "print(\"Testing LIME functionality with a simple example...\")\n",
    "\n",
    "# Use a simple test text\n",
    "test_text = \"This is a simple test message to verify LIME works correctly.\"\n",
    "\n",
    "try:\n",
    "    # Test the prediction function first\n",
    "    test_prob = lime_explainer._predict_proba([test_text])\n",
    "    print(f\"Test prediction: {test_prob}\")\n",
    "    \n",
    "    # Test LIME explanation with minimal parameters\n",
    "    print(\"Testing LIME explanation...\")\n",
    "    feature_importance, prediction_prob = lime_explainer.explain_instance(\n",
    "        test_text, \n",
    "        num_features=5, \n",
    "        num_samples=100  # Reduced for testing\n",
    "    )\n",
    "    \n",
    "    print(f\"Test successful! Prediction: {prediction_prob:.4f}\")\n",
    "    print(\"Feature importance:\")\n",
    "    for word, importance in feature_importance:\n",
    "        print(f\"  {word}: {importance:.4f}\")\n",
    "        \n",
    "except Exception as e:\n",
    "    print(f\"Test failed with error: {e}\")\n",
    "    print(\"This needs to be fixed before proceeding with full analysis.\")\n",
    "    \n",
    "print(\"Test complete.\")"
   ],
   "outputs": [
    {
     "name": "stdout",
     "output_type": "stream",
     "text": [
      "Testing LIME functionality with a simple example...\n",
      "Test prediction: [[0.87242773 0.12757227]]\n",
      "Testing LIME explanation...\n",
      "Test successful! Prediction: 0.1276\n",
      "Feature importance:\n",
      "  is: 0.0055\n",
      "  a: 0.0029\n",
      "  simple: 0.0026\n",
      "  correctly: 0.0023\n",
      "  This: 0.0020\n",
      "Test complete.\n"
     ]
    }
   ],
   "execution_count": 10
  },
  {
   "cell_type": "code",
   "id": "986211fb",
   "metadata": {
    "ExecuteTime": {
     "end_time": "2025-07-01T08:41:50.532701Z",
     "start_time": "2025-07-01T08:40:59.482277Z"
    }
   },
   "source": [
    "# Demonstrate basic LIME explanation for the first sample\n",
    "explanation_times = []\n",
    "for i in samples:\n",
    "    selected_text = test_df['text'].iloc[i]\n",
    "    selected_subject = test_df['subject'].iloc[i]\n",
    "    selected_label = 'Spam' if test_df['label'].iloc[i] == 1 else 'Ham'\n",
    "    \n",
    "    print(f\"Demonstrating LIME explanation for Sample 1 ({selected_label}):\")\n",
    "    print(f\"Subject: {selected_subject}\")\n",
    "    print(\"\\n\" + \"=\"*60)\n",
    "    \n",
    "    # Generate LIME explanation\n",
    "    print(\"Generating LIME explanation...\")\n",
    "    start_time = pd.Timestamp.now()\n",
    "    feature_importance, prediction_prob = lime_explainer.explain_instance(\n",
    "        selected_text, \n",
    "        num_features=10, \n",
    "        num_samples=100\n",
    "    )\n",
    "    end_time = pd.Timestamp.now()\n",
    "    prediction_time = end_time - start_time\n",
    "    explanation_times.append(prediction_time.total_seconds())\n",
    "    print(f\"\\nModel prediction probability (spam): {prediction_prob:.4f}\")\n",
    "    print(f\"Predicted class: {'Spam' if prediction_prob > 0.5 else 'Ham'} ({prediction_time})\")\n",
    "    \n",
    "    print(\"\\nTop 10 most important features:\")\n",
    "    print(\"-\" * 40)\n",
    "    for j, (word, importance) in enumerate(feature_importance, 1):\n",
    "        direction = \"→ Spam\" if importance > 0 else \"→ Ham\"\n",
    "        print(f\"{j:2d}. {word:15s} {importance:8.4f} {direction}\")\n"
   ],
   "outputs": [
    {
     "name": "stdout",
     "output_type": "stream",
     "text": [
      "Demonstrating LIME explanation for Sample 1 (Ham):\n",
      "Subject: Seeing is believing\n",
      "\n",
      "============================================================\n",
      "Generating LIME explanation...\n",
      "\n",
      "Model prediction probability (spam): 0.0478\n",
      "Predicted class: Ham (0 days 00:00:51.040688)\n",
      "\n",
      "Top 10 most important features:\n",
      "----------------------------------------\n",
      " 1. author           -0.0010 → Ham\n",
      " 2. believing        -0.0009 → Ham\n",
      " 3. paris             0.0007 → Spam\n",
      " 4. seeing           -0.0006 → Ham\n",
      " 5. she              -0.0006 → Ham\n",
      " 6. url              -0.0006 → Ham\n",
      " 7. until            -0.0005 → Ham\n",
      " 8. what             -0.0004 → Ham\n",
      " 9. URL              -0.0002 → Ham\n",
      "10. grant            -0.0001 → Ham\n"
     ]
    }
   ],
   "execution_count": 11
  },
  {
   "metadata": {},
   "cell_type": "code",
   "outputs": [],
   "execution_count": null,
   "source": [
    "# create explanation time data frame\n",
    "explanation_time_df = pd.DataFrame(explanation_times)\n",
    "explanation_time_df.describe()"
   ],
   "id": "58da89d89b6b3d32"
  },
  {
   "cell_type": "code",
   "id": "582ee18c",
   "metadata": {
    "ExecuteTime": {
     "end_time": "2025-07-01T09:53:07.128978Z",
     "start_time": "2025-07-01T08:41:50.637169Z"
    }
   },
   "source": [
    "# Compute explanation quality metrics for all samples\n",
    "print(\"Computing LIME explanation quality metrics for all samples...\")\n",
    "print(\"=\" * 60)\n",
    "\n",
    "lime_results = []\n",
    "explanation_metrics_time = []\n",
    "for i, (text, subject) in enumerate(zip(sample_texts,sample_subjects)):\n",
    "    print(f\"\\nProcessing Sample {i+1}:\")\n",
    "    print(f\"Subject: {subject}\")\n",
    "    \n",
    "    try:\n",
    "        # Compute metrics using LIME\n",
    "        start_time = pd.Timestamp.now()\n",
    "        metrics = lime_explainer.evaluate_explanation_quality(\n",
    "            text, \n",
    "            verbose=True\n",
    "        )\n",
    "        end_time = pd.Timestamp.now()\n",
    "        prediction_time = (end_time - start_time).total_seconds()\n",
    "        explanation_metrics_time.append(prediction_time)\n",
    "        metrics['sample_id'] = i + 1\n",
    "        metrics['text'] = subject\n",
    "        metrics['label'] = sample_labels[i]\n",
    "        metrics['method'] = 'LIME'\n",
    "        metrics['time'] = prediction_time\n",
    "        \n",
    "        lime_results.append(metrics)\n",
    "        \n",
    "    except Exception as e:\n",
    "        print(f\"Error processing sample {i+1}: {e}\")\n",
    "        continue\n",
    "\n",
    "print(f\"\\nCompleted processing {len(lime_results)} samples with LIME.\")"
   ],
   "outputs": [
    {
     "name": "stdout",
     "output_type": "stream",
     "text": [
      "Computing LIME explanation quality metrics for all samples...\n",
      "============================================================\n",
      "\n",
      "Processing Sample 1:\n",
      "Subject: Seeing is believing\n",
      "Evaluating LIME explanation quality for text: 'seeing believing url <URL> author linda grant neve...'\n",
      "Computing AUC-Del...\n",
      "Computing AUC-Ins...\n",
      "Computing Comprehensiveness...\n",
      "Computing Jaccard Stability...\n",
      "\n",
      "==================================================\n",
      "LIME EXPLANATION QUALITY METRICS\n",
      "==================================================\n",
      "AUC-Deletion:     0.0886 (lower is better)\n",
      "AUC-Insertion:    0.1627 (higher is better)\n",
      "Comprehensiveness: 0.1356 (higher is better)\n",
      "Jaccard Stability: 0.3294 (higher is better)\n",
      "==================================================\n",
      "\n",
      "Processing Sample 2:\n",
      "Subject: Apple Store eNews : November 2002\n",
      "Evaluating LIME explanation quality for text: 'apple store enews november 2002 you appear using e...'\n",
      "Computing AUC-Del...\n",
      "Computing AUC-Ins...\n",
      "Computing Comprehensiveness...\n",
      "Computing Jaccard Stability...\n",
      "\n",
      "==================================================\n",
      "LIME EXPLANATION QUALITY METRICS\n",
      "==================================================\n",
      "AUC-Deletion:     0.0485 (lower is better)\n",
      "AUC-Insertion:    0.0506 (higher is better)\n",
      "Comprehensiveness: 0.0013 (higher is better)\n",
      "Jaccard Stability: 0.1417 (higher is better)\n",
      "==================================================\n",
      "\n",
      "Processing Sample 3:\n",
      "Subject: RE: [ILUG] NVIDIA and Debian Woody\n",
      "Evaluating LIME explanation quality for text: 're ilug nvidia debian woody hi there now probably ...'\n",
      "Computing AUC-Del...\n",
      "Computing AUC-Ins...\n",
      "Computing Comprehensiveness...\n",
      "Computing Jaccard Stability...\n",
      "\n",
      "==================================================\n",
      "LIME EXPLANATION QUALITY METRICS\n",
      "==================================================\n",
      "AUC-Deletion:     0.0515 (lower is better)\n",
      "AUC-Insertion:    0.0515 (higher is better)\n",
      "Comprehensiveness: 0.0002 (higher is better)\n",
      "Jaccard Stability: 0.0111 (higher is better)\n",
      "==================================================\n",
      "\n",
      "Processing Sample 4:\n",
      "Subject: The Flight to Safety is Upon Us\n",
      "Evaluating LIME explanation quality for text: 'flight safety upon us s not rush hour traffic s fl...'\n",
      "Computing AUC-Del...\n",
      "Computing AUC-Ins...\n",
      "Computing Comprehensiveness...\n",
      "Computing Jaccard Stability...\n",
      "\n",
      "==================================================\n",
      "LIME EXPLANATION QUALITY METRICS\n",
      "==================================================\n",
      "AUC-Deletion:     0.9545 (lower is better)\n",
      "AUC-Insertion:    0.9552 (higher is better)\n",
      "Comprehensiveness: 0.0002 (higher is better)\n",
      "Jaccard Stability: 0.0444 (higher is better)\n",
      "==================================================\n",
      "\n",
      "Processing Sample 5:\n",
      "Subject: Low cost quality conference calls\n",
      "Evaluating LIME explanation quality for text: 'method post enctype text plain> name web address c...'\n",
      "Computing AUC-Del...\n",
      "Computing AUC-Ins...\n",
      "Computing Comprehensiveness...\n",
      "Computing Jaccard Stability...\n",
      "\n",
      "==================================================\n",
      "LIME EXPLANATION QUALITY METRICS\n",
      "==================================================\n",
      "AUC-Deletion:     0.8896 (lower is better)\n",
      "AUC-Insertion:    0.9469 (higher is better)\n",
      "Comprehensiveness: 0.0268 (higher is better)\n",
      "Jaccard Stability: 0.1494 (higher is better)\n",
      "==================================================\n",
      "\n",
      "Processing Sample 6:\n",
      "Subject: Cannabis Difference\n",
      "Evaluating LIME explanation quality for text: 'cannabis difference mid summer customer appreciati...'\n",
      "Computing AUC-Del...\n",
      "Computing AUC-Ins...\n",
      "Computing Comprehensiveness...\n",
      "Computing Jaccard Stability...\n",
      "\n",
      "==================================================\n",
      "LIME EXPLANATION QUALITY METRICS\n",
      "==================================================\n",
      "AUC-Deletion:     0.9558 (lower is better)\n",
      "AUC-Insertion:    0.9556 (higher is better)\n",
      "Comprehensiveness: 0.0012 (higher is better)\n",
      "Jaccard Stability: 0.0583 (higher is better)\n",
      "==================================================\n",
      "\n",
      "Completed processing 6 samples with LIME.\n"
     ]
    }
   ],
   "execution_count": 12
  },
  {
   "metadata": {},
   "cell_type": "code",
   "outputs": [],
   "execution_count": null,
   "source": [
    "# create explanation time data frame\n",
    "explanation_metrics_time_df = pd.DataFrame(explanation_metrics_time)\n",
    "explanation_metrics_time_df.describe()"
   ],
   "id": "2eaaff71ecc22abd"
  },
  {
   "cell_type": "code",
   "id": "5823cdaf",
   "metadata": {
    "ExecuteTime": {
     "end_time": "2025-07-01T09:53:07.288007Z",
     "start_time": "2025-07-01T09:53:07.249919Z"
    }
   },
   "source": [
    "# Create comprehensive results summary\n",
    "import pandas as pd\n",
    "\n",
    "if lime_results:\n",
    "    # Convert results to DataFrame for better visualization\n",
    "    lime_df = pd.DataFrame(lime_results)\n",
    "    \n",
    "    print(\"COMPREHENSIVE LIME EXPLANATION QUALITY RESULTS\")\n",
    "    print(\"=\" * 60)\n",
    "    \n",
    "    # Summary statistics\n",
    "    summary_stats = lime_df[['auc_deletion', 'auc_insertion', 'comprehensiveness', 'jaccard_stability']].agg(['mean', 'std', 'min', 'max'])\n",
    "    print(\"\\nSummary Statistics:\")\n",
    "    print(summary_stats)\n",
    "    \n",
    "    # Detailed results by sample\n",
    "    print(\"\\nDetailed Results by Sample:\")\n",
    "    display_cols = ['sample_id', 'auc_deletion', 'auc_insertion', 'comprehensiveness', 'jaccard_stability', 'label', 'time']\n",
    "    print(lime_df[display_cols].to_string(index=False))\n",
    "    \n",
    "    # Analysis by label (Spam vs Ham)\n",
    "    print(\"\\nResults by Label:\")\n",
    "    label_stats = lime_df.groupby('label')[['auc_deletion', 'auc_insertion', 'comprehensiveness', 'jaccard_stability']].mean()\n",
    "    label_stats.index = ['Ham', 'Spam']\n",
    "    print(label_stats)\n",
    "    \n",
    "    # Quality assessment\n",
    "    print(\"\\nQuality Assessment:\")\n",
    "    print(\"-\" * 30)\n",
    "    \n",
    "    # Good explanations should have:\n",
    "    # - Low AUC-Del (< 0.5 is good)\n",
    "    # - High AUC-Ins (> 0.5 is good) \n",
    "    # - High Comprehensiveness (> 0.1 is good)\n",
    "    # - High Jaccard Stability (> 0.5 is good)\n",
    "    \n",
    "    good_auc_del = (lime_df['auc_deletion'] < 0.5).sum()\n",
    "    good_auc_ins = (lime_df['auc_insertion'] > 0.5).sum()\n",
    "    good_comprehensiveness = (lime_df['comprehensiveness'] > 0.1).sum()\n",
    "    good_jaccard = (lime_df['jaccard_stability'] > 0.5).sum()\n",
    "    \n",
    "    total_samples = len(lime_df)\n",
    "    \n",
    "    print(f\"Samples with good AUC-Deletion (< 0.5):     {good_auc_del}/{total_samples} ({good_auc_del/total_samples*100:.1f}%)\")\n",
    "    print(f\"Samples with good AUC-Insertion (> 0.5):    {good_auc_ins}/{total_samples} ({good_auc_ins/total_samples*100:.1f}%)\")\n",
    "    print(f\"Samples with good Comprehensiveness (> 0.1): {good_comprehensiveness}/{total_samples} ({good_comprehensiveness/total_samples*100:.1f}%)\")\n",
    "    print(f\"Samples with good Jaccard Stability (> 0.5): {good_jaccard}/{total_samples} ({good_jaccard/total_samples*100:.1f}%)\")\n",
    "    \n",
    "else:\n",
    "    print(\"No results available for analysis.\")"
   ],
   "outputs": [
    {
     "name": "stdout",
     "output_type": "stream",
     "text": [
      "COMPREHENSIVE LIME EXPLANATION QUALITY RESULTS\n",
      "============================================================\n",
      "\n",
      "Summary Statistics:\n",
      "      auc_deletion  auc_insertion  comprehensiveness  jaccard_stability\n",
      "mean      0.498077       0.520425           0.027529           0.122388\n",
      "std       0.477582       0.475183           0.053945           0.115327\n",
      "min       0.048475       0.050638           0.000151           0.011111\n",
      "max       0.955769       0.955639           0.135554           0.329365\n",
      "\n",
      "Detailed Results by Sample:\n",
      " sample_id  auc_deletion  auc_insertion  comprehensiveness  jaccard_stability  label                   time\n",
      "         1      0.088573       0.162653           0.135554           0.329365      0 0 days 00:11:40.700228\n",
      "         2      0.048475       0.050638           0.001320           0.141667      0 0 days 00:12:16.001974\n",
      "         3      0.051487       0.051465           0.000151           0.011111      0 0 days 00:11:38.770379\n",
      "         4      0.954547       0.955215           0.000152           0.044444      1 0 days 00:11:20.887354\n",
      "         5      0.889609       0.946941           0.026812           0.149405      1 0 days 00:11:13.704435\n",
      "         6      0.955769       0.955639           0.001183           0.058333      1 0 days 00:13:06.421824\n",
      "\n",
      "Results by Label:\n",
      "      auc_deletion  auc_insertion  comprehensiveness  jaccard_stability\n",
      "Ham       0.062845       0.088252           0.045675           0.160714\n",
      "Spam      0.933308       0.952598           0.009382           0.084061\n",
      "\n",
      "Quality Assessment:\n",
      "------------------------------\n",
      "Samples with good AUC-Deletion (< 0.5):     3/6 (50.0%)\n",
      "Samples with good AUC-Insertion (> 0.5):    3/6 (50.0%)\n",
      "Samples with good Comprehensiveness (> 0.1): 1/6 (16.7%)\n",
      "Samples with good Jaccard Stability (> 0.5): 0/6 (0.0%)\n"
     ]
    }
   ],
   "execution_count": 13
  },
  {
   "cell_type": "code",
   "id": "838627a4",
   "metadata": {
    "ExecuteTime": {
     "end_time": "2025-07-01T09:54:03.018514Z",
     "start_time": "2025-07-01T09:53:07.403829Z"
    }
   },
   "source": [
    "# Visualize deletion and insertion curves for the first sample\n",
    "if sample_texts:\n",
    "    selected_text = sample_texts[0]\n",
    "    selected_subject = sample_subjects[0]\n",
    "    selected_label = 'Spam' if sample_labels[0] == 1 else 'Ham'\n",
    "    \n",
    "    print(f\"Visualizing LIME deletion and insertion curves for Sample 1 ({selected_label}):\")\n",
    "    print(f\"Subject: {selected_subject}\")\n",
    "    print(\"\\n\" + \"=\"*60)\n",
    "    \n",
    "    # Plot curves for LIME\n",
    "    print(\"Plotting deletion and insertion curves for LIME explanations:\")\n",
    "    lime_explainer.plot_deletion_insertion_curves(\n",
    "        selected_text, \n",
    "        steps=20\n",
    "    )\n",
    "    \n",
    "else:\n",
    "    print(\"No sample texts available for visualization.\")"
   ],
   "outputs": [
    {
     "name": "stdout",
     "output_type": "stream",
     "text": [
      "Visualizing LIME deletion and insertion curves for Sample 1 (Ham):\n",
      "Subject: Seeing is believing\n",
      "\n",
      "============================================================\n",
      "Plotting deletion and insertion curves for LIME explanations:\n"
     ]
    },
    {
     "data": {
      "text/plain": [
       "<Figure size 1200x500 with 2 Axes>"
      ],
      "image/png": "[encoded data removed]"
     },
     "metadata": {},
     "output_type": "display_data"
    }
   ],
   "execution_count": 14
  },
  {
   "cell_type": "code",
   "id": "15d1200e",
   "metadata": {
    "ExecuteTime": {
     "end_time": "2025-07-01T09:54:03.129665Z",
     "start_time": "2025-07-01T09:54:03.104390Z"
    }
   },
   "source": [
    "# Compare LIME results with other explanation methods (if available)\n",
    "print(\"Comparison with Other Explanation Methods\")\n",
    "print(\"=\" * 60)\n",
    "\n",
    "# Try to load results from BERT_Explain.ipynb if available\n",
    "try:\n",
    "    import os\n",
    "    results_dir = os.path.join(DATA_PATH, 'results', 'explanation_quality')\n",
    "    \n",
    "    # Look for existing results files\n",
    "    bert_ig_file = os.path.join(results_dir, 'bert_explanation_quality_metrics.csv')\n",
    "    bert_ig_alt_file = os.path.join(results_dir, 'bert_ig_metrics.csv')\n",
    "    \n",
    "    comparison_df = None\n",
    "    \n",
    "    if os.path.exists(bert_ig_file):\n",
    "        bert_results = pd.read_csv(bert_ig_file)\n",
    "        print(f\"Loaded BERT Integrated Gradients results from: {bert_ig_file}\")\n",
    "        \n",
    "        # Combine with LIME results for comparison\n",
    "        if lime_results:\n",
    "            lime_df_comparison = lime_df.copy()\n",
    "            comparison_df = pd.concat([bert_results, lime_df_comparison], ignore_index=True)\n",
    "            \n",
    "    elif os.path.exists(bert_ig_alt_file):\n",
    "        bert_results = pd.read_csv(bert_ig_alt_file)\n",
    "        print(f\"Loaded BERT Integrated Gradients results from: {bert_ig_alt_file}\")\n",
    "        \n",
    "        if lime_results:\n",
    "            lime_df_comparison = lime_df.copy()\n",
    "            comparison_df = pd.concat([bert_results, lime_df_comparison], ignore_index=True)\n",
    "    \n",
    "    if comparison_df is not None:\n",
    "        print(\"\\nComparison of Explanation Methods:\")\n",
    "        method_comparison = comparison_df.groupby('method')[['auc_deletion', 'auc_insertion', 'comprehensiveness', 'jaccard_stability']].agg(['mean', 'std'])\n",
    "        print(method_comparison)\n",
    "        \n",
    "        # Create a more readable comparison\n",
    "        print(\"\\nMethod Performance Summary:\")\n",
    "        print(\"-\" * 40)\n",
    "        for method in comparison_df['method'].unique():\n",
    "            method_data = comparison_df[comparison_df['method'] == method]\n",
    "            print(f\"\\n{method}:\")\n",
    "            print(f\"  AUC-Deletion (lower=better):     {method_data['auc_deletion'].mean():.4f} ± {method_data['auc_deletion'].std():.4f}\")\n",
    "            print(f\"  AUC-Insertion (higher=better):   {method_data['auc_insertion'].mean():.4f} ± {method_data['auc_insertion'].std():.4f}\")\n",
    "            print(f\"  Comprehensiveness (higher=better): {method_data['comprehensiveness'].mean():.4f} ± {method_data['comprehensiveness'].std():.4f}\")\n",
    "            print(f\"  Jaccard Stability (higher=better): {method_data['jaccard_stability'].mean():.4f} ± {method_data['jaccard_stability'].std():.4f}\")\n",
    "    else:\n",
    "        print(\"No previous explanation results found for comparison.\")\n",
    "        print(\"Run BERT_Explain.ipynb first to generate comparison data.\")\n",
    "        \n",
    "except Exception as e:\n",
    "    print(f\"Could not load comparison data: {e}\")\n",
    "    print(\"LIME results are available independently.\")"
   ],
   "outputs": [
    {
     "name": "stdout",
     "output_type": "stream",
     "text": [
      "Comparison with Other Explanation Methods\n",
      "============================================================\n",
      "Loaded BERT Integrated Gradients results from: /home/michael/PycharmProjects/spam-detection-data/results/explanation_quality/bert_explanation_quality_metrics.csv\n",
      "\n",
      "Comparison of Explanation Methods:\n",
      "                     auc_deletion           auc_insertion            \\\n",
      "                             mean       std          mean       std   \n",
      "method                                                                \n",
      "Attention_Heads          0.504142  0.292226      0.580991  0.362076   \n",
      "Integrated_Gradients     0.494862  0.315558      0.549866  0.347955   \n",
      "LIME                     0.498077  0.477582      0.520425  0.475183   \n",
      "\n",
      "                     comprehensiveness           jaccard_stability            \n",
      "                                  mean       std              mean       std  \n",
      "method                                                                        \n",
      "Attention_Heads               0.042519  0.051408          0.513228  0.142148  \n",
      "Integrated_Gradients          0.062775  0.095592          0.488558  0.194854  \n",
      "LIME                          0.027529  0.053945          0.122388  0.115327  \n",
      "\n",
      "Method Performance Summary:\n",
      "----------------------------------------\n",
      "\n",
      "Integrated_Gradients:\n",
      "  AUC-Deletion (lower=better):     0.4949 ± 0.3156\n",
      "  AUC-Insertion (higher=better):   0.5499 ± 0.3480\n",
      "  Comprehensiveness (higher=better): 0.0628 ± 0.0956\n",
      "  Jaccard Stability (higher=better): 0.4886 ± 0.1949\n",
      "\n",
      "Attention_Heads:\n",
      "  AUC-Deletion (lower=better):     0.5041 ± 0.2922\n",
      "  AUC-Insertion (higher=better):   0.5810 ± 0.3621\n",
      "  Comprehensiveness (higher=better): 0.0425 ± 0.0514\n",
      "  Jaccard Stability (higher=better): 0.5132 ± 0.1421\n",
      "\n",
      "LIME:\n",
      "  AUC-Deletion (lower=better):     0.4981 ± 0.4776\n",
      "  AUC-Insertion (higher=better):   0.5204 ± 0.4752\n",
      "  Comprehensiveness (higher=better): 0.0275 ± 0.0539\n",
      "  Jaccard Stability (higher=better): 0.1224 ± 0.1153\n"
     ]
    }
   ],
   "execution_count": 15
  },
  {
   "cell_type": "markdown",
   "id": "3be8f306",
   "metadata": {},
   "source": [
    "### Interpretation of LIME Explanation Quality Metrics\n",
    "\n",
    "The explanation quality metrics provide insights into how well LIME explanations perform for our BERT model:\n",
    "\n",
    "#### **1. AUC-Del (Area Under Deletion Curve)**\n",
    "- **Lower values are better** (ideally close to 0)\n",
    "- Measures how quickly the prediction confidence drops when removing the most important words identified by LIME\n",
    "- Good LIME explanations should cause a rapid decrease in confidence when important words are removed\n",
    "\n",
    "#### **2. AUC-Ins (Area Under Insertion Curve)**  \n",
    "- **Higher values are better** (ideally close to 1)\n",
    "- Measures how quickly the prediction confidence increases when adding the most important words identified by LIME\n",
    "- Good LIME explanations should cause confidence to rise quickly when important words are added back\n",
    "\n",
    "#### **3. Comprehensiveness**\n",
    "- **Higher values are better**\n",
    "- Measures the change in prediction when the top-k most important words (identified by LIME) are removed\n",
    "- Good LIME explanations should show significant prediction changes when important words are removed\n",
    "\n",
    "#### **4. Jaccard Stability**\n",
    "- **Higher values are better** (ideally close to 1)\n",
    "- Measures consistency of LIME explanations across slightly perturbed inputs\n",
    "- Good LIME explanations should be stable and identify similar important words across similar inputs\n",
    "\n",
    "#### **LIME vs Other Methods**\n",
    "- **LIME**: Model-agnostic, perturbation-based explanations that identify important words through local approximation\n",
    "- **Integrated Gradients**: Gradient-based attribution that provides fine-grained token-level importance\n",
    "- **Attention Weights**: Uses the attention mechanisms learned by BERT during training\n",
    "\n",
    "Each method has strengths and weaknesses, and comparing their explanation quality helps validate the reliability of our interpretations."
   ]
  },
  {
   "cell_type": "code",
   "id": "6b8c227e",
   "metadata": {
    "ExecuteTime": {
     "end_time": "2025-07-01T09:54:03.206029Z",
     "start_time": "2025-07-01T09:54:03.193991Z"
    }
   },
   "source": [
    "# Save LIME results for further analysis\n",
    "import os\n",
    "\n",
    "# Create results directory if it doesn't exist\n",
    "results_dir = os.path.join(DATA_PATH, 'results', 'explanation_quality')\n",
    "os.makedirs(results_dir, exist_ok=True)\n",
    "\n",
    "# Save LIME results\n",
    "if lime_results:\n",
    "    lime_results_file = os.path.join(results_dir, 'bert_lime_explanation_quality_metrics.csv')\n",
    "    lime_df.to_csv(lime_results_file, index=False)\n",
    "    print(f\"LIME results saved to: {lime_results_file}\")\n",
    "    \n",
    "    # Also save comparison results if available\n",
    "    if 'comparison_df' in locals() and comparison_df is not None:\n",
    "        comparison_file = os.path.join(results_dir, 'bert_all_methods_comparison.csv')\n",
    "        comparison_df.to_csv(comparison_file, index=False)\n",
    "        print(f\"Method comparison results saved to: {comparison_file}\")\n",
    "\n",
    "print(\"\\n\" + \"=\"*60)\n",
    "print(\"BERT LIME EXPLANATION QUALITY ANALYSIS COMPLETE\")\n",
    "print(\"=\"*60)\n",
    "print(\"\\nKey Findings:\")\n",
    "print(\"- Successfully computed AUC-Del, AUC-Ins, Comprehensiveness, and Jaccard Stability using LIME\")\n",
    "print(\"- Generated word-level importance explanations for BERT model\")\n",
    "print(\"- Created deletion and insertion curve visualizations\")\n",
    "print(\"- Analyzed explanation stability across different samples\")\n",
    "\n",
    "if lime_results:\n",
    "    avg_metrics = lime_df[['auc_deletion', 'auc_insertion', 'comprehensiveness', 'jaccard_stability']].mean()\n",
    "    print(f\"\\nAverage LIME Metrics:\")\n",
    "    print(f\"- AUC-Deletion: {avg_metrics['auc_deletion']:.4f} (lower is better)\")\n",
    "    print(f\"- AUC-Insertion: {avg_metrics['auc_insertion']:.4f} (higher is better)\")  \n",
    "    print(f\"- Comprehensiveness: {avg_metrics['comprehensiveness']:.4f} (higher is better)\")\n",
    "    print(f\"- Jaccard Stability: {avg_metrics['jaccard_stability']:.4f} (higher is better)\")\n",
    "\n",
    "print(\"\\nNext Steps:\")\n",
    "print(\"- Compare LIME results with Integrated Gradients and Attention methods\")\n",
    "print(\"- Analyze which explanation method is most reliable for your use case\")\n",
    "print(\"- Use insights to improve model interpretability and trust\")\n",
    "\n",
    "print(f\"\\nResults saved in: {results_dir}\")"
   ],
   "outputs": [
    {
     "name": "stdout",
     "output_type": "stream",
     "text": [
      "LIME results saved to: /home/michael/PycharmProjects/spam-detection-data/results/explanation_quality/bert_lime_explanation_quality_metrics.csv\n",
      "Method comparison results saved to: /home/michael/PycharmProjects/spam-detection-data/results/explanation_quality/bert_all_methods_comparison.csv\n",
      "\n",
      "============================================================\n",
      "BERT LIME EXPLANATION QUALITY ANALYSIS COMPLETE\n",
      "============================================================\n",
      "\n",
      "Key Findings:\n",
      "- Successfully computed AUC-Del, AUC-Ins, Comprehensiveness, and Jaccard Stability using LIME\n",
      "- Generated word-level importance explanations for BERT model\n",
      "- Created deletion and insertion curve visualizations\n",
      "- Analyzed explanation stability across different samples\n",
      "\n",
      "Average LIME Metrics:\n",
      "- AUC-Deletion: 0.4981 (lower is better)\n",
      "- AUC-Insertion: 0.5204 (higher is better)\n",
      "- Comprehensiveness: 0.0275 (higher is better)\n",
      "- Jaccard Stability: 0.1224 (higher is better)\n",
      "\n",
      "Next Steps:\n",
      "- Compare LIME results with Integrated Gradients and Attention methods\n",
      "- Analyze which explanation method is most reliable for your use case\n",
      "- Use insights to improve model interpretability and trust\n",
      "\n",
      "Results saved in: /home/michael/PycharmProjects/spam-detection-data/results/explanation_quality\n"
     ]
    }
   ],
   "execution_count": 16
  }
 ],
 "metadata": {
  "kernelspec": {
   "display_name": "Python 3",
   "language": "python",
   "name": "python3"
  },
  "language_info": {
   "codemirror_mode": {
    "name": "ipython",
    "version": 2
   },
   "file_extension": ".py",
   "mimetype": "text/x-python",
   "name": "python",
   "nbconvert_exporter": "python",
   "pygments_lexer": "ipython2",
   "version": "2.7.6"
  }
 },
 "nbformat": 4,
 "nbformat_minor": 5
}
