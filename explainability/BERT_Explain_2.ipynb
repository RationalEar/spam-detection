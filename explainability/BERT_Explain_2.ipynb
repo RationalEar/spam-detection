{
 "cells": [
  {
   "cell_type": "markdown",
   "id": "3b0cc346f79f899a",
   "metadata": {},
   "source": [
    "#### Explainability of BERT using LayerIntegratedGradients"
   ]
  },
  {
   "cell_type": "code",
   "id": "79867e4373874d69",
   "metadata": {},
   "source": [
    "import os\n",
    "import sys\n",
    "\n",
    "if \"google.colab\" in sys.modules:\n",
    "    workspace_dir = '/content/spam-detection'\n",
    "    branch = 'feature/extended-explainability'\n",
    "    current_dir = os.getcwd()\n",
    "    if not os.path.exists(workspace_dir) and current_dir != workspace_dir:\n",
    "        !git clone https://github.com/RationalEar/spam-detection.git\n",
    "        os.chdir(workspace_dir)\n",
    "        !git checkout $branch\n",
    "        !ls -al\n",
    "        !pip install -q transformers==4.48.0 scikit-learn pandas numpy\n",
    "        !pip install -q torch --index-url https://download.pytorch.org/whl/cu126\n",
    "        !pip install captum --no-deps --ignore-installed\n",
    "    else:\n",
    "        os.chdir(workspace_dir)\n",
    "        !git pull origin $branch\n",
    "\n",
    "    from google.colab import drive\n",
    "\n",
    "    drive.mount('/content/drive')"
   ],
   "outputs": [],
   "execution_count": null
  },
  {
   "metadata": {
    "ExecuteTime": {
     "end_time": "2025-08-16T12:21:42.790223Z",
     "start_time": "2025-08-16T12:21:36.750901Z"
    }
   },
   "cell_type": "code",
   "source": [
    "import os\n",
    "import torch\n",
    "\n",
    "import pandas as pd\n",
    "from utils.constants import DATA_PATH, MODEL_SAVE_PATH\n",
    "\n",
    "DATA_PATH"
   ],
   "id": "2ef380a1afc6497a",
   "outputs": [
    {
     "data": {
      "text/plain": [
       "'/home/michael/PycharmProjects/spam-detection-data'"
      ]
     },
     "execution_count": 1,
     "metadata": {},
     "output_type": "execute_result"
    }
   ],
   "execution_count": 1
  },
  {
   "cell_type": "code",
   "id": "982dab78441b50c6",
   "metadata": {
    "ExecuteTime": {
     "end_time": "2025-08-16T12:21:47.642240Z",
     "start_time": "2025-08-16T12:21:45.613516Z"
    }
   },
   "source": [
    "# Load the data\n",
    "train_df = pd.read_pickle(DATA_PATH + '/data/processed/train.pkl')\n",
    "test_df = pd.read_pickle(DATA_PATH + '/data/processed/test.pkl')\n",
    "device = torch.device('cuda' if torch.cuda.is_available() else 'cpu')\n",
    "device = 'cpu'"
   ],
   "outputs": [],
   "execution_count": 2
  },
  {
   "cell_type": "code",
   "id": "641a94a36b7ff2e3",
   "metadata": {
    "ExecuteTime": {
     "end_time": "2025-08-16T12:21:50.134685Z",
     "start_time": "2025-08-16T12:21:49.533950Z"
    }
   },
   "source": [
    "from utils.functions import set_seed, build_vocab\n",
    "\n",
    "# Build vocabulary and load embeddings\n",
    "set_seed(42)\n",
    "word2idx, idx2word = build_vocab(train_df['text'])\n",
    "embedding_dim = 300\n",
    "max_len = 200\n",
    "pretrained_embeddings = None"
   ],
   "outputs": [],
   "execution_count": 3
  },
  {
   "cell_type": "code",
   "id": "3c6c6db7f9188f8b",
   "metadata": {
    "ExecuteTime": {
     "end_time": "2025-08-16T12:22:03.069472Z",
     "start_time": "2025-08-16T12:21:52.068537Z"
    }
   },
   "source": [
    "from models.bert import SpamBERT\n",
    "from transformers import BertTokenizer\n",
    "\n",
    "# Initialize BERT tokenizer and model\n",
    "tokenizer = BertTokenizer.from_pretrained('bert-base-uncased')\n",
    "model = SpamBERT(dropout=0.2)\n",
    "\n",
    "# Load the trained model weights\n",
    "model_path = os.path.join(MODEL_SAVE_PATH, 'spam_bert_final.pt')\n",
    "model.load_state_dict(torch.load(model_path, map_location=device))\n",
    "model = model.to(device)\n",
    "model.eval()"
   ],
   "outputs": [
    {
     "data": {
      "text/plain": [
       "SpamBERT(\n",
       "  (bert): BertModel(\n",
       "    (embeddings): BertEmbeddings(\n",
       "      (word_embeddings): Embedding(30522, 768, padding_idx=0)\n",
       "      (position_embeddings): Embedding(512, 768)\n",
       "      (token_type_embeddings): Embedding(2, 768)\n",
       "      (LayerNorm): LayerNorm((768,), eps=1e-12, elementwise_affine=True)\n",
       "      (dropout): Dropout(p=0.1, inplace=False)\n",
       "    )\n",
       "    (encoder): BertEncoder(\n",
       "      (layer): ModuleList(\n",
       "        (0-11): 12 x BertLayer(\n",
       "          (attention): BertAttention(\n",
       "            (self): BertSdpaSelfAttention(\n",
       "              (query): Linear(in_features=768, out_features=768, bias=True)\n",
       "              (key): Linear(in_features=768, out_features=768, bias=True)\n",
       "              (value): Linear(in_features=768, out_features=768, bias=True)\n",
       "              (dropout): Dropout(p=0.1, inplace=False)\n",
       "            )\n",
       "            (output): BertSelfOutput(\n",
       "              (dense): Linear(in_features=768, out_features=768, bias=True)\n",
       "              (LayerNorm): LayerNorm((768,), eps=1e-12, elementwise_affine=True)\n",
       "              (dropout): Dropout(p=0.1, inplace=False)\n",
       "            )\n",
       "          )\n",
       "          (intermediate): BertIntermediate(\n",
       "            (dense): Linear(in_features=768, out_features=3072, bias=True)\n",
       "            (intermediate_act_fn): GELUActivation()\n",
       "          )\n",
       "          (output): BertOutput(\n",
       "            (dense): Linear(in_features=3072, out_features=768, bias=True)\n",
       "            (LayerNorm): LayerNorm((768,), eps=1e-12, elementwise_affine=True)\n",
       "            (dropout): Dropout(p=0.1, inplace=False)\n",
       "          )\n",
       "        )\n",
       "      )\n",
       "    )\n",
       "    (pooler): BertPooler(\n",
       "      (dense): Linear(in_features=768, out_features=768, bias=True)\n",
       "      (activation): Tanh()\n",
       "    )\n",
       "  )\n",
       "  (dropout): Dropout(p=0.2, inplace=False)\n",
       "  (classifier): Linear(in_features=768, out_features=1, bias=True)\n",
       ")"
      ]
     },
     "execution_count": 4,
     "metadata": {},
     "output_type": "execute_result"
    }
   ],
   "execution_count": 4
  },
  {
   "cell_type": "code",
   "id": "4092325026fdc633",
   "metadata": {
    "ExecuteTime": {
     "end_time": "2025-08-16T12:22:13.855160Z",
     "start_time": "2025-08-16T12:22:06.958141Z"
    }
   },
   "source": [
    "from models.bert import tokenize_texts\n",
    "\n",
    "# Tokenize test data\n",
    "X_test_input_ids, X_test_attention_mask = tokenize_texts(test_df['text'].tolist(), tokenizer)\n",
    "y_test_tensor = torch.tensor(test_df['label'].values, dtype=torch.float32)\n",
    "\n",
    "# Move data to device\n",
    "X_test_input_ids = X_test_input_ids.to(device)\n",
    "X_test_attention_mask = X_test_attention_mask.to(device)\n",
    "y_test_tensor = y_test_tensor.to(device)\n",
    "\n",
    "print(f\"Test data prepared: {X_test_input_ids.shape[0]} samples\")"
   ],
   "outputs": [
    {
     "name": "stdout",
     "output_type": "stream",
     "text": [
      "Test data prepared: 606 samples\n"
     ]
    }
   ],
   "execution_count": 5
  },
  {
   "cell_type": "code",
   "id": "8634e358623832cc",
   "metadata": {
    "ExecuteTime": {
     "end_time": "2025-08-16T12:34:29.983883Z",
     "start_time": "2025-08-16T12:22:37.751979Z"
    }
   },
   "source": [
    "# Get model predictions using BERT tokenized inputs\n",
    "with torch.no_grad():\n",
    "    model_output = model(\n",
    "        input_ids=X_test_input_ids,\n",
    "        attention_mask=X_test_attention_mask\n",
    "    )\n",
    "    # If model returns a tuple, use the first element (typically the predictions)\n",
    "    if isinstance(model_output, tuple):\n",
    "        y_pred_probs = model_output[0]\n",
    "    else:\n",
    "        y_pred_probs = model_output\n",
    "\n",
    "    y_pred = (y_pred_probs > 0.5).float()\n",
    "\n",
    "print(f\"Model predictions computed for {len(y_pred)} samples\")\n",
    "print(f\"Predicted spam samples: {(y_pred == 1).sum().item()}\")\n",
    "print(f\"Predicted ham samples: {(y_pred == 0).sum().item()}\")"
   ],
   "outputs": [
    {
     "name": "stdout",
     "output_type": "stream",
     "text": [
      "Model predictions computed for 606 samples\n",
      "Predicted spam samples: 194\n",
      "Predicted ham samples: 412\n"
     ]
    }
   ],
   "execution_count": 6
  },
  {
   "metadata": {
    "jupyter": {
     "is_executing": true
    },
    "ExecuteTime": {
     "start_time": "2025-08-16T12:34:45.193515Z"
    }
   },
   "cell_type": "code",
   "source": [
    "from explainability.BertExplanationMetrics import analyze_test_dataset_influential_words\n",
    "\n",
    "# Analyze your test dataset\n",
    "results = analyze_test_dataset_influential_words(\n",
    "    model=model,\n",
    "    tokenizer=tokenizer,\n",
    "    test_texts=test_df['text'].tolist(),\n",
    "    test_labels=test_df['label'].tolist(),\n",
    "    device=device,\n",
    "    top_k=20,\n",
    "    method='integrated_gradients'\n",
    ")"
   ],
   "id": "e6df8035b4ddac21",
   "outputs": [
    {
     "name": "stdout",
     "output_type": "stream",
     "text": [
      "Initializing BERT explanation analyzer...\n",
      "Analyzing top 20 influential words using integrated_gradients...\n",
      "Analyzing 606 texts for influential words using integrated_gradients...\n",
      "Processed 10/606 texts...\n",
      "Processed 20/606 texts...\n"
     ]
    }
   ],
   "execution_count": null
  },
  {
   "metadata": {},
   "cell_type": "code",
   "source": [
    "overall_df = pd.DataFrame(results['top_overall_words'])\n",
    "spam_df = pd.DataFrame(results['top_spam_words'])\n",
    "ham_df = pd.DataFrame(results['top_ham_words'])\n",
    "discriminative_df = pd.DataFrame(results['top_discriminative_words'])"
   ],
   "id": "bfb19a327a4aa026",
   "outputs": [],
   "execution_count": null
  },
  {
   "metadata": {},
   "cell_type": "code",
   "outputs": [],
   "execution_count": null,
   "source": "print(f\"Unique words in spam: {results['statistics']['spam_unique_words']}\")",
   "id": "4cc7bd6d6cc63542"
  },
  {
   "cell_type": "markdown",
   "id": "400eb8fd7172eaa8",
   "metadata": {},
   "source": [
    "#### LayerIntegratedGradients for BERT"
   ]
  },
  {
   "cell_type": "code",
   "id": "e402bab1",
   "metadata": {},
   "source": [
    "from explainability.BertExplanationMetrics import BertExplanationMetrics\n",
    "\n",
    "# Initialize the BERT explanation quality metrics calculator\n",
    "quality_evaluator = BertExplanationMetrics(model, tokenizer, device)\n",
    "\n",
    "print(\"BERT Explanation Quality Metrics Calculator initialized successfully!\")"
   ],
   "outputs": [],
   "execution_count": null
  },
  {
   "cell_type": "code",
   "id": "1b1f8032",
   "metadata": {},
   "source": [
    "# Compute explanation quality metrics using Integrated Gradients\n",
    "print(\"Computing explanation quality metrics using LayerIntegratedGradients...\")\n",
    "print(\"=\" * 60)\n",
    "\n",
    "ig_results = []\n",
    "\n",
    "for (i, row) in test_df.iterrows():\n",
    "    text = row['text']\n",
    "    subject = row['subject']\n",
    "    try:\n",
    "        # Compute metrics using Integrated Gradients\n",
    "        metrics = quality_evaluator.evaluate_explanation_quality(\n",
    "            text,\n",
    "            subject=subject,\n",
    "            method='integrated_gradients', \n",
    "            verbose=False\n",
    "        )\n",
    "        \n",
    "        metrics['sample_id'] = i + 1\n",
    "        metrics['text'] = subject\n",
    "        metrics['label'] = 'Spam' if row['label'] == 1 else 'Ham'\n",
    "        \n",
    "        ig_results.append(metrics)\n",
    "        \n",
    "    except Exception as e:\n",
    "        print(f\"Error processing sample {i+1}: {e}\")\n",
    "        continue\n",
    "\n",
    "print(f\"\\nCompleted processing {len(ig_results)} samples with Integrated Gradients.\")"
   ],
   "outputs": [],
   "execution_count": null
  },
  {
   "metadata": {},
   "cell_type": "code",
   "source": [
    "metrics_df = pd.DataFrame(ig_results)\n",
    "metrics_df"
   ],
   "id": "57da59032b26258e",
   "outputs": [],
   "execution_count": null
  },
  {
   "cell_type": "code",
   "id": "349a6614",
   "metadata": {},
   "source": [
    "# Compute explanation quality metrics using Attention Heads\n",
    "print(\"Computing explanation quality metrics using Attention Heads...\")\n",
    "print(\"=\" * 60)\n",
    "\n",
    "attention_results = []\n",
    "for (i, row) in test_df.iterrows():\n",
    "    text = row['text']\n",
    "    try:\n",
    "        # Compute metrics using Attention Weights\n",
    "        metrics = quality_evaluator.evaluate_explanation_quality(\n",
    "            text,\n",
    "            subject=row['subject'],\n",
    "            method='attention', \n",
    "            verbose=True\n",
    "        )\n",
    "        \n",
    "        metrics['sample_id'] = i + 1\n",
    "        metrics['text'] = row['subject']\n",
    "        metrics['label'] = 'Spam' if row['label'] == 1 else 'Ham'\n",
    "        \n",
    "        attention_results.append(metrics)\n",
    "        \n",
    "    except Exception as e:\n",
    "        print(f\"Error processing sample {i+1}: {e}\")\n",
    "        continue\n",
    "\n",
    "print(f\"\\nCompleted processing {len(attention_results)} samples with Attention Heads.\")"
   ],
   "outputs": [],
   "execution_count": null
  },
  {
   "metadata": {},
   "cell_type": "code",
   "source": [
    "attention_metrics_df = pd.DataFrame(attention_results)\n",
    "attention_metrics_df"
   ],
   "id": "2767dd5221d5bac",
   "outputs": [],
   "execution_count": null
  },
  {
   "cell_type": "code",
   "id": "b6332860",
   "metadata": {},
   "source": [
    "# Create comprehensive results summary\n",
    "import pandas as pd\n",
    "\n",
    "# Convert results to DataFrames for better visualization\n",
    "if ig_results:\n",
    "    ig_df = pd.DataFrame(ig_results)\n",
    "    ig_df['method'] = 'Integrated_Gradients'\n",
    "\n",
    "if attention_results:\n",
    "    attention_df = pd.DataFrame(attention_results)\n",
    "    attention_df['method'] = 'Attention_Heads'\n",
    "\n",
    "# Combine results if both methods were successful\n",
    "if ig_results and attention_results:\n",
    "    combined_df = pd.concat([ig_df, attention_df], ignore_index=True)\n",
    "    \n",
    "    print(\"COMPREHENSIVE EXPLANATION QUALITY RESULTS\")\n",
    "    print(\"=\" * 60)\n",
    "    \n",
    "    # Summary statistics by method\n",
    "    summary_stats = combined_df.groupby('method')[['auc_deletion', 'auc_insertion', 'comprehensiveness', 'jaccard_stability']].agg(['mean', 'std'])\n",
    "    print(\"\\nSummary Statistics by Method:\")\n",
    "    print(summary_stats)\n",
    "    \n",
    "    # Detailed results by sample\n",
    "    print(\"\\nDetailed Results by Sample:\")\n",
    "    display_cols = ['sample_id', 'method', 'auc_deletion', 'auc_insertion', 'comprehensiveness', 'jaccard_stability', 'label']\n",
    "    print(combined_df[display_cols].to_string(index=False))\n",
    "    \n",
    "elif ig_results:\n",
    "    print(\"Results using Integrated Gradients only:\")\n",
    "    display_cols = ['sample_id', 'auc_deletion', 'auc_insertion', 'comprehensiveness', 'jaccard_stability', 'label']\n",
    "    print(ig_df[display_cols].to_string(index=False))\n",
    "    \n",
    "elif attention_results:\n",
    "    print(\"Results using Attention Heads only:\")\n",
    "    display_cols = ['sample_id', 'auc_deletion', 'auc_insertion', 'comprehensiveness', 'jaccard_stability', 'label']\n",
    "    print(attention_df[display_cols].to_string(index=False))\n",
    "    \n",
    "else:\n",
    "    print(\"No results available for analysis.\")"
   ],
   "outputs": [],
   "execution_count": null
  },
  {
   "cell_type": "code",
   "id": "e9035d5b",
   "metadata": {},
   "source": [
    "# Save results for further analysis\n",
    "import os\n",
    "\n",
    "# Create results directory if it doesn't exist\n",
    "results_dir = os.path.join(DATA_PATH, 'results', 'explanation_quality')\n",
    "os.makedirs(results_dir, exist_ok=True)\n",
    "\n",
    "# Save detailed results\n",
    "if 'combined_df' in locals():\n",
    "    results_file = os.path.join(results_dir, 'bert_explanation_quality_metrics.csv')\n",
    "    combined_df.to_csv(results_file, index=False)\n",
    "    print(f\"Detailed results saved to: {results_file}\")\n",
    "elif 'ig_df' in locals():\n",
    "    results_file = os.path.join(results_dir, 'bert_ig_metrics.csv')\n",
    "    ig_df.to_csv(results_file, index=False)\n",
    "    print(f\"Integrated Gradients results saved to: {results_file}\")\n",
    "elif 'attention_df' in locals():\n",
    "    results_file = os.path.join(results_dir, 'bert_attention_metrics.csv')\n",
    "    attention_df.to_csv(results_file, index=False)\n",
    "    print(f\"Attention results saved to: {results_file}\")\n",
    "\n",
    "print(\"\\n\" + \"=\"*60)\n",
    "print(\"BERT EXPLANATION QUALITY ANALYSIS COMPLETE\")\n",
    "print(\"=\"*60)\n",
    "print(\"\\nKey Findings:\")\n",
    "print(\"- Successfully computed AUC-Del, AUC-Ins, Comprehensiveness, and Jaccard Stability\")\n",
    "print(\"- Compared LayerIntegratedGradients vs Attention Head explanations\")\n",
    "print(\"- Generated deletion and insertion curve visualizations\")\n",
    "print(\"\\nNext Steps:\")\n",
    "print(\"- Analyze metric patterns across spam vs ham samples\")\n",
    "print(\"- Compare with other model explanation methods\")  \n",
    "print(\"- Use insights to improve model interpretability\")\n",
    "\n",
    "print(f\"\\nResults saved in: {results_dir}\")"
   ],
   "outputs": [],
   "execution_count": null
  },
  {
   "metadata": {},
   "cell_type": "code",
   "source": "",
   "id": "8f045d693f8e32cf",
   "outputs": [],
   "execution_count": null
  }
 ],
 "metadata": {
  "kernelspec": {
   "display_name": "Python 3",
   "language": "python",
   "name": "python3"
  },
  "language_info": {
   "codemirror_mode": {
    "name": "ipython",
    "version": 2
   },
   "file_extension": ".py",
   "mimetype": "text/x-python",
   "name": "python",
   "nbconvert_exporter": "python",
   "pygments_lexer": "ipython2",
   "version": "2.7.6"
  }
 },
 "nbformat": 4,
 "nbformat_minor": 5
}
