{
 "cells": [
  {
   "cell_type": "markdown",
   "id": "3b0cc346f79f899a",
   "metadata": {},
   "source": [
    "#### Explainability of BERT using LayerIntegratedGradients"
   ]
  },
  {
   "cell_type": "code",
   "execution_count": null,
   "id": "79867e4373874d69",
   "metadata": {},
   "source": [
    "import os\n",
    "import sys\n",
    "\n",
    "if \"google.colab\" in sys.modules:\n",
    "    workspace_dir = '/content/spam-detection'\n",
    "    branch = 'master'\n",
    "    current_dir = os.getcwd()\n",
    "    if not os.path.exists(workspace_dir) and current_dir != workspace_dir:\n",
    "        !git clone https://github.com/RationalEar/spam-detection.git\n",
    "        os.chdir(workspace_dir)\n",
    "        !git checkout $branch\n",
    "        !ls -al\n",
    "        !pip install -q transformers==4.48.0 scikit-learn pandas numpy\n",
    "        !pip install -q torch --index-url https://download.pytorch.org/whl/cu126\n",
    "        !pip install captum --no-deps --ignore-installed\n",
    "    else:\n",
    "        os.chdir(workspace_dir)\n",
    "        !git pull origin $branch\n",
    "\n",
    "    from google.colab import drive\n",
    "\n",
    "    drive.mount('/content/drive')"
   ],
   "outputs": []
  },
  {
   "metadata": {},
   "cell_type": "code",
   "outputs": [
    {
     "data": {
      "text/plain": [
       "'/home/michael/PycharmProjects/spam-detection-data'"
      ]
     },
     "execution_count": 1,
     "metadata": {},
     "output_type": "execute_result"
    }
   ],
   "execution_count": 1,
   "source": [
    "import os\n",
    "import torch\n",
    "\n",
    "import pandas as pd\n",
    "from utils.constants import DATA_PATH, MODEL_SAVE_PATH\n",
    "\n",
    "DATA_PATH"
   ],
   "id": "2ef380a1afc6497a"
  },
  {
   "cell_type": "code",
   "execution_count": 2,
   "id": "982dab78441b50c6",
   "metadata": {
    "ExecuteTime": {
     "end_time": "2025-06-30T10:05:26.071501Z",
     "start_time": "2025-06-30T10:05:25.254130Z"
    }
   },
   "outputs": [],
   "source": [
    "# Load the data\n",
    "train_df = pd.read_pickle(DATA_PATH + '/data/processed/train.pkl')\n",
    "test_df = pd.read_pickle(DATA_PATH + '/data/processed/test.pkl')\n",
    "device = 'cpu'"
   ]
  },
  {
   "cell_type": "code",
   "execution_count": 3,
   "id": "641a94a36b7ff2e3",
   "metadata": {
    "ExecuteTime": {
     "end_time": "2025-06-30T10:05:26.294929Z",
     "start_time": "2025-06-30T10:05:26.088322Z"
    }
   },
   "outputs": [],
   "source": [
    "from utils.functions import set_seed, build_vocab\n",
    "\n",
    "# Build vocabulary and load embeddings\n",
    "set_seed(42)\n",
    "word2idx, idx2word = build_vocab(train_df['text'])\n",
    "embedding_dim = 300\n",
    "max_len = 200\n",
    "pretrained_embeddings = None"
   ]
  },
  {
   "cell_type": "code",
   "execution_count": 4,
   "id": "3c6c6db7f9188f8b",
   "metadata": {
    "ExecuteTime": {
     "end_time": "2025-06-30T10:05:32.231017Z",
     "start_time": "2025-06-30T10:05:26.313007Z"
    }
   },
   "outputs": [
    {
     "data": {
      "text/plain": [
       "SpamBERT(\n",
       "  (bert): BertModel(\n",
       "    (embeddings): BertEmbeddings(\n",
       "      (word_embeddings): Embedding(30522, 768, padding_idx=0)\n",
       "      (position_embeddings): Embedding(512, 768)\n",
       "      (token_type_embeddings): Embedding(2, 768)\n",
       "      (LayerNorm): LayerNorm((768,), eps=1e-12, elementwise_affine=True)\n",
       "      (dropout): Dropout(p=0.1, inplace=False)\n",
       "    )\n",
       "    (encoder): BertEncoder(\n",
       "      (layer): ModuleList(\n",
       "        (0-11): 12 x BertLayer(\n",
       "          (attention): BertAttention(\n",
       "            (self): BertSdpaSelfAttention(\n",
       "              (query): Linear(in_features=768, out_features=768, bias=True)\n",
       "              (key): Linear(in_features=768, out_features=768, bias=True)\n",
       "              (value): Linear(in_features=768, out_features=768, bias=True)\n",
       "              (dropout): Dropout(p=0.1, inplace=False)\n",
       "            )\n",
       "            (output): BertSelfOutput(\n",
       "              (dense): Linear(in_features=768, out_features=768, bias=True)\n",
       "              (LayerNorm): LayerNorm((768,), eps=1e-12, elementwise_affine=True)\n",
       "              (dropout): Dropout(p=0.1, inplace=False)\n",
       "            )\n",
       "          )\n",
       "          (intermediate): BertIntermediate(\n",
       "            (dense): Linear(in_features=768, out_features=3072, bias=True)\n",
       "            (intermediate_act_fn): GELUActivation()\n",
       "          )\n",
       "          (output): BertOutput(\n",
       "            (dense): Linear(in_features=3072, out_features=768, bias=True)\n",
       "            (LayerNorm): LayerNorm((768,), eps=1e-12, elementwise_affine=True)\n",
       "            (dropout): Dropout(p=0.1, inplace=False)\n",
       "          )\n",
       "        )\n",
       "      )\n",
       "    )\n",
       "    (pooler): BertPooler(\n",
       "      (dense): Linear(in_features=768, out_features=768, bias=True)\n",
       "      (activation): Tanh()\n",
       "    )\n",
       "  )\n",
       "  (dropout): Dropout(p=0.2, inplace=False)\n",
       "  (classifier): Linear(in_features=768, out_features=1, bias=True)\n",
       ")"
      ]
     },
     "execution_count": 4,
     "metadata": {},
     "output_type": "execute_result"
    }
   ],
   "source": [
    "from models.bert import SpamBERT\n",
    "from transformers import BertTokenizer\n",
    "\n",
    "# Initialize BERT tokenizer and model\n",
    "tokenizer = BertTokenizer.from_pretrained('bert-base-uncased')\n",
    "model = SpamBERT(dropout=0.2)\n",
    "\n",
    "# Load the trained model weights\n",
    "model_path = os.path.join(MODEL_SAVE_PATH, 'spam_bert_final.pt')\n",
    "model.load_state_dict(torch.load(model_path, map_location=device))\n",
    "model = model.to(device)\n",
    "model.eval()"
   ]
  },
  {
   "cell_type": "code",
   "execution_count": null,
   "id": "4092325026fdc633",
   "metadata": {
    "ExecuteTime": {
     "end_time": "2025-06-30T10:05:32.341546Z",
     "start_time": "2025-06-30T10:05:32.289053Z"
    }
   },
   "outputs": [],
   "source": [
    "from models.bert import tokenize_texts\n",
    "\n",
    "# Tokenize test data\n",
    "X_test_input_ids, X_test_attention_mask = tokenize_texts(test_df['text'].tolist(), tokenizer)\n",
    "y_test_tensor = torch.tensor(test_df['label'].values, dtype=torch.float32)\n",
    "\n",
    "# Move data to device\n",
    "X_test_input_ids = X_test_input_ids.to(device)\n",
    "X_test_attention_mask = X_test_attention_mask.to(device)\n",
    "y_test_tensor = y_test_tensor.to(device)\n",
    "\n",
    "print(f\"Test data prepared: {X_test_input_ids.shape[0]} samples\")"
   ]
  },
  {
   "cell_type": "code",
   "execution_count": null,
   "id": "8634e358623832cc",
   "metadata": {
    "ExecuteTime": {
     "end_time": "2025-06-30T10:07:32.637453Z",
     "start_time": "2025-06-30T10:05:32.370145Z"
    }
   },
   "outputs": [
    {
     "name": "stderr",
     "output_type": "stream",
     "text": [
      "We strongly recommend passing in an `attention_mask` since your input_ids may be padded. See https://huggingface.co/docs/transformers/troubleshooting#incorrect-output-when-padding-tokens-arent-masked.\n"
     ]
    }
   ],
   "source": [
    "# Get model predictions using BERT tokenized inputs\n",
    "with torch.no_grad():\n",
    "    model_output = model(\n",
    "        input_ids=X_test_input_ids,\n",
    "        attention_mask=X_test_attention_mask\n",
    "    )\n",
    "    # If model returns a tuple, use the first element (typically the predictions)\n",
    "    if isinstance(model_output, tuple):\n",
    "        y_pred_probs = model_output[0]\n",
    "    else:\n",
    "        y_pred_probs = model_output\n",
    "\n",
    "    y_pred = (y_pred_probs > 0.5).float()\n",
    "\n",
    "print(f\"Model predictions computed for {len(y_pred)} samples\")\n",
    "print(f\"Predicted spam samples: {(y_pred == 1).sum().item()}\")\n",
    "print(f\"Predicted ham samples: {(y_pred == 0).sum().item()}\")"
   ]
  },
  {
   "cell_type": "code",
   "execution_count": 7,
   "id": "979bd5ecf93ab688",
   "metadata": {
    "ExecuteTime": {
     "end_time": "2025-06-30T10:07:32.690117Z",
     "start_time": "2025-06-30T10:07:32.676703Z"
    }
   },
   "outputs": [
    {
     "data": {
      "text/html": [
       "<div>\n",
       "<style scoped>\n",
       "    .dataframe tbody tr th:only-of-type {\n",
       "        vertical-align: middle;\n",
       "    }\n",
       "\n",
       "    .dataframe tbody tr th {\n",
       "        vertical-align: top;\n",
       "    }\n",
       "\n",
       "    .dataframe thead th {\n",
       "        text-align: right;\n",
       "    }\n",
       "</style>\n",
       "<table border=\"1\" class=\"dataframe\">\n",
       "  <thead>\n",
       "    <tr style=\"text-align: right;\">\n",
       "      <th></th>\n",
       "      <th>subject</th>\n",
       "      <th>text</th>\n",
       "      <th>label</th>\n",
       "      <th>source</th>\n",
       "      <th>sender_hash</th>\n",
       "      <th>reply_to_hash</th>\n",
       "      <th>date</th>\n",
       "    </tr>\n",
       "  </thead>\n",
       "  <tbody>\n",
       "    <tr>\n",
       "      <th>150</th>\n",
       "      <td>Seeing is believing</td>\n",
       "      <td>seeing believing url &lt;URL&gt; author linda grant ...</td>\n",
       "      <td>0</td>\n",
       "      <td>easy_ham</td>\n",
       "      <td>e48634bb48df81f58894dfa459d8d363a55131ad80d90b...</td>\n",
       "      <td></td>\n",
       "      <td>Tue, 08 Oct 2002 08:01:07 -0000</td>\n",
       "    </tr>\n",
       "    <tr>\n",
       "      <th>357</th>\n",
       "      <td>Apple Store eNews : November 2002</td>\n",
       "      <td>apple store enews november 2002 you appear usi...</td>\n",
       "      <td>0</td>\n",
       "      <td>hard_ham</td>\n",
       "      <td>44a1c8b4d70359a608e144a7037dd2c597de0c2a7e0687...</td>\n",
       "      <td>dc767a94b1b1941f8a66e2fd63d192f5bc284dabe81262...</td>\n",
       "      <td>Wed, 27 Nov 2002 21:12:33 -0800</td>\n",
       "    </tr>\n",
       "    <tr>\n",
       "      <th>402</th>\n",
       "      <td>RE: [ILUG] NVIDIA and Debian Woody</td>\n",
       "      <td>re ilug nvidia debian woody hi there now proba...</td>\n",
       "      <td>0</td>\n",
       "      <td>easy_ham_2</td>\n",
       "      <td>59681d3ae2f9791cb6b5dbc03c79f9f85d24779a117cb2...</td>\n",
       "      <td></td>\n",
       "      <td>Wed, 04 Dec 2002 04:05:38 -0600</td>\n",
       "    </tr>\n",
       "    <tr>\n",
       "      <th>416</th>\n",
       "      <td>The Flight to Safety is Upon Us</td>\n",
       "      <td>flight safety upon us s not rush hour traffic ...</td>\n",
       "      <td>1</td>\n",
       "      <td>spam</td>\n",
       "      <td>559aee171ea8552beaf0f2b5558e92ffb8783618238bf1...</td>\n",
       "      <td></td>\n",
       "      <td>Sun, 15 Sep 2002 19:18:58 -0400</td>\n",
       "    </tr>\n",
       "    <tr>\n",
       "      <th>417</th>\n",
       "      <td>Low cost quality conference calls</td>\n",
       "      <td>method post enctype text plain&gt; name web addre...</td>\n",
       "      <td>1</td>\n",
       "      <td>spam</td>\n",
       "      <td>a2d18e9f5faf44a66cf6aef8e80caa162ddfcbe4b7ea4b...</td>\n",
       "      <td></td>\n",
       "      <td>Sun, 15 Sep 2002 06:55:37 -1900</td>\n",
       "    </tr>\n",
       "    <tr>\n",
       "      <th>604</th>\n",
       "      <td>Cannabis Difference</td>\n",
       "      <td>cannabis difference mid summer customer apprec...</td>\n",
       "      <td>1</td>\n",
       "      <td>spam_2</td>\n",
       "      <td>f676dd05f5fb775ee673641fbd40658745176497d83e2a...</td>\n",
       "      <td>379a3703ef116c1d270d9c2e68e5b08f13a42188d5973c...</td>\n",
       "      <td>Wed, 05 Aug 2020 04:01:50 -1900</td>\n",
       "    </tr>\n",
       "  </tbody>\n",
       "</table>\n",
       "</div>"
      ],
      "text/plain": [
       "                                subject  \\\n",
       "150                 Seeing is believing   \n",
       "357   Apple Store eNews : November 2002   \n",
       "402  RE: [ILUG] NVIDIA and Debian Woody   \n",
       "416     The Flight to Safety is Upon Us   \n",
       "417   Low cost quality conference calls   \n",
       "604                 Cannabis Difference   \n",
       "\n",
       "                                                  text  label      source  \\\n",
       "150  seeing believing url <URL> author linda grant ...      0    easy_ham   \n",
       "357  apple store enews november 2002 you appear usi...      0    hard_ham   \n",
       "402  re ilug nvidia debian woody hi there now proba...      0  easy_ham_2   \n",
       "416  flight safety upon us s not rush hour traffic ...      1        spam   \n",
       "417  method post enctype text plain> name web addre...      1        spam   \n",
       "604  cannabis difference mid summer customer apprec...      1      spam_2   \n",
       "\n",
       "                                           sender_hash  \\\n",
       "150  e48634bb48df81f58894dfa459d8d363a55131ad80d90b...   \n",
       "357  44a1c8b4d70359a608e144a7037dd2c597de0c2a7e0687...   \n",
       "402  59681d3ae2f9791cb6b5dbc03c79f9f85d24779a117cb2...   \n",
       "416  559aee171ea8552beaf0f2b5558e92ffb8783618238bf1...   \n",
       "417  a2d18e9f5faf44a66cf6aef8e80caa162ddfcbe4b7ea4b...   \n",
       "604  f676dd05f5fb775ee673641fbd40658745176497d83e2a...   \n",
       "\n",
       "                                         reply_to_hash  \\\n",
       "150                                                      \n",
       "357  dc767a94b1b1941f8a66e2fd63d192f5bc284dabe81262...   \n",
       "402                                                      \n",
       "416                                                      \n",
       "417                                                      \n",
       "604  379a3703ef116c1d270d9c2e68e5b08f13a42188d5973c...   \n",
       "\n",
       "                                date  \n",
       "150  Tue, 08 Oct 2002 08:01:07 -0000  \n",
       "357  Wed, 27 Nov 2002 21:12:33 -0800  \n",
       "402  Wed, 04 Dec 2002 04:05:38 -0600  \n",
       "416  Sun, 15 Sep 2002 19:18:58 -0400  \n",
       "417  Sun, 15 Sep 2002 06:55:37 -1900  \n",
       "604  Wed, 05 Aug 2020 04:01:50 -1900  "
      ]
     },
     "execution_count": 7,
     "metadata": {},
     "output_type": "execute_result"
    }
   ],
   "source": [
    "samples = (150, 357, 402 , 416, 417, 604)\n",
    "# display elements in the test set with the given indices\n",
    "sample_df = test_df.iloc[list(samples)]\n",
    "sample_df"
   ]
  },
  {
   "cell_type": "markdown",
   "id": "400eb8fd7172eaa8",
   "metadata": {},
   "source": [
    "#### LayerIntegratedGradients for BERT"
   ]
  },
  {
   "cell_type": "code",
   "id": "e402bab1",
   "metadata": {
    "ExecuteTime": {
     "end_time": "2025-06-30T10:22:42.945743Z",
     "start_time": "2025-06-30T10:22:42.933079Z"
    }
   },
   "source": [
    "from explainability.BertExplanationMetrics import BertExplanationMetrics\n",
    "\n",
    "# Initialize the BERT explanation quality metrics calculator\n",
    "quality_evaluator = BertExplanationMetrics(model, tokenizer, device)\n",
    "\n",
    "print(\"BERT Explanation Quality Metrics Calculator initialized successfully!\")"
   ],
   "outputs": [
    {
     "name": "stdout",
     "output_type": "stream",
     "text": [
      "BERT Explanation Quality Metrics Calculator initialized successfully!\n"
     ]
    }
   ],
   "execution_count": 8
  },
  {
   "cell_type": "code",
   "id": "fc9ac284",
   "metadata": {
    "ExecuteTime": {
     "end_time": "2025-06-30T10:24:41.320326Z",
     "start_time": "2025-06-30T10:24:41.313847Z"
    }
   },
   "source": [
    "# Select a few sample texts for quality evaluation\n",
    "sample_texts = sample_df['text'].tolist()\n",
    "sample_labels = sample_df['label'].tolist()\n",
    "sample_subjects = sample_df['subject'].tolist()\n",
    "\n",
    "print(\"Sample texts and their labels:\")\n",
    "for i, (text, label, subject) in enumerate(zip(sample_texts, sample_labels, sample_subjects)):\n",
    "    print(f\"\\nSample {i+1} (Label: {'Spam' if label == 1 else 'Ham'}):\")\n",
    "    print(f\"Subject: {subject}\")\n",
    "    \n",
    "print(f\"\\nWe will evaluate explanation quality metrics for these {len(sample_texts)} samples.\")"
   ],
   "outputs": [
    {
     "name": "stdout",
     "output_type": "stream",
     "text": [
      "Sample texts and their labels:\n",
      "\n",
      "Sample 1 (Label: Ham):\n",
      "Subject: Seeing is believing\n",
      "\n",
      "Sample 2 (Label: Ham):\n",
      "Subject: Apple Store eNews : November 2002\n",
      "\n",
      "Sample 3 (Label: Ham):\n",
      "Subject: RE: [ILUG] NVIDIA and Debian Woody\n",
      "\n",
      "Sample 4 (Label: Spam):\n",
      "Subject: The Flight to Safety is Upon Us\n",
      "\n",
      "Sample 5 (Label: Spam):\n",
      "Subject: Low cost quality conference calls\n",
      "\n",
      "Sample 6 (Label: Spam):\n",
      "Subject: Cannabis Difference\n",
      "\n",
      "We will evaluate explanation quality metrics for these 6 samples.\n"
     ]
    }
   ],
   "execution_count": 10
  },
  {
   "cell_type": "code",
   "id": "1b1f8032",
   "metadata": {
    "ExecuteTime": {
     "end_time": "2025-06-30T11:45:57.067904Z",
     "start_time": "2025-06-30T10:26:58.241595Z"
    }
   },
   "source": [
    "# Compute explanation quality metrics using Integrated Gradients\n",
    "print(\"Computing explanation quality metrics using LayerIntegratedGradients...\")\n",
    "print(\"=\" * 60)\n",
    "\n",
    "ig_results = []\n",
    "\n",
    "for i, (text, subject) in enumerate(zip(sample_texts, sample_subjects)):\n",
    "    print(f\"\\nProcessing Sample {i+1}:\")\n",
    "    print(f\"Subject: {subject}\")\n",
    "    \n",
    "    try:\n",
    "        # Compute metrics using Integrated Gradients\n",
    "        metrics = quality_evaluator.evaluate_explanation_quality(\n",
    "            text, \n",
    "            method='integrated_gradients', \n",
    "            verbose=True\n",
    "        )\n",
    "        \n",
    "        metrics['sample_id'] = i + 1\n",
    "        metrics['text'] = subject\n",
    "        metrics['label'] = sample_labels[i]\n",
    "        \n",
    "        ig_results.append(metrics)\n",
    "        \n",
    "    except Exception as e:\n",
    "        print(f\"Error processing sample {i+1}: {e}\")\n",
    "        continue\n",
    "\n",
    "print(f\"\\nCompleted processing {len(ig_results)} samples with Integrated Gradients.\")"
   ],
   "outputs": [
    {
     "name": "stdout",
     "output_type": "stream",
     "text": [
      "Computing explanation quality metrics using LayerIntegratedGradients...\n",
      "============================================================\n",
      "\n",
      "Processing Sample 1:\n",
      "Subject: Seeing is believing\n",
      "Evaluating explanation quality for text: 'seeing believing url <URL> author linda grant neve...'\n",
      "Using method: integrated_gradients\n",
      "Computing AUC-Del...\n"
     ]
    },
    {
     "name": "stderr",
     "output_type": "stream",
     "text": [
      "/home/michael/PycharmProjects/spam-detection/venv/lib/python3.10/site-packages/torch/autograd/graph.py:824: UserWarning: CUDA initialization: CUDA unknown error - this may be due to an incorrectly set up environment, e.g. changing env variable CUDA_VISIBLE_DEVICES after program start. Setting the available devices to be zero. (Triggered internally at /pytorch/c10/cuda/CUDAFunctions.cpp:109.)\n",
      "  return Variable._execution_engine.run_backward(  # Calls into the C++ engine to run the backward pass\n"
     ]
    },
    {
     "name": "stdout",
     "output_type": "stream",
     "text": [
      "Computing AUC-Ins...\n",
      "Computing Comprehensiveness...\n",
      "Computing Jaccard Stability...\n",
      "\n",
      "==================================================\n",
      "EXPLANATION QUALITY METRICS\n",
      "==================================================\n",
      "Method:           integrated_gradients\n",
      "AUC-Deletion:     0.3246 (lower is better)\n",
      "AUC-Insertion:    0.3950 (higher is better)\n",
      "Comprehensiveness: 0.1206 (higher is better)\n",
      "Jaccard Stability: 0.7190 (higher is better)\n",
      "==================================================\n",
      "\n",
      "Processing Sample 2:\n",
      "Subject: Apple Store eNews : November 2002\n",
      "Evaluating explanation quality for text: 'apple store enews november 2002 you appear using e...'\n",
      "Using method: integrated_gradients\n",
      "Computing AUC-Del...\n",
      "Computing AUC-Ins...\n",
      "Computing Comprehensiveness...\n",
      "Computing Jaccard Stability...\n",
      "\n",
      "==================================================\n",
      "EXPLANATION QUALITY METRICS\n",
      "==================================================\n",
      "Method:           integrated_gradients\n",
      "AUC-Deletion:     0.1908 (lower is better)\n",
      "AUC-Insertion:    0.2964 (higher is better)\n",
      "Comprehensiveness: 0.0021 (higher is better)\n",
      "Jaccard Stability: 0.5373 (higher is better)\n",
      "==================================================\n",
      "\n",
      "Processing Sample 3:\n",
      "Subject: RE: [ILUG] NVIDIA and Debian Woody\n",
      "Evaluating explanation quality for text: 're ilug nvidia debian woody hi there now probably ...'\n",
      "Using method: integrated_gradients\n",
      "Computing AUC-Del...\n",
      "Computing AUC-Ins...\n",
      "Computing Comprehensiveness...\n",
      "Computing Jaccard Stability...\n",
      "\n",
      "==================================================\n",
      "EXPLANATION QUALITY METRICS\n",
      "==================================================\n",
      "Method:           integrated_gradients\n",
      "AUC-Deletion:     0.1337 (lower is better)\n",
      "AUC-Insertion:    0.0590 (higher is better)\n",
      "Comprehensiveness: 0.0015 (higher is better)\n",
      "Jaccard Stability: 0.4762 (higher is better)\n",
      "==================================================\n",
      "\n",
      "Processing Sample 4:\n",
      "Subject: The Flight to Safety is Upon Us\n",
      "Evaluating explanation quality for text: 'flight safety upon us s not rush hour traffic s fl...'\n",
      "Using method: integrated_gradients\n",
      "Computing AUC-Del...\n",
      "Computing AUC-Ins...\n",
      "Computing Comprehensiveness...\n",
      "Computing Jaccard Stability...\n",
      "\n",
      "==================================================\n",
      "EXPLANATION QUALITY METRICS\n",
      "==================================================\n",
      "Method:           integrated_gradients\n",
      "AUC-Deletion:     0.8474 (lower is better)\n",
      "AUC-Insertion:    0.8696 (higher is better)\n",
      "Comprehensiveness: 0.0179 (higher is better)\n",
      "Jaccard Stability: 0.5647 (higher is better)\n",
      "==================================================\n",
      "\n",
      "Processing Sample 5:\n",
      "Subject: Low cost quality conference calls\n",
      "Evaluating explanation quality for text: 'method post enctype text plain> name web address c...'\n",
      "Using method: integrated_gradients\n",
      "Computing AUC-Del...\n",
      "Computing AUC-Ins...\n",
      "Computing Comprehensiveness...\n",
      "Computing Jaccard Stability...\n",
      "\n",
      "==================================================\n",
      "EXPLANATION QUALITY METRICS\n",
      "==================================================\n",
      "Method:           integrated_gradients\n",
      "AUC-Deletion:     0.6854 (lower is better)\n",
      "AUC-Insertion:    0.7847 (higher is better)\n",
      "Comprehensiveness: 0.2334 (higher is better)\n",
      "Jaccard Stability: 0.5036 (higher is better)\n",
      "==================================================\n",
      "\n",
      "Processing Sample 6:\n",
      "Subject: Cannabis Difference\n",
      "Evaluating explanation quality for text: 'cannabis difference mid summer customer appreciati...'\n",
      "Using method: integrated_gradients\n",
      "Computing AUC-Del...\n",
      "Computing AUC-Ins...\n",
      "Computing Comprehensiveness...\n",
      "Computing Jaccard Stability...\n",
      "\n",
      "==================================================\n",
      "EXPLANATION QUALITY METRICS\n",
      "==================================================\n",
      "Method:           integrated_gradients\n",
      "AUC-Deletion:     0.7872 (lower is better)\n",
      "AUC-Insertion:    0.8946 (higher is better)\n",
      "Comprehensiveness: 0.0011 (higher is better)\n",
      "Jaccard Stability: 0.1306 (higher is better)\n",
      "==================================================\n",
      "\n",
      "Completed processing 6 samples with Integrated Gradients.\n"
     ]
    }
   ],
   "execution_count": 12
  },
  {
   "cell_type": "code",
   "id": "349a6614",
   "metadata": {
    "ExecuteTime": {
     "end_time": "2025-06-30T11:50:16.958647Z",
     "start_time": "2025-06-30T11:46:28.268707Z"
    }
   },
   "source": [
    "# Compute explanation quality metrics using Attention Heads\n",
    "print(\"Computing explanation quality metrics using Attention Heads...\")\n",
    "print(\"=\" * 60)\n",
    "\n",
    "attention_results = []\n",
    "\n",
    "for i, text in enumerate(sample_texts):\n",
    "    print(f\"\\nProcessing Sample {i+1} with Attention:\")\n",
    "    print(f\"Text: {text[:80]}...\")\n",
    "    \n",
    "    try:\n",
    "        # Compute metrics using Attention Weights\n",
    "        metrics = quality_evaluator.evaluate_explanation_quality(\n",
    "            text, \n",
    "            method='attention', \n",
    "            verbose=True\n",
    "        )\n",
    "        \n",
    "        metrics['sample_id'] = i + 1\n",
    "        metrics['text'] = text[:100] + \"...\" if len(text) > 100 else text\n",
    "        metrics['label'] = sample_labels[i]\n",
    "        \n",
    "        attention_results.append(metrics)\n",
    "        \n",
    "    except Exception as e:\n",
    "        print(f\"Error processing sample {i+1}: {e}\")\n",
    "        continue\n",
    "\n",
    "print(f\"\\nCompleted processing {len(attention_results)} samples with Attention Heads.\")"
   ],
   "outputs": [
    {
     "name": "stdout",
     "output_type": "stream",
     "text": [
      "Computing explanation quality metrics using Attention Heads...\n",
      "============================================================\n",
      "\n",
      "Processing Sample 1 with Attention:\n",
      "Text: seeing believing url <URL> author linda grant never collections until now what s...\n",
      "Evaluating explanation quality for text: 'seeing believing url <URL> author linda grant neve...'\n",
      "Using method: attention\n",
      "Computing AUC-Del...\n"
     ]
    },
    {
     "name": "stderr",
     "output_type": "stream",
     "text": [
      "BertSdpaSelfAttention is used but `torch.nn.functional.scaled_dot_product_attention` does not support non-absolute `position_embedding_type` or `output_attentions=True` or `head_mask`. Falling back to the manual attention implementation, but specifying the manual implementation will be required from Transformers version v5.0.0 onwards. This warning can be removed using the argument `attn_implementation=\"eager\"` when loading the model.\n"
     ]
    },
    {
     "name": "stdout",
     "output_type": "stream",
     "text": [
      "Computing AUC-Ins...\n",
      "Computing Comprehensiveness...\n",
      "Computing Jaccard Stability...\n",
      "\n",
      "==================================================\n",
      "EXPLANATION QUALITY METRICS\n",
      "==================================================\n",
      "Method:           attention\n",
      "AUC-Deletion:     0.2576 (lower is better)\n",
      "AUC-Insertion:    0.5391 (higher is better)\n",
      "Comprehensiveness: 0.0545 (higher is better)\n",
      "Jaccard Stability: 0.7857 (higher is better)\n",
      "==================================================\n",
      "\n",
      "Processing Sample 2 with Attention:\n",
      "Text: apple store enews november 2002 you appear using email application won t properl...\n",
      "Evaluating explanation quality for text: 'apple store enews november 2002 you appear using e...'\n",
      "Using method: attention\n",
      "Computing AUC-Del...\n",
      "Computing AUC-Ins...\n",
      "Computing Comprehensiveness...\n",
      "Computing Jaccard Stability...\n",
      "\n",
      "==================================================\n",
      "EXPLANATION QUALITY METRICS\n",
      "==================================================\n",
      "Method:           attention\n",
      "AUC-Deletion:     0.2270 (lower is better)\n",
      "AUC-Insertion:    0.2489 (higher is better)\n",
      "Comprehensiveness: 0.0163 (higher is better)\n",
      "Jaccard Stability: 0.3631 (higher is better)\n",
      "==================================================\n",
      "\n",
      "Processing Sample 3 with Attention:\n",
      "Text: re ilug nvidia debian woody hi there now probably no use you whatsoever not deb ...\n",
      "Evaluating explanation quality for text: 're ilug nvidia debian woody hi there now probably ...'\n",
      "Using method: attention\n",
      "Computing AUC-Del...\n",
      "Computing AUC-Ins...\n",
      "Computing Comprehensiveness...\n",
      "Computing Jaccard Stability...\n",
      "\n",
      "==================================================\n",
      "EXPLANATION QUALITY METRICS\n",
      "==================================================\n",
      "Method:           attention\n",
      "AUC-Deletion:     0.2312 (lower is better)\n",
      "AUC-Insertion:    0.0587 (higher is better)\n",
      "Comprehensiveness: 0.0035 (higher is better)\n",
      "Jaccard Stability: 0.4940 (higher is better)\n",
      "==================================================\n",
      "\n",
      "Processing Sample 4 with Attention:\n",
      "Text: flight safety upon us s not rush hour traffic s flight safety fixed indexed annu...\n",
      "Evaluating explanation quality for text: 'flight safety upon us s not rush hour traffic s fl...'\n",
      "Using method: attention\n",
      "Computing AUC-Del...\n",
      "Computing AUC-Ins...\n",
      "Computing Comprehensiveness...\n",
      "Computing Jaccard Stability...\n",
      "\n",
      "==================================================\n",
      "EXPLANATION QUALITY METRICS\n",
      "==================================================\n",
      "Method:           attention\n",
      "AUC-Deletion:     0.7324 (lower is better)\n",
      "AUC-Insertion:    0.8939 (higher is better)\n",
      "Comprehensiveness: 0.0256 (higher is better)\n",
      "Jaccard Stability: 0.4841 (higher is better)\n",
      "==================================================\n",
      "\n",
      "Processing Sample 5 with Attention:\n",
      "Text: method post enctype text plain> name web address company name state business pho...\n",
      "Evaluating explanation quality for text: 'method post enctype text plain> name web address c...'\n",
      "Using method: attention\n",
      "Computing AUC-Del...\n",
      "Computing AUC-Ins...\n",
      "Computing Comprehensiveness...\n",
      "Computing Jaccard Stability...\n",
      "\n",
      "==================================================\n",
      "EXPLANATION QUALITY METRICS\n",
      "==================================================\n",
      "Method:           attention\n",
      "AUC-Deletion:     0.7637 (lower is better)\n",
      "AUC-Insertion:    0.8363 (higher is better)\n",
      "Comprehensiveness: 0.1413 (higher is better)\n",
      "Jaccard Stability: 0.4881 (higher is better)\n",
      "==================================================\n",
      "\n",
      "Processing Sample 6 with Attention:\n",
      "Text: cannabis difference mid summer customer appreciation sale express our appreciati...\n",
      "Evaluating explanation quality for text: 'cannabis difference mid summer customer appreciati...'\n",
      "Using method: attention\n",
      "Computing AUC-Del...\n",
      "Computing AUC-Ins...\n",
      "Computing Comprehensiveness...\n",
      "Computing Jaccard Stability...\n",
      "\n",
      "==================================================\n",
      "EXPLANATION QUALITY METRICS\n",
      "==================================================\n",
      "Method:           attention\n",
      "AUC-Deletion:     0.8130 (lower is better)\n",
      "AUC-Insertion:    0.9090 (higher is better)\n",
      "Comprehensiveness: 0.0140 (higher is better)\n",
      "Jaccard Stability: 0.4643 (higher is better)\n",
      "==================================================\n",
      "\n",
      "Completed processing 6 samples with Attention Heads.\n"
     ]
    }
   ],
   "execution_count": 13
  },
  {
   "cell_type": "code",
   "id": "b6332860",
   "metadata": {
    "ExecuteTime": {
     "end_time": "2025-06-30T11:51:33.707145Z",
     "start_time": "2025-06-30T11:51:33.669421Z"
    }
   },
   "source": [
    "# Create comprehensive results summary\n",
    "import pandas as pd\n",
    "\n",
    "# Convert results to DataFrames for better visualization\n",
    "if ig_results:\n",
    "    ig_df = pd.DataFrame(ig_results)\n",
    "    ig_df['method'] = 'Integrated_Gradients'\n",
    "\n",
    "if attention_results:\n",
    "    attention_df = pd.DataFrame(attention_results)\n",
    "    attention_df['method'] = 'Attention_Heads'\n",
    "\n",
    "# Combine results if both methods were successful\n",
    "if ig_results and attention_results:\n",
    "    combined_df = pd.concat([ig_df, attention_df], ignore_index=True)\n",
    "    \n",
    "    print(\"COMPREHENSIVE EXPLANATION QUALITY RESULTS\")\n",
    "    print(\"=\" * 60)\n",
    "    \n",
    "    # Summary statistics by method\n",
    "    summary_stats = combined_df.groupby('method')[['auc_deletion', 'auc_insertion', 'comprehensiveness', 'jaccard_stability']].agg(['mean', 'std'])\n",
    "    print(\"\\nSummary Statistics by Method:\")\n",
    "    print(summary_stats)\n",
    "    \n",
    "    # Detailed results by sample\n",
    "    print(\"\\nDetailed Results by Sample:\")\n",
    "    display_cols = ['sample_id', 'method', 'auc_deletion', 'auc_insertion', 'comprehensiveness', 'jaccard_stability', 'label']\n",
    "    print(combined_df[display_cols].to_string(index=False))\n",
    "    \n",
    "elif ig_results:\n",
    "    print(\"Results using Integrated Gradients only:\")\n",
    "    display_cols = ['sample_id', 'auc_deletion', 'auc_insertion', 'comprehensiveness', 'jaccard_stability', 'label']\n",
    "    print(ig_df[display_cols].to_string(index=False))\n",
    "    \n",
    "elif attention_results:\n",
    "    print(\"Results using Attention Heads only:\")\n",
    "    display_cols = ['sample_id', 'auc_deletion', 'auc_insertion', 'comprehensiveness', 'jaccard_stability', 'label']\n",
    "    print(attention_df[display_cols].to_string(index=False))\n",
    "    \n",
    "else:\n",
    "    print(\"No results available for analysis.\")"
   ],
   "outputs": [
    {
     "name": "stdout",
     "output_type": "stream",
     "text": [
      "COMPREHENSIVE EXPLANATION QUALITY RESULTS\n",
      "============================================================\n",
      "\n",
      "Summary Statistics by Method:\n",
      "                     auc_deletion           auc_insertion            \\\n",
      "                             mean       std          mean       std   \n",
      "method                                                                \n",
      "Attention_Heads          0.504142  0.292226      0.580991  0.362076   \n",
      "Integrated_Gradients     0.494862  0.315558      0.549866  0.347955   \n",
      "\n",
      "                     comprehensiveness           jaccard_stability            \n",
      "                                  mean       std              mean       std  \n",
      "method                                                                        \n",
      "Attention_Heads               0.042519  0.051408          0.513228  0.142148  \n",
      "Integrated_Gradients          0.062775  0.095592          0.488558  0.194854  \n",
      "\n",
      "Detailed Results by Sample:\n",
      " sample_id               method  auc_deletion  auc_insertion  comprehensiveness  jaccard_stability  label\n",
      "         1 Integrated_Gradients      0.324626       0.394951           0.120601           0.719048      0\n",
      "         2 Integrated_Gradients      0.190838       0.296388           0.002104           0.537302      0\n",
      "         3 Integrated_Gradients      0.133715       0.059018           0.001527           0.476190      0\n",
      "         4 Integrated_Gradients      0.847422       0.869582           0.017920           0.564683      1\n",
      "         5 Integrated_Gradients      0.685397       0.784682           0.233367           0.503571      1\n",
      "         6 Integrated_Gradients      0.787173       0.894576           0.001132           0.130556      1\n",
      "         1      Attention_Heads      0.257582       0.539086           0.054536           0.785714      0\n",
      "         2      Attention_Heads      0.226965       0.248930           0.016277           0.363095      0\n",
      "         3      Attention_Heads      0.231203       0.058712           0.003453           0.494048      0\n",
      "         4      Attention_Heads      0.732390       0.893912           0.025586           0.484127      1\n",
      "         5      Attention_Heads      0.763741       0.836289           0.141280           0.488095      1\n",
      "         6      Attention_Heads      0.812971       0.909017           0.013985           0.464286      1\n"
     ]
    }
   ],
   "execution_count": 16
  },
  {
   "cell_type": "code",
   "id": "bd2fe97d",
   "metadata": {
    "ExecuteTime": {
     "end_time": "2025-06-30T11:53:20.557274Z",
     "start_time": "2025-06-30T11:51:44.889483Z"
    }
   },
   "source": [
    "# Visualize deletion and insertion curves for the first sample\n",
    "if sample_texts:\n",
    "    selected_text = sample_texts[0]  # Use the first sample\n",
    "    selected_label = 'Spam' if sample_labels[0] == 1 else 'Ham'\n",
    "    \n",
    "    print(f\"Visualizing deletion and insertion curves for Sample 1 ({selected_label}):\")\n",
    "    print(f\"Text: {selected_text[:150]}...\")\n",
    "    print(\"\\n\" + \"=\"*60)\n",
    "    \n",
    "    # Plot curves for Integrated Gradients\n",
    "    print(\"Plotting curves for Integrated Gradients method:\")\n",
    "    quality_evaluator.plot_deletion_insertion_curves(\n",
    "        selected_text, \n",
    "        method='integrated_gradients',\n",
    "        steps=20\n",
    "    )\n",
    "    \n",
    "    # Plot curves for Attention Heads\n",
    "    print(\"\\nPlotting curves for Attention Heads method:\")\n",
    "    quality_evaluator.plot_deletion_insertion_curves(\n",
    "        selected_text, \n",
    "        method='attention',\n",
    "        steps=20\n",
    "    )\n",
    "else:\n",
    "    print(\"No sample texts available for visualization.\")"
   ],
   "outputs": [
    {
     "name": "stdout",
     "output_type": "stream",
     "text": [
      "Visualizing deletion and insertion curves for Sample 1 (Ham):\n",
      "Text: seeing believing url <URL> author linda grant never collections until now what she make paris shows...\n",
      "\n",
      "============================================================\n",
      "Plotting curves for Integrated Gradients method:\n"
     ]
    },
    {
     "data": {
      "text/plain": [
       "<Figure size 1200x500 with 2 Axes>"
      ],
      "image/png": "[encoded data removed]"
     },
     "metadata": {},
     "output_type": "display_data"
    },
    {
     "name": "stdout",
     "output_type": "stream",
     "text": [
      "\n",
      "Plotting curves for Attention Heads method:\n"
     ]
    },
    {
     "data": {
      "text/plain": [
       "<Figure size 1200x500 with 2 Axes>"
      ],
      "image/png": "[encoded data removed]"
     },
     "metadata": {},
     "output_type": "display_data"
    }
   ],
   "execution_count": 17
  },
  {
   "cell_type": "markdown",
   "id": "91f6875e",
   "metadata": {},
   "source": [
    "### Interpretation of Explanation Quality Metrics\n",
    "\n",
    "The explanation quality metrics provide insights into how well our BERT model's explanations perform:\n",
    "\n",
    "#### **1. AUC-Del (Area Under Deletion Curve)**\n",
    "- **Lower values are better** (ideally close to 0)\n",
    "- Measures how quickly the prediction confidence drops when removing the most important features\n",
    "- Good explanations should cause a rapid decrease in confidence when important features are removed\n",
    "\n",
    "#### **2. AUC-Ins (Area Under Insertion Curve)**  \n",
    "- **Higher values are better** (ideally close to 1)\n",
    "- Measures how quickly the prediction confidence increases when adding the most important features\n",
    "- Good explanations should cause confidence to rise quickly when important features are added\n",
    "\n",
    "#### **3. Comprehensiveness**\n",
    "- **Higher values are better**\n",
    "- Measures the change in prediction when the top-k most important features are removed\n",
    "- Good explanations should show significant prediction changes when important features are removed\n",
    "\n",
    "#### **4. Jaccard Stability**\n",
    "- **Higher values are better** (ideally close to 1)\n",
    "- Measures consistency of explanations across slightly perturbed inputs\n",
    "- Good explanations should be stable and consistent across similar inputs\n",
    "\n",
    "#### **Comparison: Integrated Gradients vs Attention Heads**\n",
    "- **Integrated Gradients**: Provides attribution based on gradients integrated along a path from baseline to input\n",
    "- **Attention Heads**: Uses the attention weights learned by the BERT model during training\n",
    "- Both methods can provide valuable insights, and comparing them helps validate explanation quality"
   ]
  },
  {
   "cell_type": "code",
   "id": "e9035d5b",
   "metadata": {
    "ExecuteTime": {
     "end_time": "2025-06-30T11:54:50.552463Z",
     "start_time": "2025-06-30T11:54:50.539066Z"
    }
   },
   "source": [
    "# Save results for further analysis\n",
    "import os\n",
    "\n",
    "# Create results directory if it doesn't exist\n",
    "results_dir = os.path.join(DATA_PATH, 'results', 'explanation_quality')\n",
    "os.makedirs(results_dir, exist_ok=True)\n",
    "\n",
    "# Save detailed results\n",
    "if 'combined_df' in locals():\n",
    "    results_file = os.path.join(results_dir, 'bert_explanation_quality_metrics.csv')\n",
    "    combined_df.to_csv(results_file, index=False)\n",
    "    print(f\"Detailed results saved to: {results_file}\")\n",
    "elif 'ig_df' in locals():\n",
    "    results_file = os.path.join(results_dir, 'bert_ig_metrics.csv')\n",
    "    ig_df.to_csv(results_file, index=False)\n",
    "    print(f\"Integrated Gradients results saved to: {results_file}\")\n",
    "elif 'attention_df' in locals():\n",
    "    results_file = os.path.join(results_dir, 'bert_attention_metrics.csv')\n",
    "    attention_df.to_csv(results_file, index=False)\n",
    "    print(f\"Attention results saved to: {results_file}\")\n",
    "\n",
    "print(\"\\n\" + \"=\"*60)\n",
    "print(\"BERT EXPLANATION QUALITY ANALYSIS COMPLETE\")\n",
    "print(\"=\"*60)\n",
    "print(\"\\nKey Findings:\")\n",
    "print(\"- Successfully computed AUC-Del, AUC-Ins, Comprehensiveness, and Jaccard Stability\")\n",
    "print(\"- Compared LayerIntegratedGradients vs Attention Head explanations\")\n",
    "print(\"- Generated deletion and insertion curve visualizations\")\n",
    "print(\"\\nNext Steps:\")\n",
    "print(\"- Analyze metric patterns across spam vs ham samples\")\n",
    "print(\"- Compare with other model explanation methods\")  \n",
    "print(\"- Use insights to improve model interpretability\")\n",
    "\n",
    "print(f\"\\nResults saved in: {results_dir}\")"
   ],
   "outputs": [
    {
     "name": "stdout",
     "output_type": "stream",
     "text": [
      "Detailed results saved to: /home/michael/PycharmProjects/spam-detection-data/results/explanation_quality/bert_explanation_quality_metrics.csv\n",
      "\n",
      "============================================================\n",
      "BERT EXPLANATION QUALITY ANALYSIS COMPLETE\n",
      "============================================================\n",
      "\n",
      "Key Findings:\n",
      "- Successfully computed AUC-Del, AUC-Ins, Comprehensiveness, and Jaccard Stability\n",
      "- Compared LayerIntegratedGradients vs Attention Head explanations\n",
      "- Generated deletion and insertion curve visualizations\n",
      "\n",
      "Next Steps:\n",
      "- Analyze metric patterns across spam vs ham samples\n",
      "- Compare with other model explanation methods\n",
      "- Use insights to improve model interpretability\n",
      "\n",
      "Results saved in: /home/michael/PycharmProjects/spam-detection-data/results/explanation_quality\n"
     ]
    }
   ],
   "execution_count": 18
  }
 ],
 "metadata": {
  "kernelspec": {
   "display_name": "Python 3",
   "language": "python",
   "name": "python3"
  },
  "language_info": {
   "codemirror_mode": {
    "name": "ipython",
    "version": 2
   },
   "file_extension": ".py",
   "mimetype": "text/x-python",
   "name": "python",
   "nbconvert_exporter": "python",
   "pygments_lexer": "ipython2",
   "version": "2.7.6"
  }
 },
 "nbformat": 4,
 "nbformat_minor": 5
}
