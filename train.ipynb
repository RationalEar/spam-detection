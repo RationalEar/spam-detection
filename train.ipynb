{
 "cells": [
  {
   "cell_type": "code",
   "execution_count": null,
   "id": "initial_id",
   "metadata": {
    "collapsed": true
   },
   "outputs": [],
   "source": [
    "import pandas as pd\n",
    "import torch\n",
    "from torch import nn\n",
    "import torch.optim as optim\n",
    "from torch.utils.data import DataLoader\n",
    "from models.cnn import SpamCNN\n",
    "from utils.data_loader import load_datasets\n",
    "from transformers import BertTokenizer"
   ]
  },
  {
   "metadata": {},
   "cell_type": "markdown",
   "source": "### Configuration",
   "id": "cc02904726b0e5fd"
  },
  {
   "metadata": {},
   "cell_type": "code",
   "outputs": [],
   "execution_count": null,
   "source": [
    "BATCH_SIZE = 32\n",
    "EPOCHS = 10\n",
    "LEARNING_RATE = 1e-3\n",
    "MAX_LENGTH = 256"
   ],
   "id": "e315ba043238b951"
  },
  {
   "metadata": {},
   "cell_type": "markdown",
   "source": "### Mount Google Drive",
   "id": "89c741125c3035d5"
  },
  {
   "metadata": {},
   "cell_type": "code",
   "outputs": [],
   "execution_count": null,
   "source": [
    "from google.colab import drive\n",
    "drive.mount('/content/drive')"
   ],
   "id": "a19ac04df3776adc"
  },
  {
   "metadata": {},
   "cell_type": "markdown",
   "source": "### Load Preprocessed Data",
   "id": "6f3da2dee25da532"
  },
  {
   "metadata": {},
   "cell_type": "code",
   "outputs": [],
   "execution_count": null,
   "source": [
    "train_df = pd.read_pickle('/content/drive/MyDrive/spam-detection/data/processed/train.pkl')\n",
    "test_df = pd.read_pickle('/content/drive/MyDrive/spam-detection/data/processed/test.pkl')"
   ],
   "id": "f66c44c5ef12e330"
  },
  {
   "metadata": {},
   "cell_type": "markdown",
   "source": "### Training",
   "id": "23c9a997381f852d"
  },
  {
   "metadata": {},
   "cell_type": "code",
   "outputs": [],
   "execution_count": null,
   "source": [
    "from utils.train import train_model\n",
    "\n",
    "model, train_losses, val_accuracies = train_model(train_df, test_df)"
   ],
   "id": "16a4d399ca7e151d"
  },
  {
   "metadata": {},
   "cell_type": "markdown",
   "source": "### Plot Metrics",
   "id": "64376d9ea103cc6f"
  },
  {
   "metadata": {},
   "cell_type": "code",
   "outputs": [],
   "execution_count": null,
   "source": [
    "from utils.visualizations import plot_metrics\n",
    "\n",
    "plot_metrics(train_losses, val_accuracies)"
   ],
   "id": "cf68349ec4ae3ae6"
  },
  {
   "metadata": {},
   "cell_type": "code",
   "outputs": [],
   "execution_count": null,
   "source": [
    "from utils.visualizations import plot_confusion_matrix\n",
    "from utils.data_loader import get_test_loader\n",
    "\n",
    "test_loader = get_test_loader()\n",
    "plot_confusion_matrix(model, test_loader)"
   ],
   "id": "3a48e322936a1cd5"
  }
 ],
 "metadata": {
  "kernelspec": {
   "display_name": "Python 3",
   "language": "python",
   "name": "python3"
  },
  "language_info": {
   "codemirror_mode": {
    "name": "ipython",
    "version": 2
   },
   "file_extension": ".py",
   "mimetype": "text/x-python",
   "name": "python",
   "nbconvert_exporter": "python",
   "pygments_lexer": "ipython2",
   "version": "2.7.6"
  }
 },
 "nbformat": 4,
 "nbformat_minor": 5
}
