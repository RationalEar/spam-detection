{
 "cells": [
  {
   "cell_type": "markdown",
   "id": "404f8ac47b8f53bc",
   "metadata": {},
   "source": [
    "### Comprehensive Performance Metrics for CNN Model"
   ]
  },
  {
   "cell_type": "code",
   "execution_count": 1,
   "id": "initial_id",
   "metadata": {
    "collapsed": true
   },
   "outputs": [
    {
     "data": {
      "text/plain": [
       "'/data'"
      ]
     },
     "execution_count": 1,
     "metadata": {},
     "output_type": "execute_result"
    }
   ],
   "source": [
    "import numpy as np\n",
    "import pandas as pd\n",
    "from utils.constants import DATA_PATH, GLOVE_PATH\n",
    "\n",
    "DATA_PATH"
   ]
  },
  {
   "cell_type": "code",
   "execution_count": 2,
   "id": "e7c0899628a58edf",
   "metadata": {},
   "outputs": [],
   "source": [
    "# Load the data\n",
    "train_df = pd.read_pickle(DATA_PATH + '/data/processed/train.pkl')\n",
    "test_df = pd.read_pickle(DATA_PATH + '/data/processed/test.pkl')"
   ]
  },
  {
   "cell_type": "code",
   "execution_count": 3,
   "id": "644d9d99",
   "metadata": {},
   "outputs": [
    {
     "data": {
      "text/plain": [
       "device(type='cpu')"
      ]
     },
     "execution_count": 3,
     "metadata": {},
     "output_type": "execute_result"
    }
   ],
   "source": [
    "import torch\n",
    "\n",
    "device = torch.device('cuda' if torch.cuda.is_available() else 'cpu')\n",
    "device"
   ]
  },
  {
   "cell_type": "code",
   "execution_count": 4,
   "id": "77855246",
   "metadata": {},
   "outputs": [],
   "source": [
    "from utils.functions import set_seed, build_vocab\n",
    "\n",
    "# Build vocabulary and load embeddings\n",
    "set_seed(42)\n",
    "word2idx, idx2word = build_vocab(train_df['text'])\n",
    "embedding_dim = 300\n",
    "max_len = 200"
   ]
  },
  {
   "cell_type": "code",
   "execution_count": 5,
   "id": "3e56831a",
   "metadata": {},
   "outputs": [],
   "source": [
    "from preprocess.data_loader import load_glove_embeddings\n",
    "\n",
    "pretrained_embeddings = load_glove_embeddings(GLOVE_PATH, word2idx, embedding_dim)"
   ]
  },
  {
   "cell_type": "code",
   "execution_count": 6,
   "id": "27b5741d",
   "metadata": {},
   "outputs": [
    {
     "data": {
      "text/plain": [
       "SpamCNN(\n",
       "  (embedding): Embedding(25245, 300)\n",
       "  (conv1): Conv1d(300, 128, kernel_size=(3,), stride=(1,), padding=(1,))\n",
       "  (conv2): Conv1d(128, 64, kernel_size=(5,), stride=(1,), padding=(2,))\n",
       "  (conv3): Conv1d(64, 32, kernel_size=(7,), stride=(1,), padding=(3,))\n",
       "  (global_max_pool): AdaptiveMaxPool1d(output_size=1)\n",
       "  (fc1): Linear(in_features=32, out_features=64, bias=True)\n",
       "  (fc2): Linear(in_features=64, out_features=1, bias=True)\n",
       "  (dropout): Dropout(p=0.5, inplace=False)\n",
       ")"
      ]
     },
     "execution_count": 6,
     "metadata": {},
     "output_type": "execute_result"
    }
   ],
   "source": [
    "from models.cnn import SpamCNN\n",
    "\n",
    "# Load the trained CNN model\n",
    "model_path = DATA_PATH + '/trained-models/spam_cnn_final.pt'\n",
    "cnn_model = SpamCNN(vocab_size=len(word2idx), embedding_dim=embedding_dim,\n",
    "                    pretrained_embeddings=pretrained_embeddings)\n",
    "cnn_model.load(model_path, map_location=device)  # map_location handled in load()\n",
    "cnn_model = cnn_model\n",
    "cnn_model.eval()"
   ]
  },
  {
   "cell_type": "code",
   "execution_count": 7,
   "id": "17cc0519",
   "metadata": {},
   "outputs": [],
   "source": [
    "from utils.functions import encode\n",
    "\n",
    "# Prepare test data\n",
    "X_test_tensor = torch.tensor([encode(t, word2idx, max_len) for t in test_df['text']])\n",
    "y_test_tensor = torch.tensor(test_df['label'].values, dtype=torch.float32)\n",
    "\n",
    "# Move data to device\n",
    "X_test_tensor = X_test_tensor.to(device)\n",
    "y_test_tensor = y_test_tensor.to(device)"
   ]
  },
  {
   "cell_type": "code",
   "execution_count": 8,
   "id": "00465a96",
   "metadata": {},
   "outputs": [],
   "source": [
    "# Get model predictions\n",
    "with torch.no_grad():\n",
    "    y_pred_probs = cnn_model(X_test_tensor)\n",
    "    y_pred = (y_pred_probs > 0.5).float()"
   ]
  },
  {
   "cell_type": "code",
   "execution_count": 9,
   "id": "0963bdd1",
   "metadata": {},
   "outputs": [
    {
     "data": {
      "text/html": [
       "<div>\n",
       "<style scoped>\n",
       "    .dataframe tbody tr th:only-of-type {\n",
       "        vertical-align: middle;\n",
       "    }\n",
       "\n",
       "    .dataframe tbody tr th {\n",
       "        vertical-align: top;\n",
       "    }\n",
       "\n",
       "    .dataframe thead th {\n",
       "        text-align: right;\n",
       "    }\n",
       "</style>\n",
       "<table border=\"1\" class=\"dataframe\">\n",
       "  <thead>\n",
       "    <tr style=\"text-align: right;\">\n",
       "      <th></th>\n",
       "      <th>Value</th>\n",
       "      <th>Description</th>\n",
       "      <th>Optimal</th>\n",
       "    </tr>\n",
       "    <tr>\n",
       "      <th>Metric</th>\n",
       "      <th></th>\n",
       "      <th></th>\n",
       "      <th></th>\n",
       "    </tr>\n",
       "  </thead>\n",
       "  <tbody>\n",
       "    <tr>\n",
       "      <th>Accuracy</th>\n",
       "      <td>0.938944</td>\n",
       "      <td>Proportion of correct predictions (TP + TN) / ...</td>\n",
       "      <td>Higher better</td>\n",
       "    </tr>\n",
       "    <tr>\n",
       "      <th>Precision</th>\n",
       "      <td>0.932584</td>\n",
       "      <td>Proportion of true positives among predicted p...</td>\n",
       "      <td>Higher better</td>\n",
       "    </tr>\n",
       "    <tr>\n",
       "      <th>Recall (Spam Catch Rate)</th>\n",
       "      <td>0.869110</td>\n",
       "      <td>Proportion of true positives among actual posi...</td>\n",
       "      <td>Higher better</td>\n",
       "    </tr>\n",
       "    <tr>\n",
       "      <th>F1-Score</th>\n",
       "      <td>0.899729</td>\n",
       "      <td>Harmonic mean of precision and recall</td>\n",
       "      <td>Higher better</td>\n",
       "    </tr>\n",
       "    <tr>\n",
       "      <th>Specificity (Ham Preservation Rate)</th>\n",
       "      <td>0.971084</td>\n",
       "      <td>Proportion of true negatives among actual nega...</td>\n",
       "      <td>Higher better</td>\n",
       "    </tr>\n",
       "    <tr>\n",
       "      <th>False Positive Rate</th>\n",
       "      <td>0.028916</td>\n",
       "      <td>Proportion of false positives among actual neg...</td>\n",
       "      <td>Lower better</td>\n",
       "    </tr>\n",
       "    <tr>\n",
       "      <th>False Negative Rate</th>\n",
       "      <td>0.130890</td>\n",
       "      <td>Proportion of false negatives among actual pos...</td>\n",
       "      <td>Lower better</td>\n",
       "    </tr>\n",
       "    <tr>\n",
       "      <th>AUC-ROC</th>\n",
       "      <td>0.985725</td>\n",
       "      <td>Area under the Receiver Operating Characterist...</td>\n",
       "      <td>Higher better</td>\n",
       "    </tr>\n",
       "    <tr>\n",
       "      <th>Youden's J</th>\n",
       "      <td>0.840194</td>\n",
       "      <td>Recall + Specificity - 1</td>\n",
       "      <td>Higher better</td>\n",
       "    </tr>\n",
       "    <tr>\n",
       "      <th>Weighted Error</th>\n",
       "      <td>0.034818</td>\n",
       "      <td>Weighted cost (0.3*FP + 0.7*FN) / total</td>\n",
       "      <td>Lower better</td>\n",
       "    </tr>\n",
       "  </tbody>\n",
       "</table>\n",
       "</div>"
      ],
      "text/plain": [
       "                                        Value  \\\n",
       "Metric                                          \n",
       "Accuracy                             0.938944   \n",
       "Precision                            0.932584   \n",
       "Recall (Spam Catch Rate)             0.869110   \n",
       "F1-Score                             0.899729   \n",
       "Specificity (Ham Preservation Rate)  0.971084   \n",
       "False Positive Rate                  0.028916   \n",
       "False Negative Rate                  0.130890   \n",
       "AUC-ROC                              0.985725   \n",
       "Youden's J                           0.840194   \n",
       "Weighted Error                       0.034818   \n",
       "\n",
       "                                                                           Description  \\\n",
       "Metric                                                                                   \n",
       "Accuracy                             Proportion of correct predictions (TP + TN) / ...   \n",
       "Precision                            Proportion of true positives among predicted p...   \n",
       "Recall (Spam Catch Rate)             Proportion of true positives among actual posi...   \n",
       "F1-Score                                         Harmonic mean of precision and recall   \n",
       "Specificity (Ham Preservation Rate)  Proportion of true negatives among actual nega...   \n",
       "False Positive Rate                  Proportion of false positives among actual neg...   \n",
       "False Negative Rate                  Proportion of false negatives among actual pos...   \n",
       "AUC-ROC                              Area under the Receiver Operating Characterist...   \n",
       "Youden's J                                                    Recall + Specificity - 1   \n",
       "Weighted Error                                 Weighted cost (0.3*FP + 0.7*FN) / total   \n",
       "\n",
       "                                           Optimal  \n",
       "Metric                                              \n",
       "Accuracy                             Higher better  \n",
       "Precision                            Higher better  \n",
       "Recall (Spam Catch Rate)             Higher better  \n",
       "F1-Score                             Higher better  \n",
       "Specificity (Ham Preservation Rate)  Higher better  \n",
       "False Positive Rate                   Lower better  \n",
       "False Negative Rate                   Lower better  \n",
       "AUC-ROC                              Higher better  \n",
       "Youden's J                           Higher better  \n",
       "Weighted Error                        Lower better  "
      ]
     },
     "execution_count": 9,
     "metadata": {},
     "output_type": "execute_result"
    }
   ],
   "source": [
    "from metrics.cnn_metrics import compute_metrics\n",
    "import matplotlib.pyplot as plt\n",
    "import seaborn as sns\n",
    "\n",
    "# Compute metrics - now returns a DataFrame\n",
    "metrics_df = compute_metrics(y_test_tensor.cpu().numpy(), y_pred.cpu().numpy(), y_pred_probs.cpu().numpy())\n",
    "metrics_df"
   ]
  },
  {
   "cell_type": "code",
   "execution_count": 11,
   "id": "e44dda8a",
   "metadata": {},
   "outputs": [
    {
     "data": {
      "image/png": "[encoded data removed]",
      "text/plain": [
       "<Figure size 800x600 with 2 Axes>"
      ]
     },
     "metadata": {},
     "output_type": "display_data"
    },
    {
     "name": "stdout",
     "output_type": "stream",
     "text": [
      "\n",
      "Confusion Matrix Details:\n",
      "True Positives (TP): 166 - Correctly classified spam messages\n",
      "True Negatives (TN): 403 - Correctly classified ham messages\n",
      "False Positives (FP): 12 - Ham messages incorrectly classified as spam\n",
      "False Negatives (FN): 25 - Spam messages incorrectly classified as ham\n"
     ]
    }
   ],
   "source": [
    "# Visualize the confusion matrix\n",
    "confusion_matrix = metrics_df.attrs['confusion_matrix']\n",
    "\n",
    "# Create a visual confusion matrix\n",
    "cm_values = np.array([\n",
    "    [confusion_matrix['tn'], confusion_matrix['fp']],\n",
    "    [confusion_matrix['fn'], confusion_matrix['tp']]\n",
    "])\n",
    "\n",
    "plt.figure(figsize=(8, 6))\n",
    "sns.heatmap(cm_values, annot=True, fmt='d', cmap='Blues',\n",
    "           xticklabels=['Predicted Negative (Ham)', 'Predicted Positive (Spam)'],\n",
    "           yticklabels=['Actual Negative (Ham)', 'Actual Positive (Spam)'])\n",
    "plt.title('Confusion Matrix')\n",
    "plt.ylabel('Actual Label')\n",
    "plt.xlabel('Predicted Label')\n",
    "plt.tight_layout()\n",
    "plt.show()\n",
    "\n",
    "print(f\"\\nConfusion Matrix Details:\")\n",
    "print(f\"True Positives (TP): {confusion_matrix['tp']} - Correctly classified spam messages\")\n",
    "print(f\"True Negatives (TN): {confusion_matrix['tn']} - Correctly classified ham messages\")\n",
    "print(f\"False Positives (FP): {confusion_matrix['fp']} - Ham messages incorrectly classified as spam\")\n",
    "print(f\"False Negatives (FN): {confusion_matrix['fn']} - Spam messages incorrectly classified as ham\")"
   ]
  }
 ],
 "metadata": {
  "kernelspec": {
   "display_name": "Python 3 (ipykernel)",
   "language": "python",
   "name": "python3"
  },
  "language_info": {
   "codemirror_mode": {
    "name": "ipython",
    "version": 3
   },
   "file_extension": ".py",
   "mimetype": "text/x-python",
   "name": "python",
   "nbconvert_exporter": "python",
   "pygments_lexer": "ipython3",
   "version": "3.10.12"
  }
 },
 "nbformat": 4,
 "nbformat_minor": 5
}
