{
 "cells": [
  {
   "cell_type": "markdown",
   "id": "404f8ac47b8f53bc",
   "metadata": {},
   "source": "### Comprehensive Performance Metrics for BiLSTM Model"
  },
  {
   "cell_type": "code",
   "id": "initial_id",
   "metadata": {
    "collapsed": true,
    "ExecuteTime": {
     "end_time": "2025-06-25T17:30:01.331337Z",
     "start_time": "2025-06-25T17:30:01.323941Z"
    }
   },
   "source": [
    "import numpy as np\n",
    "import pandas as pd\n",
    "from utils.constants import DATA_PATH, GLOVE_PATH\n",
    "\n",
    "DATA_PATH"
   ],
   "outputs": [
    {
     "data": {
      "text/plain": [
       "'/home/michael/PycharmProjects/spam-detection-data'"
      ]
     },
     "execution_count": 1,
     "metadata": {},
     "output_type": "execute_result"
    }
   ],
   "execution_count": 1
  },
  {
   "cell_type": "code",
   "id": "e7c0899628a58edf",
   "metadata": {
    "ExecuteTime": {
     "end_time": "2025-06-25T17:30:02.194461Z",
     "start_time": "2025-06-25T17:30:01.403337Z"
    }
   },
   "source": [
    "# Load the data\n",
    "train_df = pd.read_pickle(DATA_PATH + '/data/processed/train.pkl')\n",
    "test_df = pd.read_pickle(DATA_PATH + '/data/processed/test.pkl')"
   ],
   "outputs": [],
   "execution_count": 2
  },
  {
   "cell_type": "code",
   "id": "644d9d99",
   "metadata": {
    "ExecuteTime": {
     "end_time": "2025-06-25T17:30:04.061818Z",
     "start_time": "2025-06-25T17:30:02.425286Z"
    }
   },
   "source": [
    "import torch\n",
    "\n",
    "device = torch.device('cuda' if torch.cuda.is_available() else 'cpu')\n",
    "device"
   ],
   "outputs": [
    {
     "data": {
      "text/plain": [
       "device(type='cuda')"
      ]
     },
     "execution_count": 3,
     "metadata": {},
     "output_type": "execute_result"
    }
   ],
   "execution_count": 3
  },
  {
   "cell_type": "code",
   "id": "77855246",
   "metadata": {
    "ExecuteTime": {
     "end_time": "2025-06-25T17:30:04.359270Z",
     "start_time": "2025-06-25T17:30:04.120115Z"
    }
   },
   "source": [
    "from utils.functions import set_seed, build_vocab\n",
    "\n",
    "# Build vocabulary and load embeddings\n",
    "set_seed(42)\n",
    "word2idx, idx2word = build_vocab(train_df['text'])\n",
    "embedding_dim = 300\n",
    "max_len = 200"
   ],
   "outputs": [],
   "execution_count": 4
  },
  {
   "cell_type": "code",
   "id": "3e56831a",
   "metadata": {
    "ExecuteTime": {
     "end_time": "2025-06-25T17:30:24.500098Z",
     "start_time": "2025-06-25T17:30:04.398388Z"
    }
   },
   "source": [
    "from preprocess.data_loader import load_glove_embeddings\n",
    "\n",
    "pretrained_embeddings = load_glove_embeddings(GLOVE_PATH, word2idx, embedding_dim)"
   ],
   "outputs": [],
   "execution_count": 5
  },
  {
   "cell_type": "code",
   "id": "27b5741d",
   "metadata": {
    "ExecuteTime": {
     "end_time": "2025-06-25T17:32:09.277255Z",
     "start_time": "2025-06-25T17:32:08.902174Z"
    }
   },
   "source": [
    "# Load the trained BiLSTM model\n",
    "from models.bilstm import BiLSTMSpam\n",
    "\n",
    "model_path = DATA_PATH + '/trained-models/best_bilstm_model.pt'\n",
    "model = BiLSTMSpam(vocab_size=len(word2idx), embedding_dim=embedding_dim,\n",
    "                   pretrained_embeddings=pretrained_embeddings)\n",
    "model.load(model_path)\n",
    "model = model.to(device)\n",
    "model.eval()"
   ],
   "outputs": [
    {
     "ename": "RuntimeError",
     "evalue": "Error(s) in loading state_dict for BiLSTMSpam:\n\tsize mismatch for embedding.weight: copying a param with shape torch.Size([25373, 300]) from checkpoint, the shape in current model is torch.Size([25245, 300]).",
     "output_type": "error",
     "traceback": [
      "\u001B[0;31m---------------------------------------------------------------------------\u001B[0m",
      "\u001B[0;31mRuntimeError\u001B[0m                              Traceback (most recent call last)",
      "Cell \u001B[0;32mIn[7], line 7\u001B[0m\n\u001B[1;32m      4\u001B[0m model_path \u001B[38;5;241m=\u001B[39m DATA_PATH \u001B[38;5;241m+\u001B[39m \u001B[38;5;124m'\u001B[39m\u001B[38;5;124m/trained-models/best_bilstm_model.pt\u001B[39m\u001B[38;5;124m'\u001B[39m\n\u001B[1;32m      5\u001B[0m model \u001B[38;5;241m=\u001B[39m BiLSTMSpam(vocab_size\u001B[38;5;241m=\u001B[39m\u001B[38;5;28mlen\u001B[39m(word2idx), embedding_dim\u001B[38;5;241m=\u001B[39membedding_dim,\n\u001B[1;32m      6\u001B[0m                    pretrained_embeddings\u001B[38;5;241m=\u001B[39mpretrained_embeddings)\n\u001B[0;32m----> 7\u001B[0m \u001B[43mmodel\u001B[49m\u001B[38;5;241;43m.\u001B[39;49m\u001B[43mload\u001B[49m\u001B[43m(\u001B[49m\u001B[43mmodel_path\u001B[49m\u001B[43m)\u001B[49m\n\u001B[1;32m      8\u001B[0m model \u001B[38;5;241m=\u001B[39m model\u001B[38;5;241m.\u001B[39mto(device)\n\u001B[1;32m      9\u001B[0m model\u001B[38;5;241m.\u001B[39meval()\n",
      "File \u001B[0;32m~/PycharmProjects/spam-detection/models/bilstm.py:373\u001B[0m, in \u001B[0;36mBiLSTMSpam.load\u001B[0;34m(self, path)\u001B[0m\n\u001B[1;32m    371\u001B[0m \u001B[38;5;66;03m# Load model state\u001B[39;00m\n\u001B[1;32m    372\u001B[0m \u001B[38;5;28;01mif\u001B[39;00m \u001B[38;5;124m'\u001B[39m\u001B[38;5;124mmodel_state_dict\u001B[39m\u001B[38;5;124m'\u001B[39m \u001B[38;5;129;01min\u001B[39;00m checkpoint:\n\u001B[0;32m--> 373\u001B[0m     \u001B[38;5;28;43mself\u001B[39;49m\u001B[38;5;241;43m.\u001B[39;49m\u001B[43mload_state_dict\u001B[49m\u001B[43m(\u001B[49m\u001B[43mcheckpoint\u001B[49m\u001B[43m[\u001B[49m\u001B[38;5;124;43m'\u001B[39;49m\u001B[38;5;124;43mmodel_state_dict\u001B[39;49m\u001B[38;5;124;43m'\u001B[39;49m\u001B[43m]\u001B[49m\u001B[43m)\u001B[49m\n\u001B[1;32m    374\u001B[0m \u001B[38;5;28;01melse\u001B[39;00m:\n\u001B[1;32m    375\u001B[0m     \u001B[38;5;28mself\u001B[39m\u001B[38;5;241m.\u001B[39mload_state_dict(checkpoint)\n",
      "File \u001B[0;32m~/PycharmProjects/spam-detection/venv/lib/python3.10/site-packages/torch/nn/modules/module.py:2593\u001B[0m, in \u001B[0;36mModule.load_state_dict\u001B[0;34m(self, state_dict, strict, assign)\u001B[0m\n\u001B[1;32m   2585\u001B[0m         error_msgs\u001B[38;5;241m.\u001B[39minsert(\n\u001B[1;32m   2586\u001B[0m             \u001B[38;5;241m0\u001B[39m,\n\u001B[1;32m   2587\u001B[0m             \u001B[38;5;124m\"\u001B[39m\u001B[38;5;124mMissing key(s) in state_dict: \u001B[39m\u001B[38;5;132;01m{}\u001B[39;00m\u001B[38;5;124m. \u001B[39m\u001B[38;5;124m\"\u001B[39m\u001B[38;5;241m.\u001B[39mformat(\n\u001B[1;32m   2588\u001B[0m                 \u001B[38;5;124m\"\u001B[39m\u001B[38;5;124m, \u001B[39m\u001B[38;5;124m\"\u001B[39m\u001B[38;5;241m.\u001B[39mjoin(\u001B[38;5;124mf\u001B[39m\u001B[38;5;124m'\u001B[39m\u001B[38;5;124m\"\u001B[39m\u001B[38;5;132;01m{\u001B[39;00mk\u001B[38;5;132;01m}\u001B[39;00m\u001B[38;5;124m\"\u001B[39m\u001B[38;5;124m'\u001B[39m \u001B[38;5;28;01mfor\u001B[39;00m k \u001B[38;5;129;01min\u001B[39;00m missing_keys)\n\u001B[1;32m   2589\u001B[0m             ),\n\u001B[1;32m   2590\u001B[0m         )\n\u001B[1;32m   2592\u001B[0m \u001B[38;5;28;01mif\u001B[39;00m \u001B[38;5;28mlen\u001B[39m(error_msgs) \u001B[38;5;241m>\u001B[39m \u001B[38;5;241m0\u001B[39m:\n\u001B[0;32m-> 2593\u001B[0m     \u001B[38;5;28;01mraise\u001B[39;00m \u001B[38;5;167;01mRuntimeError\u001B[39;00m(\n\u001B[1;32m   2594\u001B[0m         \u001B[38;5;124m\"\u001B[39m\u001B[38;5;124mError(s) in loading state_dict for \u001B[39m\u001B[38;5;132;01m{}\u001B[39;00m\u001B[38;5;124m:\u001B[39m\u001B[38;5;130;01m\\n\u001B[39;00m\u001B[38;5;130;01m\\t\u001B[39;00m\u001B[38;5;132;01m{}\u001B[39;00m\u001B[38;5;124m\"\u001B[39m\u001B[38;5;241m.\u001B[39mformat(\n\u001B[1;32m   2595\u001B[0m             \u001B[38;5;28mself\u001B[39m\u001B[38;5;241m.\u001B[39m\u001B[38;5;18m__class__\u001B[39m\u001B[38;5;241m.\u001B[39m\u001B[38;5;18m__name__\u001B[39m, \u001B[38;5;124m\"\u001B[39m\u001B[38;5;130;01m\\n\u001B[39;00m\u001B[38;5;130;01m\\t\u001B[39;00m\u001B[38;5;124m\"\u001B[39m\u001B[38;5;241m.\u001B[39mjoin(error_msgs)\n\u001B[1;32m   2596\u001B[0m         )\n\u001B[1;32m   2597\u001B[0m     )\n\u001B[1;32m   2598\u001B[0m \u001B[38;5;28;01mreturn\u001B[39;00m _IncompatibleKeys(missing_keys, unexpected_keys)\n",
      "\u001B[0;31mRuntimeError\u001B[0m: Error(s) in loading state_dict for BiLSTMSpam:\n\tsize mismatch for embedding.weight: copying a param with shape torch.Size([25373, 300]) from checkpoint, the shape in current model is torch.Size([25245, 300])."
     ]
    }
   ],
   "execution_count": 7
  },
  {
   "cell_type": "code",
   "id": "17cc0519",
   "metadata": {},
   "source": [
    "from utils.functions import encode\n",
    "\n",
    "# Prepare test data\n",
    "X_test_tensor = torch.tensor([encode(t, word2idx, max_len) for t in test_df['text']])\n",
    "y_test_tensor = torch.tensor(test_df['label'].values, dtype=torch.float32)\n",
    "\n",
    "# Move data to device\n",
    "X_test_tensor = X_test_tensor.to(device)\n",
    "y_test_tensor = y_test_tensor.to(device)"
   ],
   "outputs": [],
   "execution_count": null
  },
  {
   "cell_type": "code",
   "id": "00465a96",
   "metadata": {},
   "source": [
    "# Get model predictions\n",
    "with torch.no_grad():\n",
    "    y_pred_probs = model(X_test_tensor)\n",
    "    y_pred = (y_pred_probs > 0.5).float()"
   ],
   "outputs": [],
   "execution_count": null
  },
  {
   "cell_type": "code",
   "id": "0963bdd1",
   "metadata": {},
   "source": [
    "from metrics.metrics import compute_metrics\n",
    "import matplotlib.pyplot as plt\n",
    "import seaborn as sns\n",
    "\n",
    "# Compute metrics - now returns a DataFrame\n",
    "metrics_df = compute_metrics(y_test_tensor.cpu().numpy(), y_pred.cpu().numpy(), y_pred_probs.cpu().numpy())\n",
    "metrics_df"
   ],
   "outputs": [],
   "execution_count": null
  },
  {
   "cell_type": "code",
   "id": "e44dda8a",
   "metadata": {},
   "source": [
    "# Visualize the confusion matrix\n",
    "confusion_matrix = metrics_df.attrs['confusion_matrix']\n",
    "\n",
    "# Create a visual confusion matrix\n",
    "cm_values = np.array([\n",
    "    [confusion_matrix['tn'], confusion_matrix['fp']],\n",
    "    [confusion_matrix['fn'], confusion_matrix['tp']]\n",
    "])\n",
    "\n",
    "plt.figure(figsize=(8, 6))\n",
    "sns.heatmap(cm_values, annot=True, fmt='d', cmap='Blues',\n",
    "           xticklabels=['Predicted Negative (Ham)', 'Predicted Positive (Spam)'],\n",
    "           yticklabels=['Actual Negative (Ham)', 'Actual Positive (Spam)'])\n",
    "plt.title('Confusion Matrix')\n",
    "plt.ylabel('Actual Label')\n",
    "plt.xlabel('Predicted Label')\n",
    "plt.tight_layout()\n",
    "plt.show()\n",
    "\n",
    "print(f\"\\nConfusion Matrix Details:\")\n",
    "print(f\"True Positives (TP): {confusion_matrix['tp']} - Correctly classified spam messages\")\n",
    "print(f\"True Negatives (TN): {confusion_matrix['tn']} - Correctly classified ham messages\")\n",
    "print(f\"False Positives (FP): {confusion_matrix['fp']} - Ham messages incorrectly classified as spam\")\n",
    "print(f\"False Negatives (FN): {confusion_matrix['fn']} - Spam messages incorrectly classified as ham\")"
   ],
   "outputs": [],
   "execution_count": null
  }
 ],
 "metadata": {
  "kernelspec": {
   "display_name": "Python 3 (ipykernel)",
   "language": "python",
   "name": "python3"
  },
  "language_info": {
   "codemirror_mode": {
    "name": "ipython",
    "version": 3
   },
   "file_extension": ".py",
   "mimetype": "text/x-python",
   "name": "python",
   "nbconvert_exporter": "python",
   "pygments_lexer": "ipython3",
   "version": "3.10.12"
  }
 },
 "nbformat": 4,
 "nbformat_minor": 5
}
