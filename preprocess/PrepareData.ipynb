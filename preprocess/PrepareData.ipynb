{
 "cells": [
  {
   "metadata": {},
   "cell_type": "markdown",
   "source": [
    "### Download and Preprocess Data\n",
    "1. Extract metadata fields\n",
    "2. HTML Stripping\n",
    "3. Lowercasing\n",
    "4. Remove special characters\n",
    "5. Remove stopwords\n",
    "6. Tokenization"
   ],
   "id": "1cac93608f39cbf2"
  },
  {
   "metadata": {},
   "cell_type": "markdown",
   "source": "#### Download and extract the dataset",
   "id": "b5569bf6fead9c3c"
  },
  {
   "metadata": {
    "ExecuteTime": {
     "end_time": "2025-06-08T11:05:36.057619Z",
     "start_time": "2025-06-08T11:05:14.148322Z"
    }
   },
   "cell_type": "code",
   "source": [
    "from preprocess.data_loader import download_datasets\n",
    "\n",
    "download_datasets()"
   ],
   "id": "5cb54e25ce8197bb",
   "outputs": [
    {
     "name": "stdout",
     "output_type": "stream",
     "text": [
      "DATA_PATH: /home/michael/PycharmProjects/spam-detection-data\n",
      "Downloading easy_ham...\n",
      "Downloading easy_ham_2...\n",
      "Downloading hard_ham...\n",
      "Downloading spam...\n",
      "Downloading spam_2...\n"
     ]
    }
   ],
   "execution_count": 1
  },
  {
   "metadata": {},
   "cell_type": "markdown",
   "source": "#### Process the dataset",
   "id": "809bb3639845d5e"
  },
  {
   "metadata": {
    "ExecuteTime": {
     "end_time": "2025-06-08T12:31:54.749782Z",
     "start_time": "2025-06-08T12:31:38.433133Z"
    }
   },
   "cell_type": "code",
   "source": [
    "from preprocess.preprocessor import prepare_data\n",
    "\n",
    "prepare_data()"
   ],
   "id": "73335147f43cd5b6",
   "outputs": [
    {
     "name": "stdout",
     "output_type": "stream",
     "text": [
      "\n",
      "Dataset counts:\n",
      "source\n",
      "easy_ham      2500\n",
      "easy_ham_2    1400\n",
      "spam_2        1397\n",
      "spam           500\n",
      "hard_ham       250\n",
      "Name: count, dtype: int64\n",
      "Spam ratio: 31.37%\n",
      "\n",
      "Data preparation complete!\n",
      "Train: 4837, Test: 1210, Total: 6047\n"
     ]
    }
   ],
   "execution_count": 2
  },
  {
   "metadata": {},
   "cell_type": "code",
   "outputs": [],
   "execution_count": null,
   "source": "",
   "id": "28422d2bd1135c54"
  }
 ],
 "metadata": {
  "kernelspec": {
   "display_name": "Python 3",
   "language": "python",
   "name": "python3"
  },
  "language_info": {
   "codemirror_mode": {
    "name": "ipython",
    "version": 2
   },
   "file_extension": ".py",
   "mimetype": "text/x-python",
   "name": "python",
   "nbconvert_exporter": "python",
   "pygments_lexer": "ipython2",
   "version": "2.7.6"
  }
 },
 "nbformat": 4,
 "nbformat_minor": 5
}
