{
 "cells": [
  {
   "metadata": {},
   "cell_type": "markdown",
   "source": [
    "### Download and Preprocess Data\n",
    "1. Extract metadata fields\n",
    "2. HTML Stripping\n",
    "3. Lowercasing\n",
    "4. Remove special characters\n",
    "5. Remove stopwords\n",
    "6. Tokenization"
   ],
   "id": "1cac93608f39cbf2"
  },
  {
   "metadata": {},
   "cell_type": "markdown",
   "source": "#### Download and extract the dataset",
   "id": "b5569bf6fead9c3c"
  },
  {
   "metadata": {},
   "cell_type": "code",
   "source": [
    "import os\n",
    "import sys\n",
    "\n",
    "if \"google.colab\" in sys.modules:\n",
    "    workspace_dir = '/content/spam-detection'\n",
    "    branch = 'master'\n",
    "    current_dir = os.getcwd()\n",
    "    if not os.path.exists(workspace_dir) and current_dir != workspace_dir:\n",
    "        !git clone https://github.com/RationalEar/spam-detection.git\n",
    "        os.chdir(workspace_dir)\n",
    "        !git checkout $branch\n",
    "        !ls -al\n",
    "        !pip install -q scikit-learn pandas numpy\n",
    "        !pip install -q torch --index-url https://download.pytorch.org/whl/cu126\n",
    "    else:\n",
    "        os.chdir(workspace_dir)\n",
    "        !git pull origin $branch\n",
    "\n",
    "    from google.colab import drive\n",
    "\n",
    "    drive.mount('/content/drive')"
   ],
   "id": "5cb54e25ce8197bb",
   "execution_count": null,
   "outputs": []
  },
  {
   "metadata": {},
   "cell_type": "code",
   "outputs": [
    {
     "name": "stdout",
     "output_type": "stream",
     "text": [
      "Downloading easy_ham...\n",
      "easy_ham already downloaded.\n",
      "Downloading easy_ham_2...\n",
      "easy_ham_2 already downloaded.\n",
      "Downloading hard_ham...\n",
      "hard_ham already downloaded.\n",
      "Downloading spam...\n",
      "spam already downloaded.\n",
      "Downloading spam_2...\n",
      "spam_2 already downloaded.\n"
     ]
    }
   ],
   "execution_count": 3,
   "source": [
    "from preprocess.data_loader import download_datasets\n",
    "\n",
    "download_datasets()"
   ],
   "id": "11a7ae13adfd29f4"
  },
  {
   "metadata": {},
   "cell_type": "markdown",
   "source": "#### Process the dataset",
   "id": "809bb3639845d5e"
  },
  {
   "metadata": {
    "ExecuteTime": {
     "end_time": "2025-06-08T14:16:41.399400Z",
     "start_time": "2025-06-08T14:16:22.385873Z"
    }
   },
   "cell_type": "code",
   "source": [
    "from preprocess.preprocessor import prepare_data\n",
    "\n",
    "prepare_data()"
   ],
   "id": "73335147f43cd5b6",
   "outputs": [
    {
     "name": "stdout",
     "output_type": "stream",
     "text": [
      "DATA_PATH: /home/michael/PycharmProjects/spam-detection-data\n",
      "\n",
      "Dataset counts:\n",
      "source\n",
      "easy_ham      2500\n",
      "easy_ham_2    1400\n",
      "spam_2        1397\n",
      "spam           500\n",
      "hard_ham       250\n",
      "Name: count, dtype: int64\n",
      "Spam ratio: 31.37%\n",
      "\n",
      "Data preparation complete!\n",
      "Train: 4837, Val: 604, Test: 606, Total: 6047\n"
     ]
    }
   ],
   "execution_count": 1
  },
  {
   "metadata": {
    "ExecuteTime": {
     "end_time": "2025-06-08T14:16:45.718736Z",
     "start_time": "2025-06-08T14:16:44.950774Z"
    }
   },
   "cell_type": "code",
   "source": [
    "#### Preview the processed data\n",
    "import pandas as pd\n",
    "from utils.constants import DATA_PATH\n",
    "\n",
    "train_df = pd.read_pickle(open(f\"{DATA_PATH}/data/processed/train.pkl\", \"rb\"))\n",
    "train_df.head()"
   ],
   "id": "28422d2bd1135c54",
   "outputs": [
    {
     "data": {
      "text/plain": [
       "                                        subject  \\\n",
       "0    Personal Finance: Resolutions You Can Keep   \n",
       "1      Please help a newbie compile mplayer :-)   \n",
       "2  Re: Please help a newbie compile mplayer :-)   \n",
       "3  Re: Please help a newbie compile mplayer :-)   \n",
       "4  Re: Please help a newbie compile mplayer :-)   \n",
       "\n",
       "                                                text  label    source  \\\n",
       "0  personal finance resolutions you keep motley f...      0  hard_ham   \n",
       "1  please help newbie compile mplayer hello i jus...      0  easy_ham   \n",
       "2  re please help newbie compile mplayer make sur...      0  easy_ham   \n",
       "3  re please help newbie compile mplayer lance wr...      0  easy_ham   \n",
       "4  re please help newbie compile mplayer once upo...      0  easy_ham   \n",
       "\n",
       "                                         sender_hash  \\\n",
       "0  bb339a04eb35de16f6386c5ca0d57fd88b20916663bd84...   \n",
       "1  2f890790e67625bdfd8e3c7cca018bf511c2cbca431554...   \n",
       "2  d83f5738686fa88436e12f3710c15b270666e3061ba627...   \n",
       "3  2f890790e67625bdfd8e3c7cca018bf511c2cbca431554...   \n",
       "4  f9579e33dbc2d625e2ba35d53c611b8c3bd09cca4c7760...   \n",
       "\n",
       "                                       reply_to_hash  \\\n",
       "0  3d0448fc6a4d02914e3adf6812ede7310a82838909afac...   \n",
       "1  492368811b79453838d5e7e3692f607adee8d7e71ddd2e...   \n",
       "2  492368811b79453838d5e7e3692f607adee8d7e71ddd2e...   \n",
       "3  492368811b79453838d5e7e3692f607adee8d7e71ddd2e...   \n",
       "4  492368811b79453838d5e7e3692f607adee8d7e71ddd2e...   \n",
       "\n",
       "                              date  \n",
       "0  Wed, 02 Jan 2002 13:55:00 -0500  \n",
       "1  Thu, 31 Jan 2002 22:44:14 -0700  \n",
       "2  Fri, 01 Feb 2002 00:53:41 -0600  \n",
       "3  Fri, 01 Feb 2002 02:01:44 -0700  \n",
       "4  Fri, 01 Feb 2002 10:29:23 +0100  "
      ],
      "text/html": [
       "<div>\n",
       "<style scoped>\n",
       "    .dataframe tbody tr th:only-of-type {\n",
       "        vertical-align: middle;\n",
       "    }\n",
       "\n",
       "    .dataframe tbody tr th {\n",
       "        vertical-align: top;\n",
       "    }\n",
       "\n",
       "    .dataframe thead th {\n",
       "        text-align: right;\n",
       "    }\n",
       "</style>\n",
       "<table border=\"1\" class=\"dataframe\">\n",
       "  <thead>\n",
       "    <tr style=\"text-align: right;\">\n",
       "      <th></th>\n",
       "      <th>subject</th>\n",
       "      <th>text</th>\n",
       "      <th>label</th>\n",
       "      <th>source</th>\n",
       "      <th>sender_hash</th>\n",
       "      <th>reply_to_hash</th>\n",
       "      <th>date</th>\n",
       "    </tr>\n",
       "  </thead>\n",
       "  <tbody>\n",
       "    <tr>\n",
       "      <th>0</th>\n",
       "      <td>Personal Finance: Resolutions You Can Keep</td>\n",
       "      <td>personal finance resolutions you keep motley f...</td>\n",
       "      <td>0</td>\n",
       "      <td>hard_ham</td>\n",
       "      <td>bb339a04eb35de16f6386c5ca0d57fd88b20916663bd84...</td>\n",
       "      <td>3d0448fc6a4d02914e3adf6812ede7310a82838909afac...</td>\n",
       "      <td>Wed, 02 Jan 2002 13:55:00 -0500</td>\n",
       "    </tr>\n",
       "    <tr>\n",
       "      <th>1</th>\n",
       "      <td>Please help a newbie compile mplayer :-)</td>\n",
       "      <td>please help newbie compile mplayer hello i jus...</td>\n",
       "      <td>0</td>\n",
       "      <td>easy_ham</td>\n",
       "      <td>2f890790e67625bdfd8e3c7cca018bf511c2cbca431554...</td>\n",
       "      <td>492368811b79453838d5e7e3692f607adee8d7e71ddd2e...</td>\n",
       "      <td>Thu, 31 Jan 2002 22:44:14 -0700</td>\n",
       "    </tr>\n",
       "    <tr>\n",
       "      <th>2</th>\n",
       "      <td>Re: Please help a newbie compile mplayer :-)</td>\n",
       "      <td>re please help newbie compile mplayer make sur...</td>\n",
       "      <td>0</td>\n",
       "      <td>easy_ham</td>\n",
       "      <td>d83f5738686fa88436e12f3710c15b270666e3061ba627...</td>\n",
       "      <td>492368811b79453838d5e7e3692f607adee8d7e71ddd2e...</td>\n",
       "      <td>Fri, 01 Feb 2002 00:53:41 -0600</td>\n",
       "    </tr>\n",
       "    <tr>\n",
       "      <th>3</th>\n",
       "      <td>Re: Please help a newbie compile mplayer :-)</td>\n",
       "      <td>re please help newbie compile mplayer lance wr...</td>\n",
       "      <td>0</td>\n",
       "      <td>easy_ham</td>\n",
       "      <td>2f890790e67625bdfd8e3c7cca018bf511c2cbca431554...</td>\n",
       "      <td>492368811b79453838d5e7e3692f607adee8d7e71ddd2e...</td>\n",
       "      <td>Fri, 01 Feb 2002 02:01:44 -0700</td>\n",
       "    </tr>\n",
       "    <tr>\n",
       "      <th>4</th>\n",
       "      <td>Re: Please help a newbie compile mplayer :-)</td>\n",
       "      <td>re please help newbie compile mplayer once upo...</td>\n",
       "      <td>0</td>\n",
       "      <td>easy_ham</td>\n",
       "      <td>f9579e33dbc2d625e2ba35d53c611b8c3bd09cca4c7760...</td>\n",
       "      <td>492368811b79453838d5e7e3692f607adee8d7e71ddd2e...</td>\n",
       "      <td>Fri, 01 Feb 2002 10:29:23 +0100</td>\n",
       "    </tr>\n",
       "  </tbody>\n",
       "</table>\n",
       "</div>"
      ]
     },
     "execution_count": 2,
     "metadata": {},
     "output_type": "execute_result"
    }
   ],
   "execution_count": 2
  }
 ],
 "metadata": {
  "kernelspec": {
   "display_name": "Python 3",
   "language": "python",
   "name": "python3"
  },
  "language_info": {
   "codemirror_mode": {
    "name": "ipython",
    "version": 2
   },
   "file_extension": ".py",
   "mimetype": "text/x-python",
   "name": "python",
   "nbconvert_exporter": "python",
   "pygments_lexer": "ipython2",
   "version": "2.7.6"
  }
 },
 "nbformat": 4,
 "nbformat_minor": 5
}
