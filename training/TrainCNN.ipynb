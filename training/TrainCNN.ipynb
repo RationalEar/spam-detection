{
 "cells": [
  {
   "metadata": {},
   "cell_type": "markdown",
   "source": "#### Environment Setup",
   "id": "6b54208ff262a310"
  },
  {
   "cell_type": "code",
   "execution_count": null,
   "id": "initial_id",
   "metadata": {
    "collapsed": true
   },
   "outputs": [],
   "source": [
    "import os\n",
    "from training.setup import setup_workspace, install_dependencies\n",
    "from utils.constants import DATA_PATH\n",
    "\n",
    "setup_workspace(branch=\"feature/cnn-model\")\n",
    "install_dependencies()"
   ]
  },
  {
   "metadata": {},
   "cell_type": "code",
   "outputs": [],
   "execution_count": null,
   "source": [
    "### If running on Google Colab, mount Google Drive\n",
    "from google.colab import drive\n",
    "\n",
    "drive.mount('/content/drive')"
   ],
   "id": "87a2076b8d05e020"
  },
  {
   "metadata": {},
   "cell_type": "code",
   "outputs": [],
   "execution_count": null,
   "source": [
    "import pandas as pd\n",
    "from utils.functions import set_seed\n",
    "\n",
    "set_seed(42)"
   ],
   "id": "871bf8d69f0dccd8"
  },
  {
   "metadata": {},
   "cell_type": "markdown",
   "source": "#### Load the preprocessed data",
   "id": "d1a1ef7e74c4118f"
  },
  {
   "metadata": {},
   "cell_type": "code",
   "outputs": [],
   "execution_count": null,
   "source": [
    "train_df = pd.read_pickle(open(f\"{DATA_PATH}/data/processed/train.pkl\", \"rb\"))\n",
    "val_df = pd.read_pickle(open(f\"{DATA_PATH}/data/processed/val.pkl\", \"rb\"))\n",
    "test_df = pd.read_pickle(open(f\"{DATA_PATH}/data/processed/test.pkl\", \"rb\"))\n",
    "train_df.head()"
   ],
   "id": "ed2917b74e95c383"
  },
  {
   "metadata": {},
   "cell_type": "code",
   "outputs": [],
   "execution_count": null,
   "source": [
    "# Build vocabulary from training data\n",
    "from utils.functions import build_vocab\n",
    "\n",
    "word2idx, idx2word = build_vocab(train_df['text'])"
   ],
   "id": "8dfa7100d1eb2dc2"
  },
  {
   "metadata": {},
   "cell_type": "code",
   "outputs": [],
   "execution_count": null,
   "source": [
    "from preprocess.data_loader import load_glove_embeddings\n",
    "\n",
    "# Load GloVe embeddings\n",
    "GLOVE_PATH = os.path.join(DATA_PATH, 'data/raw/glove.6B/glove.6B.300d.txt')\n",
    "embedding_dim = 300\n",
    "max_len = 200\n",
    "pretrained_embeddings = load_glove_embeddings(GLOVE_PATH, word2idx, embedding_dim)"
   ],
   "id": "b12756a36d887d07"
  },
  {
   "metadata": {},
   "cell_type": "markdown",
   "source": "#### Train the CNN model",
   "id": "ff29cc743092b71d"
  },
  {
   "metadata": {},
   "cell_type": "code",
   "outputs": [],
   "execution_count": null,
   "source": [
    "from utils.constants import MODEL_SAVE_PATH\n",
    "from training.trainer import train_model\n",
    "\n",
    "train_model('cnn', train_df, val_df, test_df, embedding_dim=embedding_dim, pretrained_embeddings=pretrained_embeddings,\n",
    "                model_save_path=MODEL_SAVE_PATH, max_len=max_len, evaluate=True)"
   ],
   "id": "434836550f56dacb"
  }
 ],
 "metadata": {
  "kernelspec": {
   "display_name": "Python 3",
   "language": "python",
   "name": "python3"
  },
  "language_info": {
   "codemirror_mode": {
    "name": "ipython",
    "version": 2
   },
   "file_extension": ".py",
   "mimetype": "text/x-python",
   "name": "python",
   "nbconvert_exporter": "python",
   "pygments_lexer": "ipython2",
   "version": "2.7.6"
  }
 },
 "nbformat": 4,
 "nbformat_minor": 5
}
