{
 "cells": [
  {
   "cell_type": "markdown",
   "id": "6b54208ff262a310",
   "metadata": {
    "id": "6b54208ff262a310"
   },
   "source": [
    "#### Environment Setup"
   ]
  },
  {
   "cell_type": "code",
   "execution_count": 1,
   "id": "initial_id",
   "metadata": {
    "colab": {
     "base_uri": "https://localhost:8080/"
    },
    "collapsed": true,
    "id": "initial_id",
    "outputId": "fdb047f5-f324-410b-d104-3f4fb5a6d8c1"
   },
   "outputs": [
    {
     "output_type": "stream",
     "name": "stdout",
     "text": [
      "Cloning into 'spam-detection'...\n",
      "remote: Enumerating objects: 328, done.\u001B[K\n",
      "remote: Counting objects: 100% (328/328), done.\u001B[K\n",
      "remote: Compressing objects: 100% (220/220), done.\u001B[K\n",
      "remote: Total 328 (delta 153), reused 253 (delta 88), pack-reused 0 (from 0)\u001B[K\n",
      "Receiving objects: 100% (328/328), 3.48 MiB | 12.73 MiB/s, done.\n",
      "Resolving deltas: 100% (153/153), done.\n",
      "Branch 'feature/cnn-model' set up to track remote branch 'feature/cnn-model' from 'origin'.\n",
      "Switched to a new branch 'feature/cnn-model'\n",
      "total 48\n",
      "drwxr-xr-x 10 root root 4096 Jul 19 09:34 .\n",
      "drwxr-xr-x  1 root root 4096 Jul 19 09:34 ..\n",
      "drwxr-xr-x  2 root root 4096 Jul 19 09:34 docs\n",
      "drwxr-xr-x  8 root root 4096 Jul 19 09:34 .git\n",
      "-rw-r--r--  1 root root   30 Jul 19 09:34 .gitignore\n",
      "drwxr-xr-x  2 root root 4096 Jul 19 09:34 integrations\n",
      "drwxr-xr-x  2 root root 4096 Jul 19 09:34 metrics\n",
      "drwxr-xr-x  2 root root 4096 Jul 19 09:34 models\n",
      "drwxr-xr-x  2 root root 4096 Jul 19 09:34 preprocess\n",
      "-rw-r--r--  1 root root 2441 Jul 19 09:34 requirements.txt\n",
      "drwxr-xr-x  2 root root 4096 Jul 19 09:34 training\n",
      "drwxr-xr-x  2 root root 4096 Jul 19 09:34 utils\n",
      "\u001B[2K     \u001B[90m━━━━━━━━━━━━━━━━━━━━━━━━━━━━━━━━━━━━━━━━\u001B[0m \u001B[32m44.4/44.4 kB\u001B[0m \u001B[31m3.7 MB/s\u001B[0m eta \u001B[36m0:00:00\u001B[0m\n",
      "\u001B[2K   \u001B[90m━━━━━━━━━━━━━━━━━━━━━━━━━━━━━━━━━━━━━━━━\u001B[0m \u001B[32m9.7/9.7 MB\u001B[0m \u001B[31m91.0 MB/s\u001B[0m eta \u001B[36m0:00:00\u001B[0m\n",
      "\u001B[2K   \u001B[90m━━━━━━━━━━━━━━━━━━━━━━━━━━━━━━━━━━━━━━━━\u001B[0m \u001B[32m363.4/363.4 MB\u001B[0m \u001B[31m2.4 MB/s\u001B[0m eta \u001B[36m0:00:00\u001B[0m\n",
      "\u001B[2K   \u001B[90m━━━━━━━━━━━━━━━━━━━━━━━━━━━━━━━━━━━━━━━━\u001B[0m \u001B[32m13.8/13.8 MB\u001B[0m \u001B[31m126.3 MB/s\u001B[0m eta \u001B[36m0:00:00\u001B[0m\n",
      "\u001B[2K   \u001B[90m━━━━━━━━━━━━━━━━━━━━━━━━━━━━━━━━━━━━━━━━\u001B[0m \u001B[32m24.6/24.6 MB\u001B[0m \u001B[31m98.1 MB/s\u001B[0m eta \u001B[36m0:00:00\u001B[0m\n",
      "\u001B[2K   \u001B[90m━━━━━━━━━━━━━━━━━━━━━━━━━━━━━━━━━━━━━━━━\u001B[0m \u001B[32m883.7/883.7 kB\u001B[0m \u001B[31m47.7 MB/s\u001B[0m eta \u001B[36m0:00:00\u001B[0m\n",
      "\u001B[2K   \u001B[90m━━━━━━━━━━━━━━━━━━━━━━━━━━━━━━━━━━━━━━━━\u001B[0m \u001B[32m664.8/664.8 MB\u001B[0m \u001B[31m1.3 MB/s\u001B[0m eta \u001B[36m0:00:00\u001B[0m\n",
      "\u001B[2K   \u001B[90m━━━━━━━━━━━━━━━━━━━━━━━━━━━━━━━━━━━━━━━━\u001B[0m \u001B[32m211.5/211.5 MB\u001B[0m \u001B[31m9.9 MB/s\u001B[0m eta \u001B[36m0:00:00\u001B[0m\n",
      "\u001B[2K   \u001B[90m━━━━━━━━━━━━━━━━━━━━━━━━━━━━━━━━━━━━━━━━\u001B[0m \u001B[32m56.3/56.3 MB\u001B[0m \u001B[31m37.8 MB/s\u001B[0m eta \u001B[36m0:00:00\u001B[0m\n",
      "\u001B[2K   \u001B[90m━━━━━━━━━━━━━━━━━━━━━━━━━━━━━━━━━━━━━━━━\u001B[0m \u001B[32m127.9/127.9 MB\u001B[0m \u001B[31m16.8 MB/s\u001B[0m eta \u001B[36m0:00:00\u001B[0m\n",
      "\u001B[2K   \u001B[90m━━━━━━━━━━━━━━━━━━━━━━━━━━━━━━━━━━━━━━━━\u001B[0m \u001B[32m207.5/207.5 MB\u001B[0m \u001B[31m2.6 MB/s\u001B[0m eta \u001B[36m0:00:00\u001B[0m\n",
      "\u001B[2K   \u001B[90m━━━━━━━━━━━━━━━━━━━━━━━━━━━━━━━━━━━━━━━━\u001B[0m \u001B[32m21.1/21.1 MB\u001B[0m \u001B[31m100.4 MB/s\u001B[0m eta \u001B[36m0:00:00\u001B[0m\n",
      "\u001B[?25hCollecting captum\n",
      "  Downloading captum-0.8.0-py3-none-any.whl.metadata (26 kB)\n",
      "Downloading captum-0.8.0-py3-none-any.whl (1.4 MB)\n",
      "\u001B[2K   \u001B[90m━━━━━━━━━━━━━━━━━━━━━━━━━━━━━━━━━━━━━━━━\u001B[0m \u001B[32m1.4/1.4 MB\u001B[0m \u001B[31m20.6 MB/s\u001B[0m eta \u001B[36m0:00:00\u001B[0m\n",
      "\u001B[?25hInstalling collected packages: captum\n",
      "Successfully installed captum-0.8.0\n"
     ]
    }
   ],
   "source": [
    "import os\n",
    "\n",
    "workspace_dir = '/content/spam-detection'\n",
    "branch = 'master'\n",
    "current_dir = os.getcwd()\n",
    "if not os.path.exists(workspace_dir) and current_dir != workspace_dir:\n",
    "    !git clone https://github.com/RationalEar/spam-detection.git\n",
    "    os.chdir(workspace_dir)\n",
    "    !git checkout $branch\n",
    "    !ls -al\n",
    "    !pip install -q transformers==4.48.0 scikit-learn pandas numpy\n",
    "    !pip install -q torch --index-url https://download.pytorch.org/whl/cu126\n",
    "    !pip install captum --no-deps --ignore-installed\n",
    "else:\n",
    "    os.chdir(workspace_dir)\n",
    "    !git pull origin $branch"
   ]
  },
  {
   "cell_type": "code",
   "execution_count": 2,
   "id": "87a2076b8d05e020",
   "metadata": {
    "colab": {
     "base_uri": "https://localhost:8080/"
    },
    "id": "87a2076b8d05e020",
    "outputId": "ec3ebb2a-d41b-404d-a4aa-3ac57c2559f5"
   },
   "outputs": [
    {
     "output_type": "stream",
     "name": "stdout",
     "text": [
      "Mounted at /content/drive\n"
     ]
    }
   ],
   "source": [
    "### If running on Google Colab, mount Google Drive\n",
    "from google.colab import drive\n",
    "\n",
    "drive.mount('/content/drive')"
   ]
  },
  {
   "cell_type": "code",
   "execution_count": 3,
   "id": "871bf8d69f0dccd8",
   "metadata": {
    "colab": {
     "base_uri": "https://localhost:8080/"
    },
    "id": "871bf8d69f0dccd8",
    "outputId": "3e274a59-ab98-4330-f6f7-107e78edd6ab"
   },
   "outputs": [
    {
     "output_type": "stream",
     "name": "stdout",
     "text": [
      "DATA_PATH: /content/drive/MyDrive/Projects/spam-detection-data\n",
      "WORKSPACE_DIR: /content/spam-detection\n"
     ]
    }
   ],
   "source": [
    "import pandas as pd\n",
    "from utils.functions import set_seed\n",
    "from utils.constants import DATA_PATH, MODEL_SAVE_PATH\n",
    "\n",
    "set_seed(42)"
   ]
  },
  {
   "cell_type": "markdown",
   "id": "d1a1ef7e74c4118f",
   "metadata": {
    "id": "d1a1ef7e74c4118f"
   },
   "source": [
    "#### Load the preprocessed data"
   ]
  },
  {
   "cell_type": "code",
   "execution_count": 4,
   "id": "ed2917b74e95c383",
   "metadata": {
    "colab": {
     "base_uri": "https://localhost:8080/",
     "height": 380
    },
    "id": "ed2917b74e95c383",
    "outputId": "55751d87-4f37-4f19-f976-388971ad5df6"
   },
   "outputs": [
    {
     "output_type": "execute_result",
     "data": {
      "text/plain": [
       "                                        subject  \\\n",
       "0    Personal Finance: Resolutions You Can Keep   \n",
       "1      Please help a newbie compile mplayer :-)   \n",
       "2  Re: Please help a newbie compile mplayer :-)   \n",
       "3  Re: Please help a newbie compile mplayer :-)   \n",
       "4  Re: Please help a newbie compile mplayer :-)   \n",
       "\n",
       "                                                text  label    source  \\\n",
       "0  personal finance resolutions you keep motley f...      0  hard_ham   \n",
       "1  please help newbie compile mplayer hello i jus...      0  easy_ham   \n",
       "2  re please help newbie compile mplayer make sur...      0  easy_ham   \n",
       "3  re please help newbie compile mplayer lance wr...      0  easy_ham   \n",
       "4  re please help newbie compile mplayer once upo...      0  easy_ham   \n",
       "\n",
       "                                         sender_hash  \\\n",
       "0  bb339a04eb35de16f6386c5ca0d57fd88b20916663bd84...   \n",
       "1  2f890790e67625bdfd8e3c7cca018bf511c2cbca431554...   \n",
       "2  d83f5738686fa88436e12f3710c15b270666e3061ba627...   \n",
       "3  2f890790e67625bdfd8e3c7cca018bf511c2cbca431554...   \n",
       "4  f9579e33dbc2d625e2ba35d53c611b8c3bd09cca4c7760...   \n",
       "\n",
       "                                       reply_to_hash  \\\n",
       "0  3d0448fc6a4d02914e3adf6812ede7310a82838909afac...   \n",
       "1  492368811b79453838d5e7e3692f607adee8d7e71ddd2e...   \n",
       "2  492368811b79453838d5e7e3692f607adee8d7e71ddd2e...   \n",
       "3  492368811b79453838d5e7e3692f607adee8d7e71ddd2e...   \n",
       "4  492368811b79453838d5e7e3692f607adee8d7e71ddd2e...   \n",
       "\n",
       "                              date  \n",
       "0  Wed, 02 Jan 2002 13:55:00 -0500  \n",
       "1  Thu, 31 Jan 2002 22:44:14 -0700  \n",
       "2  Fri, 01 Feb 2002 00:53:41 -0600  \n",
       "3  Fri, 01 Feb 2002 02:01:44 -0700  \n",
       "4  Fri, 01 Feb 2002 10:29:23 +0100  "
      ],
      "text/html": [
       "\n",
       "  <div id=\"df-fce60f4c-d5fc-4969-ae24-c915c6c71e30\" class=\"colab-df-container\">\n",
       "    <div>\n",
       "<style scoped>\n",
       "    .dataframe tbody tr th:only-of-type {\n",
       "        vertical-align: middle;\n",
       "    }\n",
       "\n",
       "    .dataframe tbody tr th {\n",
       "        vertical-align: top;\n",
       "    }\n",
       "\n",
       "    .dataframe thead th {\n",
       "        text-align: right;\n",
       "    }\n",
       "</style>\n",
       "<table border=\"1\" class=\"dataframe\">\n",
       "  <thead>\n",
       "    <tr style=\"text-align: right;\">\n",
       "      <th></th>\n",
       "      <th>subject</th>\n",
       "      <th>text</th>\n",
       "      <th>label</th>\n",
       "      <th>source</th>\n",
       "      <th>sender_hash</th>\n",
       "      <th>reply_to_hash</th>\n",
       "      <th>date</th>\n",
       "    </tr>\n",
       "  </thead>\n",
       "  <tbody>\n",
       "    <tr>\n",
       "      <th>0</th>\n",
       "      <td>Personal Finance: Resolutions You Can Keep</td>\n",
       "      <td>personal finance resolutions you keep motley f...</td>\n",
       "      <td>0</td>\n",
       "      <td>hard_ham</td>\n",
       "      <td>bb339a04eb35de16f6386c5ca0d57fd88b20916663bd84...</td>\n",
       "      <td>3d0448fc6a4d02914e3adf6812ede7310a82838909afac...</td>\n",
       "      <td>Wed, 02 Jan 2002 13:55:00 -0500</td>\n",
       "    </tr>\n",
       "    <tr>\n",
       "      <th>1</th>\n",
       "      <td>Please help a newbie compile mplayer :-)</td>\n",
       "      <td>please help newbie compile mplayer hello i jus...</td>\n",
       "      <td>0</td>\n",
       "      <td>easy_ham</td>\n",
       "      <td>2f890790e67625bdfd8e3c7cca018bf511c2cbca431554...</td>\n",
       "      <td>492368811b79453838d5e7e3692f607adee8d7e71ddd2e...</td>\n",
       "      <td>Thu, 31 Jan 2002 22:44:14 -0700</td>\n",
       "    </tr>\n",
       "    <tr>\n",
       "      <th>2</th>\n",
       "      <td>Re: Please help a newbie compile mplayer :-)</td>\n",
       "      <td>re please help newbie compile mplayer make sur...</td>\n",
       "      <td>0</td>\n",
       "      <td>easy_ham</td>\n",
       "      <td>d83f5738686fa88436e12f3710c15b270666e3061ba627...</td>\n",
       "      <td>492368811b79453838d5e7e3692f607adee8d7e71ddd2e...</td>\n",
       "      <td>Fri, 01 Feb 2002 00:53:41 -0600</td>\n",
       "    </tr>\n",
       "    <tr>\n",
       "      <th>3</th>\n",
       "      <td>Re: Please help a newbie compile mplayer :-)</td>\n",
       "      <td>re please help newbie compile mplayer lance wr...</td>\n",
       "      <td>0</td>\n",
       "      <td>easy_ham</td>\n",
       "      <td>2f890790e67625bdfd8e3c7cca018bf511c2cbca431554...</td>\n",
       "      <td>492368811b79453838d5e7e3692f607adee8d7e71ddd2e...</td>\n",
       "      <td>Fri, 01 Feb 2002 02:01:44 -0700</td>\n",
       "    </tr>\n",
       "    <tr>\n",
       "      <th>4</th>\n",
       "      <td>Re: Please help a newbie compile mplayer :-)</td>\n",
       "      <td>re please help newbie compile mplayer once upo...</td>\n",
       "      <td>0</td>\n",
       "      <td>easy_ham</td>\n",
       "      <td>f9579e33dbc2d625e2ba35d53c611b8c3bd09cca4c7760...</td>\n",
       "      <td>492368811b79453838d5e7e3692f607adee8d7e71ddd2e...</td>\n",
       "      <td>Fri, 01 Feb 2002 10:29:23 +0100</td>\n",
       "    </tr>\n",
       "  </tbody>\n",
       "</table>\n",
       "</div>\n",
       "    <div class=\"colab-df-buttons\">\n",
       "\n",
       "  <div class=\"colab-df-container\">\n",
       "    <button class=\"colab-df-convert\" onclick=\"convertToInteractive('df-fce60f4c-d5fc-4969-ae24-c915c6c71e30')\"\n",
       "            title=\"Convert this dataframe to an interactive table.\"\n",
       "            style=\"display:none;\">\n",
       "\n",
       "  <svg xmlns=\"http://www.w3.org/2000/svg\" height=\"24px\" viewBox=\"0 -960 960 960\">\n",
       "    <path d=\"M120-120v-720h720v720H120Zm60-500h600v-160H180v160Zm220 220h160v-160H400v160Zm0 220h160v-160H400v160ZM180-400h160v-160H180v160Zm440 0h160v-160H620v160ZM180-180h160v-160H180v160Zm440 0h160v-160H620v160Z\"/>\n",
       "  </svg>\n",
       "    </button>\n",
       "\n",
       "  <style>\n",
       "    .colab-df-container {\n",
       "      display:flex;\n",
       "      gap: 12px;\n",
       "    }\n",
       "\n",
       "    .colab-df-convert {\n",
       "      background-color: #E8F0FE;\n",
       "      border: none;\n",
       "      border-radius: 50%;\n",
       "      cursor: pointer;\n",
       "      display: none;\n",
       "      fill: #1967D2;\n",
       "      height: 32px;\n",
       "      padding: 0 0 0 0;\n",
       "      width: 32px;\n",
       "    }\n",
       "\n",
       "    .colab-df-convert:hover {\n",
       "      background-color: #E2EBFA;\n",
       "      box-shadow: 0px 1px 2px rgba(60, 64, 67, 0.3), 0px 1px 3px 1px rgba(60, 64, 67, 0.15);\n",
       "      fill: #174EA6;\n",
       "    }\n",
       "\n",
       "    .colab-df-buttons div {\n",
       "      margin-bottom: 4px;\n",
       "    }\n",
       "\n",
       "    [theme=dark] .colab-df-convert {\n",
       "      background-color: #3B4455;\n",
       "      fill: #D2E3FC;\n",
       "    }\n",
       "\n",
       "    [theme=dark] .colab-df-convert:hover {\n",
       "      background-color: #434B5C;\n",
       "      box-shadow: 0px 1px 3px 1px rgba(0, 0, 0, 0.15);\n",
       "      filter: drop-shadow(0px 1px 2px rgba(0, 0, 0, 0.3));\n",
       "      fill: #FFFFFF;\n",
       "    }\n",
       "  </style>\n",
       "\n",
       "    <script>\n",
       "      const buttonEl =\n",
       "        document.querySelector('#df-fce60f4c-d5fc-4969-ae24-c915c6c71e30 button.colab-df-convert');\n",
       "      buttonEl.style.display =\n",
       "        google.colab.kernel.accessAllowed ? 'block' : 'none';\n",
       "\n",
       "      async function convertToInteractive(key) {\n",
       "        const element = document.querySelector('#df-fce60f4c-d5fc-4969-ae24-c915c6c71e30');\n",
       "        const dataTable =\n",
       "          await google.colab.kernel.invokeFunction('convertToInteractive',\n",
       "                                                    [key], {});\n",
       "        if (!dataTable) return;\n",
       "\n",
       "        const docLinkHtml = 'Like what you see? Visit the ' +\n",
       "          '<a target=\"_blank\" href=https://colab.research.google.com/notebooks/data_table.ipynb>data table notebook</a>'\n",
       "          + ' to learn more about interactive tables.';\n",
       "        element.innerHTML = '';\n",
       "        dataTable['output_type'] = 'display_data';\n",
       "        await google.colab.output.renderOutput(dataTable, element);\n",
       "        const docLink = document.createElement('div');\n",
       "        docLink.innerHTML = docLinkHtml;\n",
       "        element.appendChild(docLink);\n",
       "      }\n",
       "    </script>\n",
       "  </div>\n",
       "\n",
       "\n",
       "    <div id=\"df-d43fdea6-080d-4108-8a5e-529e18fc916b\">\n",
       "      <button class=\"colab-df-quickchart\" onclick=\"quickchart('df-d43fdea6-080d-4108-8a5e-529e18fc916b')\"\n",
       "                title=\"Suggest charts\"\n",
       "                style=\"display:none;\">\n",
       "\n",
       "<svg xmlns=\"http://www.w3.org/2000/svg\" height=\"24px\"viewBox=\"0 0 24 24\"\n",
       "     width=\"24px\">\n",
       "    <g>\n",
       "        <path d=\"M19 3H5c-1.1 0-2 .9-2 2v14c0 1.1.9 2 2 2h14c1.1 0 2-.9 2-2V5c0-1.1-.9-2-2-2zM9 17H7v-7h2v7zm4 0h-2V7h2v10zm4 0h-2v-4h2v4z\"/>\n",
       "    </g>\n",
       "</svg>\n",
       "      </button>\n",
       "\n",
       "<style>\n",
       "  .colab-df-quickchart {\n",
       "      --bg-color: #E8F0FE;\n",
       "      --fill-color: #1967D2;\n",
       "      --hover-bg-color: #E2EBFA;\n",
       "      --hover-fill-color: #174EA6;\n",
       "      --disabled-fill-color: #AAA;\n",
       "      --disabled-bg-color: #DDD;\n",
       "  }\n",
       "\n",
       "  [theme=dark] .colab-df-quickchart {\n",
       "      --bg-color: #3B4455;\n",
       "      --fill-color: #D2E3FC;\n",
       "      --hover-bg-color: #434B5C;\n",
       "      --hover-fill-color: #FFFFFF;\n",
       "      --disabled-bg-color: #3B4455;\n",
       "      --disabled-fill-color: #666;\n",
       "  }\n",
       "\n",
       "  .colab-df-quickchart {\n",
       "    background-color: var(--bg-color);\n",
       "    border: none;\n",
       "    border-radius: 50%;\n",
       "    cursor: pointer;\n",
       "    display: none;\n",
       "    fill: var(--fill-color);\n",
       "    height: 32px;\n",
       "    padding: 0;\n",
       "    width: 32px;\n",
       "  }\n",
       "\n",
       "  .colab-df-quickchart:hover {\n",
       "    background-color: var(--hover-bg-color);\n",
       "    box-shadow: 0 1px 2px rgba(60, 64, 67, 0.3), 0 1px 3px 1px rgba(60, 64, 67, 0.15);\n",
       "    fill: var(--button-hover-fill-color);\n",
       "  }\n",
       "\n",
       "  .colab-df-quickchart-complete:disabled,\n",
       "  .colab-df-quickchart-complete:disabled:hover {\n",
       "    background-color: var(--disabled-bg-color);\n",
       "    fill: var(--disabled-fill-color);\n",
       "    box-shadow: none;\n",
       "  }\n",
       "\n",
       "  .colab-df-spinner {\n",
       "    border: 2px solid var(--fill-color);\n",
       "    border-color: transparent;\n",
       "    border-bottom-color: var(--fill-color);\n",
       "    animation:\n",
       "      spin 1s steps(1) infinite;\n",
       "  }\n",
       "\n",
       "  @keyframes spin {\n",
       "    0% {\n",
       "      border-color: transparent;\n",
       "      border-bottom-color: var(--fill-color);\n",
       "      border-left-color: var(--fill-color);\n",
       "    }\n",
       "    20% {\n",
       "      border-color: transparent;\n",
       "      border-left-color: var(--fill-color);\n",
       "      border-top-color: var(--fill-color);\n",
       "    }\n",
       "    30% {\n",
       "      border-color: transparent;\n",
       "      border-left-color: var(--fill-color);\n",
       "      border-top-color: var(--fill-color);\n",
       "      border-right-color: var(--fill-color);\n",
       "    }\n",
       "    40% {\n",
       "      border-color: transparent;\n",
       "      border-right-color: var(--fill-color);\n",
       "      border-top-color: var(--fill-color);\n",
       "    }\n",
       "    60% {\n",
       "      border-color: transparent;\n",
       "      border-right-color: var(--fill-color);\n",
       "    }\n",
       "    80% {\n",
       "      border-color: transparent;\n",
       "      border-right-color: var(--fill-color);\n",
       "      border-bottom-color: var(--fill-color);\n",
       "    }\n",
       "    90% {\n",
       "      border-color: transparent;\n",
       "      border-bottom-color: var(--fill-color);\n",
       "    }\n",
       "  }\n",
       "</style>\n",
       "\n",
       "      <script>\n",
       "        async function quickchart(key) {\n",
       "          const quickchartButtonEl =\n",
       "            document.querySelector('#' + key + ' button');\n",
       "          quickchartButtonEl.disabled = true;  // To prevent multiple clicks.\n",
       "          quickchartButtonEl.classList.add('colab-df-spinner');\n",
       "          try {\n",
       "            const charts = await google.colab.kernel.invokeFunction(\n",
       "                'suggestCharts', [key], {});\n",
       "          } catch (error) {\n",
       "            console.error('Error during call to suggestCharts:', error);\n",
       "          }\n",
       "          quickchartButtonEl.classList.remove('colab-df-spinner');\n",
       "          quickchartButtonEl.classList.add('colab-df-quickchart-complete');\n",
       "        }\n",
       "        (() => {\n",
       "          let quickchartButtonEl =\n",
       "            document.querySelector('#df-d43fdea6-080d-4108-8a5e-529e18fc916b button');\n",
       "          quickchartButtonEl.style.display =\n",
       "            google.colab.kernel.accessAllowed ? 'block' : 'none';\n",
       "        })();\n",
       "      </script>\n",
       "    </div>\n",
       "\n",
       "    </div>\n",
       "  </div>\n"
      ],
      "application/vnd.google.colaboratory.intrinsic+json": {
       "type": "dataframe",
       "variable_name": "train_df",
       "summary": "{\n  \"name\": \"train_df\",\n  \"rows\": 4837,\n  \"fields\": [\n    {\n      \"column\": \"subject\",\n      \"properties\": {\n        \"dtype\": \"string\",\n        \"num_unique_values\": 3327,\n        \"samples\": [\n          \"Scripting News Update\",\n          \"Repair your credit online!                 MNW\",\n          \"^^^^^Cell Phone Belt Clips $1.95^^^^^^                           18070\"\n        ],\n        \"semantic_type\": \"\",\n        \"description\": \"\"\n      }\n    },\n    {\n      \"column\": \"text\",\n      \"properties\": {\n        \"dtype\": \"string\",\n        \"num_unique_values\": 4488,\n        \"samples\": [\n          \"cnet digital dispatch mac zealots unite digital dispatch weekly newsletter all cnet web macworld 2002 new ipods bigger imac more dell squeezes pentiums notebooks microsoft sweetens mac office offer msn previews next net service future fuzzy adobe camera software more cnet news opera 6 04 filemaker pro 6 0v2 balls steel patch 1 3 marine aquarium 0 99 0 mac samsung ml 1430 laser printer hardware unitech 2u4u dmr 300 mp3 player electronics video explosion deluxe software sony ericsson t68 wireless july 18 2002 janice chen editor chief cnet reviews dear readers majority pc users may run windows microsoft t touch passion mac users bring computing week apple devotees gathered new york find what their guru steve jobs store them they not disappointed offerings ranging new imacs which continue push boundaries pc form factor updated ipods include more memory better menus compatibility windows read full coverage cnet s news com readers mourn gene kan 2ghz gocheck first 2ghz portable powerhouses dell winbook push performance envelope ibm thin light thinkpads fit t hp xe4500 last omnibooks most popular products notebooks 1 gateway 600xl 2 dell inspiron 2600 series 3 dell inspiron 8200 series 4 toshiba satellite 2400 s251 5 toshiba satellite 5105 s607 see all most popular notebooks pims side whatever happened straightforward dedicated pim pim contact managers ubiquitous outlook lotus pushed them sidelines few pims survived enforced obscurity you need plain pim doesn t cost fortune one these may tickle your fancy more software apple emac not just education anymore ideally suited students living small spaces home users basic needs emac attractive adequately speedy easy use pc without flat panel imac s relatively high price wondering whether go crt flat panel read our review more desktops read review check latest prices minidv maestro sony s dcr vx2000 gives prosumers versatile tool capturing high quality digital video three ccds smooth performance excellent low light capability camcorder meets demands avid videographers where lesser cameras fail more digital photo read review check latest prices cordless phones other wireless devices market new cordless phone don t know whether buy 900mhz 2 4ghz model which manufacturers offer best products no sweat check our new line coverage find phone fits your personal style needs more wireless phones readers mourn gene kan peer peer pioneer dies macworld kicks off manhattan paypal ebay merger not going well laura lindhe executive editor cnet tech trends 1 gene kan gnutella open source guru gene kan who died june 29 apparent suicide clearly beloved cnet community last week search requests information 25 year old kan far outweighed kind requests products companies i usually see pioneer peer peer space many credit him legitimizing file sharing making about more music according wired news 2 macworld annual apple lovefest new york always good show whether not steve jobs anything real announce far looks like apple already surprised few announcing release quicktime 6 0 see no 7 which many thought would get bogged down licensing quagmire 3 paypal s rocky road thus far ebay paypal deal soon after ebay announced buying paypal <CURRENCY> billion shareholders filed lawsuit claiming paypal s price tag low week paypal being subpoenaed new york attorney general regard its involvement online gambling transactions 4 wi fi i m just going leave common term 802 11 buzz meter permanently time wi fi getting interest because possible pact between tech heavyweights including intel t wireless verizon communications build wireless access places across nation public areas where people would want launch onto net airports 5 emac education only computer consumers wanted badly apple released them cnet review here s word emac what imac used basically s easy use fairly inexpensive computer users who don t need much besides word processing accessing web more buzz click here e mail address your subscription <EMAIL> unsubscribe manage my subscriptions faq advertise price comparisons product reviews tech news downloads all cnet services copyright 2002 cnet networks inc all rights reserved\",\n          \"adult ads\",\n          \"ilug anyone know how i could remove hdd password acer travelmate 201t hi folks i just taken delivery three acer travelmate laptops project we funded which now ended problem there hdd passwords them which i don t how could i overwrite these any ideas i limited technical monetry resources here new job t buying new hdds them any ideas dave <URL> irish linux users group <EMAIL> <URL> un subscription information list maintainer <EMAIL>\"\n        ],\n        \"semantic_type\": \"\",\n        \"description\": \"\"\n      }\n    },\n    {\n      \"column\": \"label\",\n      \"properties\": {\n        \"dtype\": \"number\",\n        \"std\": 0,\n        \"min\": 0,\n        \"max\": 1,\n        \"num_unique_values\": 2,\n        \"samples\": [\n          1,\n          0\n        ],\n        \"semantic_type\": \"\",\n        \"description\": \"\"\n      }\n    },\n    {\n      \"column\": \"source\",\n      \"properties\": {\n        \"dtype\": \"category\",\n        \"num_unique_values\": 5,\n        \"samples\": [\n          \"easy_ham\",\n          \"spam\"\n        ],\n        \"semantic_type\": \"\",\n        \"description\": \"\"\n      }\n    },\n    {\n      \"column\": \"sender_hash\",\n      \"properties\": {\n        \"dtype\": \"category\",\n        \"num_unique_values\": 2218,\n        \"samples\": [\n          \"535e754720b2ccb9a71974e97f457a9001b7f71efd218e9f07876c4d3825347d\",\n          \"c4f4fec763ac4d5ff97c7b33fcb05a8bf22767c58c31de5906d8065fd2e9ca8a\"\n        ],\n        \"semantic_type\": \"\",\n        \"description\": \"\"\n      }\n    },\n    {\n      \"column\": \"reply_to_hash\",\n      \"properties\": {\n        \"dtype\": \"category\",\n        \"num_unique_values\": 668,\n        \"samples\": [\n          \"9d18a0fec836badd68b6c32dece1cb4c19716b835bd0d41cd3f5763e7374ddfc\",\n          \"cde9cf5c498d40b027955264bfdc05c64e5db76bc00e230f10fea133c6d83b6c\"\n        ],\n        \"semantic_type\": \"\",\n        \"description\": \"\"\n      }\n    },\n    {\n      \"column\": \"date\",\n      \"properties\": {\n        \"dtype\": \"string\",\n        \"num_unique_values\": 4706,\n        \"samples\": [\n          \"Wed, 11 Sep 2002 11:25:50 -0700\",\n          \"Tue, 06 Aug 2002 00:25:19 -0700\"\n        ],\n        \"semantic_type\": \"\",\n        \"description\": \"\"\n      }\n    }\n  ]\n}"
      }
     },
     "metadata": {},
     "execution_count": 4
    }
   ],
   "source": [
    "train_df = pd.read_pickle(open(f\"{DATA_PATH}/data/processed/train.pkl\", \"rb\"))\n",
    "val_df = pd.read_pickle(open(f\"{DATA_PATH}/data/processed/val.pkl\", \"rb\"))\n",
    "test_df = pd.read_pickle(open(f\"{DATA_PATH}/data/processed/test.pkl\", \"rb\"))\n",
    "train_df.head()"
   ]
  },
  {
   "cell_type": "code",
   "execution_count": 5,
   "id": "8dfa7100d1eb2dc2",
   "metadata": {
    "id": "8dfa7100d1eb2dc2"
   },
   "outputs": [],
   "source": [
    "# Build vocabulary from training data\n",
    "from utils.functions import build_vocab\n",
    "\n",
    "word2idx, idx2word = build_vocab(train_df['text'])"
   ]
  },
  {
   "cell_type": "code",
   "execution_count": 6,
   "id": "b12756a36d887d07",
   "metadata": {
    "id": "b12756a36d887d07"
   },
   "outputs": [],
   "source": [
    "from preprocess.data_loader import load_glove_embeddings\n",
    "\n",
    "# Load GloVe embeddings\n",
    "GLOVE_PATH = os.path.join(DATA_PATH, 'data/raw/glove.6B/glove.6B.300d.txt')\n",
    "embedding_dim = 300\n",
    "max_len = 200\n",
    "pretrained_embeddings = load_glove_embeddings(GLOVE_PATH, word2idx, embedding_dim)"
   ]
  },
  {
   "cell_type": "markdown",
   "id": "ff29cc743092b71d",
   "metadata": {
    "id": "ff29cc743092b71d"
   },
   "source": [
    "#### Train the CNN model"
   ]
  },
  {
   "cell_type": "code",
   "execution_count": 7,
   "id": "434836550f56dacb",
   "metadata": {
    "colab": {
     "base_uri": "https://localhost:8080/"
    },
    "id": "434836550f56dacb",
    "outputId": "e054c894-60de-4c9a-d249-f2883d90b8f3"
   },
   "outputs": [
    {
     "output_type": "stream",
     "name": "stdout",
     "text": [
      "Epoch 1/50 - Train Loss: 0.3521, Val Loss: 0.1854\n",
      "Saved best model to /content/drive/MyDrive/Projects/spam-detection-data/trained-models/best_cnn_model.pt\n",
      "Epoch 2/50 - Train Loss: 0.1344, Val Loss: 0.1480\n",
      "Saved best model to /content/drive/MyDrive/Projects/spam-detection-data/trained-models/best_cnn_model.pt\n",
      "Epoch 3/50 - Train Loss: 0.0892, Val Loss: 0.1377\n",
      "Saved best model to /content/drive/MyDrive/Projects/spam-detection-data/trained-models/best_cnn_model.pt\n",
      "Epoch 4/50 - Train Loss: 0.0615, Val Loss: 0.1669\n",
      "Epoch 5/50 - Train Loss: 0.0466, Val Loss: 0.1692\n",
      "Epoch 6/50 - Train Loss: 0.0343, Val Loss: 0.2322\n",
      "Epoch 7/50 - Train Loss: 0.0310, Val Loss: 0.2303\n",
      "Epoch 8/50 - Train Loss: 0.0152, Val Loss: 0.2248\n",
      "Early stopping triggered after 8 epochs\n",
      "Final model saved to /content/drive/MyDrive/Projects/spam-detection-data/trained-models/spam_cnn_final.pt\n",
      "\n",
      "Evaluating on test set:\n",
      "              precision    recall  f1-score   support\n",
      "\n",
      "         0.0       0.98      0.96      0.97       415\n",
      "         1.0       0.91      0.96      0.93       191\n",
      "\n",
      "    accuracy                           0.96       606\n",
      "   macro avg       0.95      0.96      0.95       606\n",
      "weighted avg       0.96      0.96      0.96       606\n",
      "\n",
      "Confusion Matrix:\n",
      " [[397  18]\n",
      " [  8 183]]\n"
     ]
    }
   ],
   "source": [
    "from training.trainer import train_model\n",
    "\n",
    "start_time = pd.Timestamp.now()\n",
    "model = train_model('cnn', train_df, val_df, test_df, embedding_dim=embedding_dim, pretrained_embeddings=pretrained_embeddings,\n",
    "                model_save_path=MODEL_SAVE_PATH, max_len=max_len, evaluate=True)\n",
    "end_time = pd.Timestamp.now()"
   ]
  },
  {
   "cell_type": "code",
   "source": [
    "training_time = end_time - start_time\n",
    "print(f\"Training completed in: {training_time}\")"
   ],
   "metadata": {
    "id": "8_duVPpIzRDZ",
    "outputId": "4ecbf6a5-0864-4c19-9099-9d48fefc4f9b",
    "colab": {
     "base_uri": "https://localhost:8080/"
    }
   },
   "id": "8_duVPpIzRDZ",
   "execution_count": 8,
   "outputs": [
    {
     "output_type": "stream",
     "name": "stdout",
     "text": [
      "Training completed in: 0 days 00:00:13.512176\n"
     ]
    }
   ]
  }
 ],
 "metadata": {
  "colab": {
   "provenance": [],
   "gpuType": "A100"
  },
  "kernelspec": {
   "display_name": "Python 3",
   "name": "python3"
  },
  "language_info": {
   "codemirror_mode": {
    "name": "ipython",
    "version": 2
   },
   "file_extension": ".py",
   "mimetype": "text/x-python",
   "name": "python",
   "nbconvert_exporter": "python",
   "pygments_lexer": "ipython2",
   "version": "2.7.6"
  },
  "accelerator": "GPU"
 },
 "nbformat": 4,
 "nbformat_minor": 5
}
