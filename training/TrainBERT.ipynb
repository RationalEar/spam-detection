{
 "cells": [
  {
   "cell_type": "markdown",
   "id": "6b54208ff262a310",
   "metadata": {
    "id": "6b54208ff262a310"
   },
   "source": [
    "#### Environment Setup"
   ]
  },
  {
   "cell_type": "code",
   "execution_count": null,
   "id": "initial_id",
   "metadata": {
    "colab": {
     "base_uri": "https://localhost:8080/"
    },
    "collapsed": true,
    "id": "initial_id",
    "outputId": "927ee897-adbd-48d5-8572-d329737087a3"
   },
   "outputs": [],
   "source": [
    "import os\n",
    "\n",
    "workspace_dir = '/content/spam-detection'\n",
    "branch = 'feature/bert-training'\n",
    "current_dir = os.getcwd()\n",
    "if not os.path.exists(workspace_dir) and current_dir != workspace_dir:\n",
    "    !git clone https://github.com/RationalEar/spam-detection.git\n",
    "    os.chdir(workspace_dir)\n",
    "    !git checkout $branch\n",
    "    !ls -al\n",
    "    !pip install -q transformers==4.48.0 scikit-learn pandas numpy\n",
    "    !pip install -q torch --index-url https://download.pytorch.org/whl/cu126\n",
    "    !pip install captum --no-deps --ignore-installed\n",
    "else:\n",
    "    os.chdir(workspace_dir)\n",
    "    !git pull origin $branch"
   ]
  },
  {
   "cell_type": "code",
   "execution_count": null,
   "id": "87a2076b8d05e020",
   "metadata": {
    "colab": {
     "base_uri": "https://localhost:8080/"
    },
    "id": "87a2076b8d05e020",
    "outputId": "57206d5d-07ec-4043-fe67-301d1ebe06e9"
   },
   "outputs": [],
   "source": [
    "### If running on Google Colab, mount Google Drive\n",
    "from google.colab import drive\n",
    "\n",
    "drive.mount('/content/drive')"
   ]
  },
  {
   "cell_type": "code",
   "execution_count": null,
   "id": "871bf8d69f0dccd8",
   "metadata": {
    "id": "871bf8d69f0dccd8"
   },
   "outputs": [],
   "source": [
    "import pandas as pd\n",
    "from utils.functions import set_seed\n",
    "from utils.constants import DATA_PATH, MODEL_SAVE_PATH\n",
    "\n",
    "set_seed(42)"
   ]
  },
  {
   "cell_type": "markdown",
   "id": "d1a1ef7e74c4118f",
   "metadata": {
    "id": "d1a1ef7e74c4118f"
   },
   "source": [
    "#### Load the preprocessed data"
   ]
  },
  {
   "cell_type": "code",
   "execution_count": null,
   "id": "ed2917b74e95c383",
   "metadata": {
    "colab": {
     "base_uri": "https://localhost:8080/",
     "height": 695
    },
    "id": "ed2917b74e95c383",
    "outputId": "1b3379dc-732f-418e-ccfb-7e8272ee379d"
   },
   "outputs": [],
   "source": [
    "train_df = pd.read_pickle(open(f\"{DATA_PATH}/data/processed/train.pkl\", \"rb\"))\n",
    "val_df = pd.read_pickle(open(f\"{DATA_PATH}/data/processed/val.pkl\", \"rb\"))\n",
    "test_df = pd.read_pickle(open(f\"{DATA_PATH}/data/processed/test.pkl\", \"rb\"))\n",
    "train_df.head()"
   ]
  },
  {
   "cell_type": "code",
   "execution_count": null,
   "id": "8dfa7100d1eb2dc2",
   "metadata": {
    "id": "8dfa7100d1eb2dc2"
   },
   "outputs": [],
   "source": [
    "# Build vocabulary from training data\n",
    "from utils.functions import build_vocab\n",
    "\n",
    "word2idx, idx2word = build_vocab(train_df['text'])"
   ]
  },
  {
   "cell_type": "markdown",
   "id": "237708f7",
   "metadata": {},
   "source": [
    "#### BERT Model Configuration Verification\n",
    "\n",
    "The BERT model is configured with the following specifications:\n",
    "- **Base Model**: bert-base-uncased (12 layers, 768 hidden dim)\n",
    "- **Classification Head**: Added linear layer for spam detection\n",
    "- **Explainability**: Integrated gradients and attention analysis\n",
    "- **Regularization**:\n",
    "  - Dropout: p=0.2\n",
    "  - Label smoothing: ε=0.1  \n",
    "  - Gradient clipping: max norm=1.0\n",
    "- **Optimization**:\n",
    "  - Layer-wise learning rate decay (lower layers get lower LR)\n",
    "  - Base learning rate: 2e-5\n",
    "  - AdamW optimizer with weight decay\n",
    "- **Training**: End-to-end fine-tuning on spam detection task"
   ]
  },
  {
   "cell_type": "code",
   "execution_count": null,
   "id": "b12756a36d887d07",
   "metadata": {
    "id": "b12756a36d887d07"
   },
   "outputs": [],
   "source": [
    "# BERT uses its own pre-trained embeddings, no need for GloVe\n",
    "# Set parameters for BERT training\n",
    "embedding_dim = 768  # BERT hidden size\n",
    "max_len = 200\n",
    "pretrained_embeddings = None  # Not used for BERT"
   ]
  },
  {
   "cell_type": "markdown",
   "id": "ff29cc743092b71d",
   "metadata": {
    "id": "ff29cc743092b71d"
   },
   "source": [
    "#### Train the BERT model"
   ]
  },
  {
   "cell_type": "code",
   "execution_count": null,
   "id": "434836550f56dacb",
   "metadata": {
    "colab": {
     "base_uri": "https://localhost:8080/"
    },
    "id": "434836550f56dacb",
    "outputId": "b5d7f2c8-bbc2-422a-d411-b8e69970fd60"
   },
   "outputs": [],
   "source": [
    "from training.trainer import train_model\n",
    "start_time = pd.Timestamp.now()\n",
    "\n",
    "# Train BERT model with enhanced regularization\n",
    "model = train_model('bert', train_df, val_df, test_df, \n",
    "                   embedding_dim=embedding_dim, \n",
    "                   pretrained_embeddings=pretrained_embeddings,\n",
    "                   model_save_path=MODEL_SAVE_PATH, \n",
    "                   max_len=max_len, \n",
    "                   evaluate=True)\n",
    "end_time = pd.Timestamp.now()"
   ]
  },
  {
   "cell_type": "code",
   "execution_count": null,
   "id": "7c9ef3e87200eba8",
   "metadata": {
    "colab": {
     "base_uri": "https://localhost:8080/"
    },
    "id": "7c9ef3e87200eba8",
    "outputId": "dada5c51-e286-48d8-f371-72a3aa918eff"
   },
   "outputs": [],
   "source": [
    "training_time = end_time - start_time\n",
    "print(f\"Training completed in: {training_time}\")"
   ]
  }
 ],
 "metadata": {
  "accelerator": "GPU",
  "colab": {
   "gpuType": "A100",
   "provenance": []
  },
  "kernelspec": {
   "display_name": "Python 3",
   "name": "python3"
  },
  "language_info": {
   "codemirror_mode": {
    "name": "ipython",
    "version": 2
   },
   "file_extension": ".py",
   "mimetype": "text/x-python",
   "name": "python",
   "nbconvert_exporter": "python",
   "pygments_lexer": "ipython2",
   "version": "2.7.6"
  }
 },
 "nbformat": 4,
 "nbformat_minor": 5
}
